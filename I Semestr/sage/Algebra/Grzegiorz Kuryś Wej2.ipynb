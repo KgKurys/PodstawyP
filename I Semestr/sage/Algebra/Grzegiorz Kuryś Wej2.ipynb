{
 "cells": [
  {
   "cell_type": "code",
   "execution_count": 6,
   "id": "189aa42f-f3c9-4802-a9ce-133599b6799a",
   "metadata": {},
   "outputs": [
    {
     "data": {
      "text/html": [
       "<html>\\(\\displaystyle \\left(\\begin{array}{rrr|r}\n",
       "-1 & -2 & 4 & 4 \\\\\n",
       "2 & -1 & 3 & 2 \\\\\n",
       "4 & 1 & 2 & 1 \\\\\n",
       "3 & -4 & 1 & 3\n",
       "\\end{array}\\right)\\)</html>"
      ],
      "text/latex": [
       "$\\displaystyle \\left(\\begin{array}{rrr|r}\n",
       "-1 & -2 & 4 & 4 \\\\\n",
       "2 & -1 & 3 & 2 \\\\\n",
       "4 & 1 & 2 & 1 \\\\\n",
       "3 & -4 & 1 & 3\n",
       "\\end{array}\\right)$"
      ],
      "text/plain": [
       "[-1 -2  4| 4]\n",
       "[ 2 -1  3| 2]\n",
       "[ 4  1  2| 1]\n",
       "[ 3 -4  1| 3]"
      ]
     },
     "metadata": {},
     "output_type": "display_data"
    },
    {
     "data": {
      "text/html": [
       "<html>\\(\\displaystyle \\verb|r(U)=| 4\\)</html>"
      ],
      "text/latex": [
       "$\\displaystyle \\verb|r(U)=| 4$"
      ],
      "text/plain": [
       "'r(U)=' 4"
      ]
     },
     "metadata": {},
     "output_type": "display_data"
    },
    {
     "data": {
      "text/html": [
       "<html>\\(\\displaystyle \\verb|r(A)| 3\\)</html>"
      ],
      "text/latex": [
       "$\\displaystyle \\verb|r(A)| 3$"
      ],
      "text/plain": [
       "'r(A)' 3"
      ]
     },
     "metadata": {},
     "output_type": "display_data"
    }
   ],
   "source": [
    "#zad 1\n",
    "A = matrix(4,3,[-1,-2,4,2,-1,3,4,1,2,3,-4,1])\n",
    "B = matrix(4,1,[4,2,1,3])\n",
    "U = block_matrix([[A,B]])\n",
    "#show(A)\n",
    "#show(B)\n",
    "show(U)\n",
    "show(\"r(U)=\", rank(U))\n",
    "show(\"r(A)\", rank(A))\n",
    "\n",
    "# r(U) != r(A) układ sprzeczny"
   ]
  },
  {
   "cell_type": "code",
   "execution_count": 16,
   "id": "1b4f2448-07eb-4f1a-804b-82a87e59e01f",
   "metadata": {},
   "outputs": [
    {
     "data": {
      "text/html": [
       "<html>\\(\\displaystyle -\\frac{30 i}{5 \\, \\sqrt{29} + 14 i - 7}\\)</html>"
      ],
      "text/latex": [
       "$\\displaystyle -\\frac{30 i}{5 \\, \\sqrt{29} + 14 i - 7}$"
      ],
      "text/plain": [
       "-30*I/(5*sqrt(29) + 14*I - 7)"
      ]
     },
     "metadata": {},
     "output_type": "display_data"
    },
    {
     "data": {
      "text/html": [
       "<html>\\(\\displaystyle \\frac{15 i \\, \\sqrt{29}}{7 \\, \\sqrt{29} - 97} - \\frac{21 i - 42}{7 \\, \\sqrt{29} - 97}\\)</html>"
      ],
      "text/latex": [
       "$\\displaystyle \\frac{15 i \\, \\sqrt{29}}{7 \\, \\sqrt{29} - 97} - \\frac{21 i - 42}{7 \\, \\sqrt{29} - 97}$"
      ],
      "text/plain": [
       "15*I*sqrt(29)/(7*sqrt(29) - 97) - (21*I - 42)/(7*sqrt(29) - 97)"
      ]
     },
     "metadata": {},
     "output_type": "display_data"
    }
   ],
   "source": [
    "forget()\n",
    "z = 1 +(16*i)\n",
    "w = 23-(14*i)\n",
    "A = (i*w.imag_part() + z.conjugate()- z.real_part())/(z.imag_part() - w + abs(w))\n",
    "\n",
    "show(A.real_part()+i*A.imag_part())"
   ]
  },
  {
   "cell_type": "code",
   "execution_count": 15,
   "id": "d19e7df4-7a58-46e9-9a37-3ca769734171",
   "metadata": {},
   "outputs": [
    {
     "data": {
      "text/html": [
       "<html>\\(\\displaystyle -\\left(i - 2\\right) \\, y^{2} - \\left(2 i - 4\\right) \\, x + \\left(7 i - 3\\right) \\, y = \\left(-5 i + 9\\right)\\)</html>"
      ],
      "text/latex": [
       "$\\displaystyle -\\left(i - 2\\right) \\, y^{2} - \\left(2 i - 4\\right) \\, x + \\left(7 i - 3\\right) \\, y = \\left(-5 i + 9\\right)$"
      ],
      "text/plain": [
       "-(I - 2)*y^2 - (2*I - 4)*x + (7*I - 3)*y == (-5*I + 9)"
      ]
     },
     "metadata": {},
     "output_type": "display_data"
    },
    {
     "data": {
      "text/html": [
       "<html>\\(\\displaystyle \\verb|Lewa|\\verb| |\\verb|strona:| -\\left(i - 2\\right) \\, y^{2} - \\left(2 i - 4\\right) \\, x + \\left(7 i - 3\\right) \\, y\\)</html>"
      ],
      "text/latex": [
       "$\\displaystyle \\verb|Lewa|\\verb| |\\verb|strona:| -\\left(i - 2\\right) \\, y^{2} - \\left(2 i - 4\\right) \\, x + \\left(7 i - 3\\right) \\, y$"
      ],
      "text/plain": [
       "'Lewa strona: ' -(I - 2)*y^2 - (2*I - 4)*x + (7*I - 3)*y"
      ]
     },
     "metadata": {},
     "output_type": "display_data"
    },
    {
     "data": {
      "text/html": [
       "<html>\\(\\displaystyle \\verb|Prwawa|\\verb| |\\verb|strona:| -5 i + 9\\)</html>"
      ],
      "text/latex": [
       "$\\displaystyle \\verb|Prwawa|\\verb| |\\verb|strona:| -5 i + 9$"
      ],
      "text/plain": [
       "'Prwawa strona: ' -5*I + 9"
      ]
     },
     "metadata": {},
     "output_type": "display_data"
    },
    {
     "data": {
      "text/html": [
       "<html>\\(\\displaystyle \\left[2 \\, y^{2} + 4 \\, x - 3 \\, y = 9, -y^{2} - 2 \\, x + 7 \\, y = \\left(-5\\right)\\right]\\)</html>"
      ],
      "text/latex": [
       "$\\displaystyle \\left[2 \\, y^{2} + 4 \\, x - 3 \\, y = 9, -y^{2} - 2 \\, x + 7 \\, y = \\left(-5\\right)\\right]$"
      ],
      "text/plain": [
       "[2*y^2 + 4*x - 3*y == 9, -y^2 - 2*x + 7*y == -5]"
      ]
     },
     "metadata": {},
     "output_type": "display_data"
    },
    {
     "data": {
      "text/html": [
       "<html>\\(\\displaystyle \\left[\\left[x = \\left(\\frac{527}{242}\\right), y = \\left(-\\frac{1}{11}\\right)\\right]\\right]\\)</html>"
      ],
      "text/latex": [
       "$\\displaystyle \\left[\\left[x = \\left(\\frac{527}{242}\\right), y = \\left(-\\frac{1}{11}\\right)\\right]\\right]$"
      ],
      "text/plain": [
       "[[x == (527/242), y == (-1/11)]]"
      ]
     },
     "metadata": {},
     "output_type": "display_data"
    }
   ],
   "source": [
    "#zad 3\n",
    "forget()\n",
    "var(\"x, y\")\n",
    "assume(x,\"real\", y,\"real\")\n",
    "eq = (4-(2*i))*x-(3-(7*i))*y + (2 - i)*(y^2) == 9 - 5*i\n",
    "show(eq)\n",
    "show(\"Lewa strona: \", eq.lhs())\n",
    "show(\"Prwawa strona: \", eq.rhs())\n",
    "ukl = [eq.lhs().real_part()==eq.rhs().real_part(),eq.lhs().imag_part()==eq.rhs().imag_part()]\n",
    "show(ukl)\n",
    "show(solve(ukl,[x,y]))  "
   ]
  },
  {
   "cell_type": "code",
   "execution_count": null,
   "id": "b53f08cc-9151-439d-a08c-52d8da481420",
   "metadata": {},
   "outputs": [],
   "source": []
  }
 ],
 "metadata": {
  "kernelspec": {
   "display_name": "SageMath 10.4",
   "language": "sage",
   "name": "sagemath"
  },
  "language_info": {
   "codemirror_mode": {
    "name": "ipython",
    "version": 3
   },
   "file_extension": ".py",
   "mimetype": "text/x-python",
   "name": "python",
   "nbconvert_exporter": "python",
   "pygments_lexer": "ipython3",
   "version": "3.10.12"
  }
 },
 "nbformat": 4,
 "nbformat_minor": 5
}
