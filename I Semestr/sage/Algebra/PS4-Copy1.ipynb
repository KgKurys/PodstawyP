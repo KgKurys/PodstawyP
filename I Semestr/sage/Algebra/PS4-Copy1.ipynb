{
 "cells": [
  {
   "cell_type": "markdown",
   "metadata": {},
   "source": [
    "### Zadanie 1\n",
    "\n",
    "Wyznaczyć rząd macierzy\n",
    "\n",
    "\\begin{equation*}\n",
    "A =\n",
    "\\begin{bmatrix}\n",
    "5 & 28 & 1 & 4 & -5 & 1 & 0 \\\\\n",
    "0 & 0 & -3 & 0 & -1 & 1 & -2 \\\\\n",
    "41 & 1 & 1 & 0 & -1 & 0 & 0 \\\\\n",
    "1 & 0 & 4 & -1 & 2 & -11 & 1 \\\\\n",
    "0 & 0 & -1 & 4 & -6 & -2 & 0 \\\\\n",
    "1 & -1 & 13 & 1 & -2 & 1 & 1 \\\\\n",
    "-3 & -5 & 0 & -1 & 1 & -1 & 2\n",
    "\\end{bmatrix}\n",
    "\\end{equation*}\n",
    "\n"
   ]
  },
  {
   "cell_type": "code",
   "execution_count": 5,
   "metadata": {},
   "outputs": [
    {
     "data": {
      "text/html": [
       "<html><script type=\"math/tex; mode=display\">\\newcommand{\\Bold}[1]{\\mathbf{#1}}\\left(\\begin{array}{rrrrrrr}\n",
       "5 & 28 & 1 & 4 & -5 & 1 & 0 \\\\\n",
       "0 & 0 & -3 & 0 & -1 & 1 & -2 \\\\\n",
       "41 & 1 & 1 & 0 & -1 & 0 & 0 \\\\\n",
       "1 & 0 & 4 & -1 & 2 & -11 & 1 \\\\\n",
       "0 & 0 & -1 & 4 & -6 & -2 & 0 \\\\\n",
       "1 & -1 & 13 & 1 & -2 & 1 & 1 \\\\\n",
       "-3 & -5 & 0 & -1 & 1 & -1 & 2\n",
       "\\end{array}\\right)</script></html>"
      ],
      "text/latex": [
       "$$\\newcommand{\\Bold}[1]{\\mathbf{#1}}\\left(\\begin{array}{rrrrrrr}\n",
       "5 & 28 & 1 & 4 & -5 & 1 & 0 \\\\\n",
       "0 & 0 & -3 & 0 & -1 & 1 & -2 \\\\\n",
       "41 & 1 & 1 & 0 & -1 & 0 & 0 \\\\\n",
       "1 & 0 & 4 & -1 & 2 & -11 & 1 \\\\\n",
       "0 & 0 & -1 & 4 & -6 & -2 & 0 \\\\\n",
       "1 & -1 & 13 & 1 & -2 & 1 & 1 \\\\\n",
       "-3 & -5 & 0 & -1 & 1 & -1 & 2\n",
       "\\end{array}\\right)$$"
      ],
      "text/plain": [
       "[  5  28   1   4  -5   1   0]\n",
       "[  0   0  -3   0  -1   1  -2]\n",
       "[ 41   1   1   0  -1   0   0]\n",
       "[  1   0   4  -1   2 -11   1]\n",
       "[  0   0  -1   4  -6  -2   0]\n",
       "[  1  -1  13   1  -2   1   1]\n",
       "[ -3  -5   0  -1   1  -1   2]"
      ]
     },
     "metadata": {},
     "output_type": "display_data"
    },
    {
     "name": "stdout",
     "output_type": "stream",
     "text": [
      "rząd macierzy A wynosi\n"
     ]
    },
    {
     "data": {
      "text/plain": [
       "7"
      ]
     },
     "execution_count": 5,
     "metadata": {},
     "output_type": "execute_result"
    }
   ],
   "source": [
    "A = matrix(7,7,[5,28,1,4,-5,1,0,0,0,-3,0,-1,1,-2,41,1,1,0,-1,0,0,1,0,4,-1,2,-11,1,0,0,-1,4,-6,-2,0,1,-1,13,1,-2,1,1,-3,-5,0,-1,1,-1,2])\n",
    "show(A)\n",
    "print('rząd macierzy A wynosi')\n",
    "rank(A)"
   ]
  },
  {
   "cell_type": "markdown",
   "metadata": {},
   "source": [
    "### Zadanie 2\n",
    "Sprowadź macierz A do postaci schodkowej\n"
   ]
  },
  {
   "cell_type": "code",
   "execution_count": 6,
   "metadata": {},
   "outputs": [
    {
     "data": {
      "text/html": [
       "<html><script type=\"math/tex; mode=display\">\\newcommand{\\Bold}[1]{\\mathbf{#1}}\\left(\\begin{array}{rrrrrrr}\n",
       "1 & 0 & 0 & 0 & 0 & 0 & 1337692 \\\\\n",
       "0 & 1 & 0 & 0 & 0 & 0 & 376154 \\\\\n",
       "0 & 0 & 1 & 0 & 0 & 0 & 1591456 \\\\\n",
       "0 & 0 & 0 & 1 & 0 & 0 & 1062176 \\\\\n",
       "0 & 0 & 0 & 0 & 1 & 0 & 116097 \\\\\n",
       "0 & 0 & 0 & 0 & 0 & 1 & 980333 \\\\\n",
       "0 & 0 & 0 & 0 & 0 & 0 & 1955065\n",
       "\\end{array}\\right)</script></html>"
      ],
      "text/latex": [
       "$$\\newcommand{\\Bold}[1]{\\mathbf{#1}}\\left(\\begin{array}{rrrrrrr}\n",
       "1 & 0 & 0 & 0 & 0 & 0 & 1337692 \\\\\n",
       "0 & 1 & 0 & 0 & 0 & 0 & 376154 \\\\\n",
       "0 & 0 & 1 & 0 & 0 & 0 & 1591456 \\\\\n",
       "0 & 0 & 0 & 1 & 0 & 0 & 1062176 \\\\\n",
       "0 & 0 & 0 & 0 & 1 & 0 & 116097 \\\\\n",
       "0 & 0 & 0 & 0 & 0 & 1 & 980333 \\\\\n",
       "0 & 0 & 0 & 0 & 0 & 0 & 1955065\n",
       "\\end{array}\\right)$$"
      ],
      "text/plain": [
       "[      1       0       0       0       0       0 1337692]\n",
       "[      0       1       0       0       0       0  376154]\n",
       "[      0       0       1       0       0       0 1591456]\n",
       "[      0       0       0       1       0       0 1062176]\n",
       "[      0       0       0       0       1       0  116097]\n",
       "[      0       0       0       0       0       1  980333]\n",
       "[      0       0       0       0       0       0 1955065]"
      ]
     },
     "metadata": {},
     "output_type": "display_data"
    }
   ],
   "source": [
    "A.echelonize()\n",
    "show(A)"
   ]
  },
  {
   "cell_type": "markdown",
   "metadata": {},
   "source": [
    "### Zadanie 3\n",
    "Sprowadź podane macierze do postaci schodkowej i ustal ich rzędy\n",
    "\n",
    "a\\)  $\\left[\\begin{array}{rrrrr} 3&1&2&-1&7\\\\ 0&1&0&2&1\\\\ 3&2&2&1&8\\\\ 0&1&1&5&4\\\\ -3&-1&-1&4&2\\end{array}\\right]$\n",
    "\n",
    "b\\) $\\left[\\begin{array}{rrrr} 4&1&2&5\\\\ 0&1&3&4\\\\ 4&4&7&13\\\\ 4&1&-2&1\\\\ 8&5&5&14\\\\ -4&-1&2&-1\\end{array}\\right]$\n"
   ]
  },
  {
   "cell_type": "code",
   "execution_count": 7,
   "metadata": {},
   "outputs": [
    {
     "data": {
      "text/html": [
       "<html><script type=\"math/tex; mode=display\">\\newcommand{\\Bold}[1]{\\mathbf{#1}}\\left(\\begin{array}{rrrrr}\n",
       "3 & 0 & 0 & -9 & 0 \\\\\n",
       "0 & 1 & 0 & 2 & 1 \\\\\n",
       "0 & 0 & 1 & 3 & 3 \\\\\n",
       "0 & 0 & 0 & 0 & 6 \\\\\n",
       "0 & 0 & 0 & 0 & 0\n",
       "\\end{array}\\right) \\left(\\begin{array}{rrrr}\n",
       "4 & 0 & 3 & 5 \\\\\n",
       "0 & 1 & 3 & 4 \\\\\n",
       "0 & 0 & 4 & 4 \\\\\n",
       "0 & 0 & 0 & 0 \\\\\n",
       "0 & 0 & 0 & 0 \\\\\n",
       "0 & 0 & 0 & 0\n",
       "\\end{array}\\right)</script></html>"
      ],
      "text/latex": [
       "$$\\newcommand{\\Bold}[1]{\\mathbf{#1}}\\left(\\begin{array}{rrrrr}\n",
       "3 & 0 & 0 & -9 & 0 \\\\\n",
       "0 & 1 & 0 & 2 & 1 \\\\\n",
       "0 & 0 & 1 & 3 & 3 \\\\\n",
       "0 & 0 & 0 & 0 & 6 \\\\\n",
       "0 & 0 & 0 & 0 & 0\n",
       "\\end{array}\\right) \\left(\\begin{array}{rrrr}\n",
       "4 & 0 & 3 & 5 \\\\\n",
       "0 & 1 & 3 & 4 \\\\\n",
       "0 & 0 & 4 & 4 \\\\\n",
       "0 & 0 & 0 & 0 \\\\\n",
       "0 & 0 & 0 & 0 \\\\\n",
       "0 & 0 & 0 & 0\n",
       "\\end{array}\\right)$$"
      ],
      "text/plain": [
       "[ 3  0  0 -9  0]\n",
       "[ 0  1  0  2  1]\n",
       "[ 0  0  1  3  3]\n",
       "[ 0  0  0  0  6]\n",
       "[ 0  0  0  0  0] [4 0 3 5]\n",
       "[0 1 3 4]\n",
       "[0 0 4 4]\n",
       "[0 0 0 0]\n",
       "[0 0 0 0]\n",
       "[0 0 0 0]"
      ]
     },
     "metadata": {},
     "output_type": "display_data"
    },
    {
     "name": "stdout",
     "output_type": "stream",
     "text": [
      "rząd macierzy B:\n"
     ]
    },
    {
     "data": {
      "text/html": [
       "<html><script type=\"math/tex; mode=display\">\\newcommand{\\Bold}[1]{\\mathbf{#1}}4</script></html>"
      ],
      "text/latex": [
       "$$\\newcommand{\\Bold}[1]{\\mathbf{#1}}4$$"
      ],
      "text/plain": [
       "4"
      ]
     },
     "metadata": {},
     "output_type": "display_data"
    },
    {
     "name": "stdout",
     "output_type": "stream",
     "text": [
      "rząd macierzy C:\n"
     ]
    },
    {
     "data": {
      "text/plain": [
       "3"
      ]
     },
     "execution_count": 7,
     "metadata": {},
     "output_type": "execute_result"
    }
   ],
   "source": [
    "B = matrix(5,5,[3,1,2,-1,7,0,1,0,2,1,3,2,2,1,8,0,1,1,5,4,-3,-1,-1,4,2])\n",
    "C = matrix(6,4,[4,1,2,5,0,1,3,4,4,4,7,13,4,1,-2,1,8,5,5,14,-4,-1,2,-1])\n",
    "B.echelonize()\n",
    "C.echelonize()\n",
    "show(B,C)\n",
    "print('rząd macierzy B:')\n",
    "show(rank(B))\n",
    "print('rząd macierzy C:')\n",
    "rank(C)"
   ]
  },
  {
   "cell_type": "markdown",
   "metadata": {},
   "source": [
    "### Zadanie 4\n",
    "Korzystając z twierdzenia Kroneckera-Capellego przedyskutować liczbę rozwiązań podanego układu \n",
    "\n",
    "\\begin{equation*}\n",
    "    \\begin{cases}\n",
    "        3 x_{1} + 2 x_{3} -3 x_{4} = 2 \\\\\n",
    "        x_{2} + 2 x_{4} + x_{5} = 0 \\\\\n",
    "        - x_{1} + x_{3} + 2 x_{5} = 3\n",
    "    \\end{cases}\n",
    "\\end{equation*}\n",
    "\n"
   ]
  },
  {
   "cell_type": "code",
   "execution_count": 2,
   "metadata": {},
   "outputs": [
    {
     "data": {
      "text/html": [
       "<html>\\(\\displaystyle \\left(\\begin{array}{rrrrr|r}\n",
       "3 & 0 & 2 & -3 & 0 & 2 \\\\\n",
       "0 & 1 & 0 & 2 & 1 & 0 \\\\\n",
       "-1 & 0 & 1 & 0 & 2 & 3\n",
       "\\end{array}\\right)\\)</html>"
      ],
      "text/latex": [
       "$\\displaystyle \\left(\\begin{array}{rrrrr|r}\n",
       "3 & 0 & 2 & -3 & 0 & 2 \\\\\n",
       "0 & 1 & 0 & 2 & 1 & 0 \\\\\n",
       "-1 & 0 & 1 & 0 & 2 & 3\n",
       "\\end{array}\\right)$"
      ],
      "text/plain": [
       "[ 3  0  2 -3  0| 2]\n",
       "[ 0  1  0  2  1| 0]\n",
       "[-1  0  1  0  2| 3]"
      ]
     },
     "metadata": {},
     "output_type": "display_data"
    }
   ],
   "source": [
    "A = matrix(3,5,[3,0,2,-3,0,0,1,0,2,1,-1,0,1,0,2])\n",
    "B = matrix([[2],[0],[3]])\n",
    "U = block_matrix([[A,B]])\n",
    "show(U)"
   ]
  },
  {
   "cell_type": "code",
   "execution_count": 3,
   "metadata": {},
   "outputs": [
    {
     "data": {
      "text/html": [
       "<html>\\(\\displaystyle \\verb|r(U)=| 3\\)</html>"
      ],
      "text/latex": [
       "$\\displaystyle \\verb|r(U)=| 3$"
      ],
      "text/plain": [
       "'r(U)=' 3"
      ]
     },
     "metadata": {},
     "output_type": "display_data"
    }
   ],
   "source": [
    "show('r(U)=',rank(U))"
   ]
  },
  {
   "cell_type": "code",
   "execution_count": 4,
   "metadata": {},
   "outputs": [
    {
     "data": {
      "text/html": [
       "<html>\\(\\displaystyle \\verb|r(A)=| 3\\)</html>"
      ],
      "text/latex": [
       "$\\displaystyle \\verb|r(A)=| 3$"
      ],
      "text/plain": [
       "'r(A)=' 3"
      ]
     },
     "metadata": {},
     "output_type": "display_data"
    }
   ],
   "source": [
    "show('r(A)=',rank(A))"
   ]
  },
  {
   "cell_type": "code",
   "execution_count": 5,
   "metadata": {},
   "outputs": [
    {
     "data": {
      "text/html": [
       "<html>\\(\\displaystyle \\left(\\begin{array}{rrrrr|r}\n",
       "1 & 0 & 4 & -3 & 4 & 8 \\\\\n",
       "0 & 1 & 0 & 2 & 1 & 0 \\\\\n",
       "0 & 0 & 5 & -3 & 6 & 11\n",
       "\\end{array}\\right)\\)</html>"
      ],
      "text/latex": [
       "$\\displaystyle \\left(\\begin{array}{rrrrr|r}\n",
       "1 & 0 & 4 & -3 & 4 & 8 \\\\\n",
       "0 & 1 & 0 & 2 & 1 & 0 \\\\\n",
       "0 & 0 & 5 & -3 & 6 & 11\n",
       "\\end{array}\\right)$"
      ],
      "text/plain": [
       "[ 1  0  4 -3  4| 8]\n",
       "[ 0  1  0  2  1| 0]\n",
       "[ 0  0  5 -3  6|11]"
      ]
     },
     "metadata": {},
     "output_type": "display_data"
    }
   ],
   "source": [
    "U.echelonize()\n",
    "show(U)"
   ]
  },
  {
   "cell_type": "markdown",
   "metadata": {},
   "source": [
    "r\\(U\\)=3, r\\(A\\)=3, n=5. Zatem r\\(U\\)=r\\(A\\)&lt;n. Układ jest nieoznaczony, ma nieskończenie wiele rozwiązań zależnych od 2 parametrów.\n"
   ]
  },
  {
   "cell_type": "markdown",
   "metadata": {},
   "source": [
    "### Zadanie 5\n",
    "Rozwiązać przez polecenia SageMath omówiony już wyżej układ równań\n",
    "\n",
    "\\begin{equation*}\n",
    "    \\begin{cases}\n",
    "        3 x_{1} + 2 x_{3} -3 x_{4} = 2 \\\\\n",
    "        x_{2} + 2 x_{4} + x_{5} = 0 \\\\\n",
    "        - x_{1} + x_{3} + 2 x_{5} = 3\n",
    "    \\end{cases}\n",
    "\\end{equation*}\n",
    "\n"
   ]
  },
  {
   "cell_type": "code",
   "execution_count": 12,
   "metadata": {},
   "outputs": [
    {
     "data": {
      "text/html": [
       "<html><script type=\"math/tex; mode=display\">\\newcommand{\\Bold}[1]{\\mathbf{#1}}\\left[\\left[x_{1} = r_{2}, x_{2} = \\frac{5}{3} \\, r_{1} - \\frac{10}{3} \\, r_{2} - \\frac{8}{3}, x_{3} = -2 \\, r_{1} + r_{2} + 3, x_{4} = -\\frac{4}{3} \\, r_{1} + \\frac{5}{3} \\, r_{2} + \\frac{4}{3}, x_{5} = r_{1}\\right]\\right]</script></html>"
      ],
      "text/latex": [
       "$$\\newcommand{\\Bold}[1]{\\mathbf{#1}}\\left[\\left[x_{1} = r_{2}, x_{2} = \\frac{5}{3} \\, r_{1} - \\frac{10}{3} \\, r_{2} - \\frac{8}{3}, x_{3} = -2 \\, r_{1} + r_{2} + 3, x_{4} = -\\frac{4}{3} \\, r_{1} + \\frac{5}{3} \\, r_{2} + \\frac{4}{3}, x_{5} = r_{1}\\right]\\right]$$"
      ],
      "text/plain": [
       "[[x1 == r2, x2 == 5/3*r1 - 10/3*r2 - 8/3, x3 == -2*r1 + r2 + 3, x4 == -4/3*r1 + 5/3*r2 + 4/3, x5 == r1]]"
      ]
     },
     "metadata": {},
     "output_type": "display_data"
    }
   ],
   "source": [
    "x1,x2,x3,x4,x5 = var('x1,x2,x3,x4,x5')\n",
    "rozw=solve([3*x1+2*x3-3*x4==2,x2+2*x4+x5==0,-x1+x3+2*x5==3],[x1,x2,x3,x4,x5])\n",
    "show(rozw)"
   ]
  },
  {
   "cell_type": "markdown",
   "metadata": {},
   "source": [
    "### Zadanie 6\n",
    "Korzystając z twierdzenia Kroneckera-Capellego przedyskutować liczbę rozwiązań podanego układu \n",
    "\n",
    " $\\left\\{\\begin{array}{l} 4x+y=5\\\\ 2x-5y=-3\\\\ 3x+y=4\\\\ x+6y=2 \\end{array} \\right.$\n",
    "\n"
   ]
  },
  {
   "cell_type": "code",
   "execution_count": 13,
   "metadata": {},
   "outputs": [
    {
     "data": {
      "text/html": [
       "<html><script type=\"math/tex; mode=display\">\\newcommand{\\Bold}[1]{\\mathbf{#1}}\\left(\\begin{array}{rr|r}\n",
       "4 & 1 & 5 \\\\\n",
       "2 & -5 & -3 \\\\\n",
       "3 & 1 & 4 \\\\\n",
       "1 & 6 & 2\n",
       "\\end{array}\\right)</script></html>"
      ],
      "text/latex": [
       "$$\\newcommand{\\Bold}[1]{\\mathbf{#1}}\\left(\\begin{array}{rr|r}\n",
       "4 & 1 & 5 \\\\\n",
       "2 & -5 & -3 \\\\\n",
       "3 & 1 & 4 \\\\\n",
       "1 & 6 & 2\n",
       "\\end{array}\\right)$$"
      ],
      "text/plain": [
       "[ 4  1| 5]\n",
       "[ 2 -5|-3]\n",
       "[ 3  1| 4]\n",
       "[ 1  6| 2]"
      ]
     },
     "metadata": {},
     "output_type": "display_data"
    }
   ],
   "source": [
    "A = matrix(4,2,[4,1,2,-5,3,1,1,6])\n",
    "B = matrix([[5],[-3],[4],[2]])\n",
    "U = block_matrix([[A,B]])\n",
    "show(U)"
   ]
  },
  {
   "cell_type": "code",
   "execution_count": 14,
   "metadata": {},
   "outputs": [
    {
     "data": {
      "text/html": [
       "<html><script type=\"math/tex; mode=display\">\\newcommand{\\Bold}[1]{\\mathbf{#1}}\\left(\\begin{array}{rr|r}\n",
       "1 & 0 & 1 \\\\\n",
       "0 & 1 & 1 \\\\\n",
       "0 & 0 & 5 \\\\\n",
       "0 & 0 & 0\n",
       "\\end{array}\\right)</script></html>"
      ],
      "text/latex": [
       "$$\\newcommand{\\Bold}[1]{\\mathbf{#1}}\\left(\\begin{array}{rr|r}\n",
       "1 & 0 & 1 \\\\\n",
       "0 & 1 & 1 \\\\\n",
       "0 & 0 & 5 \\\\\n",
       "0 & 0 & 0\n",
       "\\end{array}\\right)$$"
      ],
      "text/plain": [
       "[1 0|1]\n",
       "[0 1|1]\n",
       "[0 0|5]\n",
       "[0 0|0]"
      ]
     },
     "metadata": {},
     "output_type": "display_data"
    }
   ],
   "source": [
    "U.echelonize()\n",
    "show(U)"
   ]
  },
  {
   "cell_type": "code",
   "execution_count": 15,
   "metadata": {},
   "outputs": [
    {
     "data": {
      "text/plain": [
       "3"
      ]
     },
     "execution_count": 15,
     "metadata": {},
     "output_type": "execute_result"
    }
   ],
   "source": [
    "rank(U)"
   ]
  },
  {
   "cell_type": "code",
   "execution_count": 16,
   "metadata": {},
   "outputs": [
    {
     "data": {
      "text/plain": [
       "2"
      ]
     },
     "execution_count": 16,
     "metadata": {},
     "output_type": "execute_result"
    }
   ],
   "source": [
    "rank(A)"
   ]
  },
  {
   "cell_type": "markdown",
   "metadata": {},
   "source": [
    "r(U)=3, r(A)=2, układ równań sprzeczny"
   ]
  },
  {
   "cell_type": "code",
   "execution_count": 17,
   "metadata": {},
   "outputs": [
    {
     "data": {
      "text/html": [
       "<html><script type=\"math/tex; mode=display\">\\newcommand{\\Bold}[1]{\\mathbf{#1}}\\left[\\right]</script></html>"
      ],
      "text/latex": [
       "$$\\newcommand{\\Bold}[1]{\\mathbf{#1}}\\left[\\right]$$"
      ],
      "text/plain": [
       "[]"
      ]
     },
     "metadata": {},
     "output_type": "display_data"
    }
   ],
   "source": [
    "x,y = var('x,y')\n",
    "rozw=solve([4*x+y==5,2*x-5*y==-3,3*x+y==4,x+6*y==2],[x,y])\n",
    "show(rozw)"
   ]
  },
  {
   "cell_type": "markdown",
   "metadata": {},
   "source": [
    "### Zadanie 7\n",
    "Korzystając z twierdzenia Kroneckera-Capellego przedyskutować liczbę rozwiązań podanego układu \n",
    "\n",
    "$\\left\\{\\begin{array}{l} x+y+z=0\\\\ 2x-y-z=-3\\\\ 4x-5y-3z=-7 \\end{array} \\right.$\n",
    "\n"
   ]
  },
  {
   "cell_type": "code",
   "execution_count": 18,
   "metadata": {},
   "outputs": [
    {
     "data": {
      "text/html": [
       "<html><script type=\"math/tex; mode=display\">\\newcommand{\\Bold}[1]{\\mathbf{#1}}\\left(\\begin{array}{rrr|r}\n",
       "1 & 1 & 1 & 0 \\\\\n",
       "2 & -1 & -1 & -3 \\\\\n",
       "4 & -5 & -3 & -7\n",
       "\\end{array}\\right)</script></html>"
      ],
      "text/latex": [
       "$$\\newcommand{\\Bold}[1]{\\mathbf{#1}}\\left(\\begin{array}{rrr|r}\n",
       "1 & 1 & 1 & 0 \\\\\n",
       "2 & -1 & -1 & -3 \\\\\n",
       "4 & -5 & -3 & -7\n",
       "\\end{array}\\right)$$"
      ],
      "text/plain": [
       "[ 1  1  1| 0]\n",
       "[ 2 -1 -1|-3]\n",
       "[ 4 -5 -3|-7]"
      ]
     },
     "metadata": {},
     "output_type": "display_data"
    }
   ],
   "source": [
    "A = matrix(3,3,[1,1,1,2,-1,-1,4,-5,-3])\n",
    "B = matrix([[0],[-3],[-7]])\n",
    "U = block_matrix([[A,B]])\n",
    "show(U)"
   ]
  },
  {
   "cell_type": "code",
   "execution_count": 19,
   "metadata": {},
   "outputs": [
    {
     "data": {
      "text/html": [
       "<html><script type=\"math/tex; mode=display\">\\newcommand{\\Bold}[1]{\\mathbf{#1}}\\left(\\begin{array}{rrr|r}\n",
       "1 & 1 & 1 & 0 \\\\\n",
       "0 & 3 & 1 & 1 \\\\\n",
       "0 & 0 & 2 & 2\n",
       "\\end{array}\\right)</script></html>"
      ],
      "text/latex": [
       "$$\\newcommand{\\Bold}[1]{\\mathbf{#1}}\\left(\\begin{array}{rrr|r}\n",
       "1 & 1 & 1 & 0 \\\\\n",
       "0 & 3 & 1 & 1 \\\\\n",
       "0 & 0 & 2 & 2\n",
       "\\end{array}\\right)$$"
      ],
      "text/plain": [
       "[1 1 1|0]\n",
       "[0 3 1|1]\n",
       "[0 0 2|2]"
      ]
     },
     "metadata": {},
     "output_type": "display_data"
    }
   ],
   "source": [
    "U.echelonize()\n",
    "show(U)"
   ]
  },
  {
   "cell_type": "code",
   "execution_count": 20,
   "metadata": {},
   "outputs": [
    {
     "data": {
      "text/plain": [
       "3"
      ]
     },
     "execution_count": 20,
     "metadata": {},
     "output_type": "execute_result"
    }
   ],
   "source": [
    "rank(U)"
   ]
  },
  {
   "cell_type": "code",
   "execution_count": 21,
   "metadata": {},
   "outputs": [
    {
     "data": {
      "text/plain": [
       "3"
      ]
     },
     "execution_count": 21,
     "metadata": {},
     "output_type": "execute_result"
    }
   ],
   "source": [
    "rank(A)"
   ]
  },
  {
   "cell_type": "markdown",
   "metadata": {},
   "source": [
    "r(U)=3, r(A)=3, n=3, czyli r(U)=r(A)=n. Układ równań jest oznaczony, posiada dokładnie jedno rozwiązanie.\n"
   ]
  },
  {
   "cell_type": "code",
   "execution_count": 22,
   "metadata": {},
   "outputs": [
    {
     "data": {
      "text/plain": [
       "[[x == -1, y == 0, z == 1]]"
      ]
     },
     "execution_count": 22,
     "metadata": {},
     "output_type": "execute_result"
    }
   ],
   "source": [
    "x,y,z = var('x,y,z')\n",
    "solve([x+y+z==0,2*x-y-z==-3,4*x-5*y-3*z==-7],[x,y,z])"
   ]
  },
  {
   "cell_type": "code",
   "execution_count": 23,
   "metadata": {},
   "outputs": [
    {
     "data": {
      "text/html": [
       "<html><script type=\"math/tex; mode=display\">\\newcommand{\\Bold}[1]{\\mathbf{#1}}\\left[\\left[x = \\left(-1\\right), y = 0, z = 1\\right]\\right]</script></html>"
      ],
      "text/latex": [
       "$$\\newcommand{\\Bold}[1]{\\mathbf{#1}}\\left[\\left[x = \\left(-1\\right), y = 0, z = 1\\right]\\right]$$"
      ],
      "text/plain": [
       "[[x == -1, y == 0, z == 1]]"
      ]
     },
     "metadata": {},
     "output_type": "display_data"
    }
   ],
   "source": [
    "x,y,z = var('x,y,z')\n",
    "rozw=solve([x+y+z==0,2*x-y-z==-3,4*x-5*y-3*z==-7],[x,y,z])\n",
    "show(rozw)"
   ]
  },
  {
   "cell_type": "markdown",
   "metadata": {},
   "source": [
    "### Zadanie 8\n",
    "Określić liczbę rozwiązań układu w zależności od parametru $a$\n",
    "\n",
    "$$\n",
    "\\left\\{\\begin{array}{l} x_1+2x_2+3x_3+x_4=1\\\\ 2x_1+x_2+2x_3-2x_4=7\\\\ x_1+x_2-2x_3+ax_4=0\\\\ 3x_1+2x_2+x_3+2x_4=1 \\end{array} \\right.\n",
    "$$"
   ]
  },
  {
   "cell_type": "code",
   "execution_count": 40,
   "metadata": {},
   "outputs": [
    {
     "data": {
      "text/html": [
       "<html><script type=\"math/tex; mode=display\">\\newcommand{\\Bold}[1]{\\mathbf{#1}}\\left(\\begin{array}{rrrr|r}\n",
       "1 & 2 & 3 & 1 & 1 \\\\\n",
       "2 & 1 & 2 & -2 & 7 \\\\\n",
       "1 & 1 & -2 & a & 0 \\\\\n",
       "3 & 2 & 1 & 2 & 1\n",
       "\\end{array}\\right)</script></html>"
      ],
      "text/latex": [
       "$$\\newcommand{\\Bold}[1]{\\mathbf{#1}}\\left(\\begin{array}{rrrr|r}\n",
       "1 & 2 & 3 & 1 & 1 \\\\\n",
       "2 & 1 & 2 & -2 & 7 \\\\\n",
       "1 & 1 & -2 & a & 0 \\\\\n",
       "3 & 2 & 1 & 2 & 1\n",
       "\\end{array}\\right)$$"
      ],
      "text/plain": [
       "[ 1  2  3  1| 1]\n",
       "[ 2  1  2 -2| 7]\n",
       "[ 1  1 -2  a| 0]\n",
       "[ 3  2  1  2| 1]"
      ]
     },
     "metadata": {},
     "output_type": "display_data"
    }
   ],
   "source": [
    "a=var('a')\n",
    "A = matrix(4,4,[1,2,3,1,2,1,2,-2,1,1,-2,a,3,2,1,2])\n",
    "B = matrix([[1],[7],[0],[1]])\n",
    "U = block_matrix([[A,B]])\n",
    "show(U)"
   ]
  },
  {
   "cell_type": "code",
   "execution_count": 25,
   "metadata": {},
   "outputs": [
    {
     "data": {
      "text/html": [
       "<html><script type=\"math/tex; mode=display\">\\newcommand{\\Bold}[1]{\\mathbf{#1}}\\left(\\begin{array}{rrrr|r}\n",
       "1 & 0 & 0 & 0 & -\\frac{74 \\, {\\left(a - 18\\right)}}{11 \\, {\\left(8 \\, a - 45\\right)}} + \\frac{45}{11} \\\\\n",
       "0 & 1 & 0 & 0 & -\\frac{296 \\, {\\left(a + 4\\right)}}{11 \\, {\\left(8 \\, a - 45\\right)}} - \\frac{29}{11} \\\\\n",
       "0 & 0 & 1 & 0 & \\frac{74 \\, {\\left(3 \\, a + 1\\right)}}{11 \\, {\\left(8 \\, a - 45\\right)}} + \\frac{8}{11} \\\\\n",
       "0 & 0 & 0 & 1 & \\frac{74}{8 \\, a - 45}\n",
       "\\end{array}\\right)</script></html>"
      ],
      "text/latex": [
       "$$\\newcommand{\\Bold}[1]{\\mathbf{#1}}\\left(\\begin{array}{rrrr|r}\n",
       "1 & 0 & 0 & 0 & -\\frac{74 \\, {\\left(a - 18\\right)}}{11 \\, {\\left(8 \\, a - 45\\right)}} + \\frac{45}{11} \\\\\n",
       "0 & 1 & 0 & 0 & -\\frac{296 \\, {\\left(a + 4\\right)}}{11 \\, {\\left(8 \\, a - 45\\right)}} - \\frac{29}{11} \\\\\n",
       "0 & 0 & 1 & 0 & \\frac{74 \\, {\\left(3 \\, a + 1\\right)}}{11 \\, {\\left(8 \\, a - 45\\right)}} + \\frac{8}{11} \\\\\n",
       "0 & 0 & 0 & 1 & \\frac{74}{8 \\, a - 45}\n",
       "\\end{array}\\right)$$"
      ],
      "text/plain": [
       "[                                 1                                  0                                  0                                  0|-74/11*(a - 18)/(8*a - 45) + 45/11]\n",
       "[                                 0                                  1                                  0                                  0|-296/11*(a + 4)/(8*a - 45) - 29/11]\n",
       "[                                 0                                  0                                  1                                  0| 74/11*(3*a + 1)/(8*a - 45) + 8/11]\n",
       "[                                 0                                  0                                  0                                  1|                     74/(8*a - 45)]"
      ]
     },
     "metadata": {},
     "output_type": "display_data"
    }
   ],
   "source": [
    "U.echelonize()\n",
    "show(U)"
   ]
  },
  {
   "cell_type": "markdown",
   "metadata": {},
   "source": [
    "dla $a=\\frac{45}{8}$układ jest sprzeczny, dla $a\\neq\\frac{45}{8}$ układ ma dokładnie jedno rozwiązanie."
   ]
  },
  {
   "cell_type": "markdown",
   "metadata": {},
   "source": [
    "### Zadanie 9\n",
    "Określić liczbę rozwiązań układu w zależności od parametru a\n",
    "\n",
    "$$\n",
    "\\left\\{\\begin{array}{l} x+y+2z+t=5\\\\ 2x+y-z+2t=a\\\\ 4x+y-7z+4t=5\\\\ 6x+y-13z+6t=5 \\end{array} \\right.\n",
    "$$"
   ]
  },
  {
   "cell_type": "code",
   "execution_count": 26,
   "metadata": {},
   "outputs": [
    {
     "data": {
      "text/html": [
       "<html><script type=\"math/tex; mode=display\">\\newcommand{\\Bold}[1]{\\mathbf{#1}}\\left(\\begin{array}{rrrr|r}\n",
       "1 & 1 & 2 & 1 & 5 \\\\\n",
       "2 & 1 & -1 & 2 & a \\\\\n",
       "4 & 1 & -7 & 4 & 5 \\\\\n",
       "6 & 1 & -13 & 6 & 5\n",
       "\\end{array}\\right)</script></html>"
      ],
      "text/latex": [
       "$$\\newcommand{\\Bold}[1]{\\mathbf{#1}}\\left(\\begin{array}{rrrr|r}\n",
       "1 & 1 & 2 & 1 & 5 \\\\\n",
       "2 & 1 & -1 & 2 & a \\\\\n",
       "4 & 1 & -7 & 4 & 5 \\\\\n",
       "6 & 1 & -13 & 6 & 5\n",
       "\\end{array}\\right)$$"
      ],
      "text/plain": [
       "[  1   1   2   1|  5]\n",
       "[  2   1  -1   2|  a]\n",
       "[  4   1  -7   4|  5]\n",
       "[  6   1 -13   6|  5]"
      ]
     },
     "metadata": {},
     "output_type": "display_data"
    }
   ],
   "source": [
    "a=var('a')\n",
    "A = matrix(4,4,[1,1,2,1,2,1,-1,2,4,1,-7,4,6,1,-13,6])\n",
    "B = matrix([[5],[a],[5],[5]])\n",
    "U = block_matrix([[A,B]])\n",
    "show(U)"
   ]
  },
  {
   "cell_type": "code",
   "execution_count": 27,
   "metadata": {},
   "outputs": [
    {
     "data": {
      "text/html": [
       "<html><script type=\"math/tex; mode=display\">\\newcommand{\\Bold}[1]{\\mathbf{#1}}\\left(\\begin{array}{rrrr|r}\n",
       "1 & 0 & -3 & 1 & 0 \\\\\n",
       "0 & 1 & 5 & 0 & 0 \\\\\n",
       "0 & 0 & 0 & 0 & 1 \\\\\n",
       "0 & 0 & 0 & 0 & 0\n",
       "\\end{array}\\right)</script></html>"
      ],
      "text/latex": [
       "$$\\newcommand{\\Bold}[1]{\\mathbf{#1}}\\left(\\begin{array}{rrrr|r}\n",
       "1 & 0 & -3 & 1 & 0 \\\\\n",
       "0 & 1 & 5 & 0 & 0 \\\\\n",
       "0 & 0 & 0 & 0 & 1 \\\\\n",
       "0 & 0 & 0 & 0 & 0\n",
       "\\end{array}\\right)$$"
      ],
      "text/plain": [
       "[ 1  0 -3  1| 0]\n",
       "[ 0  1  5  0| 0]\n",
       "[ 0  0  0  0| 1]\n",
       "[ 0  0  0  0| 0]"
      ]
     },
     "metadata": {},
     "output_type": "display_data"
    }
   ],
   "source": [
    "U.echelonize()\n",
    "show(U)"
   ]
  },
  {
   "cell_type": "markdown",
   "metadata": {},
   "source": [
    "?????? w powyższej macierzy schodkowej \"zniknął\" parametr a"
   ]
  },
  {
   "cell_type": "markdown",
   "metadata": {},
   "source": [
    "### Zadanie 10\n",
    "Wykonaj następujące rachunki w _odpowiednim_ ciele.\n",
    "\n",
    "a. $3 + 4 \\pmod{5}$  \n",
    "b. $2 \\cdot 4 \\pmod{5}$  \n",
    "c. $3 + \\left( 2 \\cdot 4 \\right) \\pmod{5}$  \n",
    "d. $41^{1024} \\pmod{13}$\n",
    "\n",
    "e. $12^{-1} \\pmod{29}$\n",
    "\n",
    "f. $4\\cdot 21^{−3} + 3^4\\cdot5 − 2^{−6} \\pmod{29}$"
   ]
  },
  {
   "cell_type": "code",
   "execution_count": 28,
   "metadata": {},
   "outputs": [
    {
     "data": {
      "text/plain": [
       "2"
      ]
     },
     "execution_count": 28,
     "metadata": {},
     "output_type": "execute_result"
    }
   ],
   "source": [
    "mod(3+4,5)"
   ]
  },
  {
   "cell_type": "code",
   "execution_count": 29,
   "metadata": {},
   "outputs": [
    {
     "data": {
      "text/plain": [
       "3"
      ]
     },
     "execution_count": 29,
     "metadata": {},
     "output_type": "execute_result"
    }
   ],
   "source": [
    "mod(2*4,5)"
   ]
  },
  {
   "cell_type": "code",
   "execution_count": 30,
   "metadata": {},
   "outputs": [
    {
     "data": {
      "text/plain": [
       "1"
      ]
     },
     "execution_count": 30,
     "metadata": {},
     "output_type": "execute_result"
    }
   ],
   "source": [
    "mod(3+2*4,5)"
   ]
  },
  {
   "cell_type": "code",
   "execution_count": 31,
   "metadata": {},
   "outputs": [
    {
     "data": {
      "text/plain": [
       "3"
      ]
     },
     "execution_count": 31,
     "metadata": {},
     "output_type": "execute_result"
    }
   ],
   "source": [
    "mod(41^1024,13)"
   ]
  },
  {
   "cell_type": "code",
   "execution_count": 32,
   "metadata": {},
   "outputs": [
    {
     "data": {
      "text/plain": [
       "3"
      ]
     },
     "execution_count": 32,
     "metadata": {},
     "output_type": "execute_result"
    }
   ],
   "source": [
    "41.powermod(1024,13)"
   ]
  },
  {
   "cell_type": "code",
   "execution_count": 33,
   "metadata": {},
   "outputs": [
    {
     "data": {
      "text/plain": [
       "17"
      ]
     },
     "execution_count": 33,
     "metadata": {},
     "output_type": "execute_result"
    }
   ],
   "source": [
    "mod(12^(-1),29)"
   ]
  },
  {
   "cell_type": "code",
   "execution_count": 34,
   "metadata": {},
   "outputs": [
    {
     "data": {
      "text/plain": [
       "6"
      ]
     },
     "execution_count": 34,
     "metadata": {},
     "output_type": "execute_result"
    }
   ],
   "source": [
    "mod(4*21^(-3)+3^4*5-2^(-6),29)"
   ]
  },
  {
   "cell_type": "markdown",
   "metadata": {},
   "source": [
    "### Zadanie 11\n",
    "W ciele $\\mathbb{Z}_{17}$ rozwiązać równania\n",
    "\n",
    "a) $9x=16$\n",
    "\n",
    "b) $-10x=11$"
   ]
  },
  {
   "cell_type": "code",
   "execution_count": 35,
   "metadata": {},
   "outputs": [
    {
     "data": {
      "text/plain": [
       "15"
      ]
     },
     "execution_count": 35,
     "metadata": {},
     "output_type": "execute_result"
    }
   ],
   "source": [
    "mod(9^-1*16,17)"
   ]
  },
  {
   "cell_type": "code",
   "execution_count": 36,
   "metadata": {},
   "outputs": [
    {
     "data": {
      "text/plain": [
       "15"
      ]
     },
     "execution_count": 36,
     "metadata": {},
     "output_type": "execute_result"
    }
   ],
   "source": [
    "mod(16/9,17)"
   ]
  },
  {
   "cell_type": "code",
   "execution_count": 37,
   "metadata": {},
   "outputs": [
    {
     "data": {
      "text/plain": [
       "4"
      ]
     },
     "execution_count": 37,
     "metadata": {},
     "output_type": "execute_result"
    }
   ],
   "source": [
    "mod(7^(-1)*11,17)"
   ]
  },
  {
   "cell_type": "code",
   "execution_count": 38,
   "metadata": {},
   "outputs": [
    {
     "data": {
      "text/plain": [
       "4"
      ]
     },
     "execution_count": 38,
     "metadata": {},
     "output_type": "execute_result"
    }
   ],
   "source": [
    "mod((-10)^-1*11,17)"
   ]
  },
  {
   "cell_type": "code",
   "execution_count": 39,
   "metadata": {},
   "outputs": [
    {
     "data": {
      "text/plain": [
       "4"
      ]
     },
     "execution_count": 39,
     "metadata": {},
     "output_type": "execute_result"
    }
   ],
   "source": [
    "mod(11/-10,17)"
   ]
  },
  {
   "cell_type": "markdown",
   "metadata": {},
   "source": [
    "### Zadania do samodzielnego wykonania:\n",
    "Korzystając z twierdzenia Kroneckera-Capellego przedyskutować liczbę rozwiązań podanego układu\n",
    "\n",
    "a) $\\left\\{ \\begin{array}{l} 3x_1-2x_2+5x_3+4x_4-2=0\\\\ 6x_1+4x_2+4x_3+3x_4-3=0\\\\\n",
    "\t9x_1-6x_2+3x_3+2x_4-4=0 \\end{array} \\right.$\n",
    "    \n",
    "b) $\\left\\{ \\begin{array}{l} x-2y+3z=14\\\\ 3x+y+2z=11\\\\ 2x+3y+z=11\n",
    "\\end{array} \\right.$\n",
    "\n",
    "c) $\\left\\{ \\begin{array}{l} 4x-y=7\\\\ 3x+y=14\\\\ 2x+3y=0 \\end{array} \\right.$"
   ]
  },
  {
   "cell_type": "markdown",
   "metadata": {},
   "source": [
    "Rozwiązania: a) układ nieoznaczony zależny od 1 parametru, b) układ oznaczony, c) układ sprzeczny"
   ]
  }
 ],
 "metadata": {
  "kernelspec": {
   "display_name": "SageMath 10.4",
   "language": "sage",
   "name": "sagemath"
  },
  "language_info": {
   "codemirror_mode": {
    "name": "ipython",
    "version": 3
   },
   "file_extension": ".py",
   "mimetype": "text/x-python",
   "name": "python",
   "nbconvert_exporter": "python",
   "pygments_lexer": "ipython3",
   "version": "3.10.12"
  }
 },
 "nbformat": 4,
 "nbformat_minor": 4
}
