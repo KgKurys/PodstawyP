{
 "cells": [
  {
   "cell_type": "markdown",
   "metadata": {},
   "source": [
    "## Liczby zespolone"
   ]
  },
  {
   "cell_type": "markdown",
   "metadata": {},
   "source": [
    "### Zadanie 1\n",
    "---\n",
    "a) Oblicz \n",
    "\n",
    "$\\overline{z}$, $\\mathrm{Re\\,}z$, $\\mathrm{Im\\,}z$, $|z|$, $\\arg z$, $z^{20}$, \n",
    "\n",
    "jeżeli $z=-1+i\\sqrt{3}$."
   ]
  },
  {
   "cell_type": "code",
   "execution_count": 10,
   "metadata": {},
   "outputs": [
    {
     "data": {
      "text/html": [
       "<html>\\(\\displaystyle i \\, \\sqrt{3} - 1\\)</html>"
      ],
      "text/latex": [
       "$\\displaystyle i \\, \\sqrt{3} - 1$"
      ],
      "text/plain": [
       "I*sqrt(3) - 1"
      ]
     },
     "metadata": {},
     "output_type": "display_data"
    },
    {
     "data": {
      "text/html": [
       "<html>\\(\\displaystyle -i \\, \\sqrt{3} - 1\\)</html>"
      ],
      "text/latex": [
       "$\\displaystyle -i \\, \\sqrt{3} - 1$"
      ],
      "text/plain": [
       "-I*sqrt(3) - 1"
      ]
     },
     "metadata": {},
     "output_type": "display_data"
    },
    {
     "data": {
      "text/html": [
       "<html>\\(\\displaystyle -1\\)</html>"
      ],
      "text/latex": [
       "$\\displaystyle -1$"
      ],
      "text/plain": [
       "-1"
      ]
     },
     "metadata": {},
     "output_type": "display_data"
    },
    {
     "data": {
      "text/html": [
       "<html>\\(\\displaystyle \\sqrt{3}\\)</html>"
      ],
      "text/latex": [
       "$\\displaystyle \\sqrt{3}$"
      ],
      "text/plain": [
       "sqrt(3)"
      ]
     },
     "metadata": {},
     "output_type": "display_data"
    },
    {
     "data": {
      "text/html": [
       "<html>\\(\\displaystyle 2\\)</html>"
      ],
      "text/latex": [
       "$\\displaystyle 2$"
      ],
      "text/plain": [
       "2"
      ]
     },
     "metadata": {},
     "output_type": "display_data"
    },
    {
     "data": {
      "text/html": [
       "<html>\\(\\displaystyle \\frac{2}{3} \\, \\pi\\)</html>"
      ],
      "text/latex": [
       "$\\displaystyle \\frac{2}{3} \\, \\pi$"
      ],
      "text/plain": [
       "2/3*pi"
      ]
     },
     "metadata": {},
     "output_type": "display_data"
    },
    {
     "data": {
      "text/html": [
       "<html>\\(\\displaystyle -524288 i \\, \\sqrt{3} - 524288\\)</html>"
      ],
      "text/latex": [
       "$\\displaystyle -524288 i \\, \\sqrt{3} - 524288$"
      ],
      "text/plain": [
       "-524288*I*sqrt(3) - 524288"
      ]
     },
     "metadata": {},
     "output_type": "display_data"
    },
    {
     "data": {
      "text/html": [
       "<html>\\(\\displaystyle -524288 i \\, \\sqrt{3} - 524288\\)</html>"
      ],
      "text/latex": [
       "$\\displaystyle -524288 i \\, \\sqrt{3} - 524288$"
      ],
      "text/plain": [
       "-524288*I*sqrt(3) - 524288"
      ]
     },
     "metadata": {},
     "output_type": "display_data"
    }
   ],
   "source": [
    "z = -1 + i*sqrt(3)\n",
    "show(z)\n",
    "show(z.conjugate()) #sprzezenie z\n",
    "show(z.real_part()) # czesc rzeczywista\n",
    "show(z.imag_part()) #czesc urojona\n",
    "show(abs(z).simplify()) # modlul liczby zespolone\n",
    "show(arg(z).simplify()) #argument\n",
    "show((z^20).full_simplify())#z do 20\n",
    "show((z^20).expand())\n",
    "\n"
   ]
  },
  {
   "cell_type": "markdown",
   "metadata": {},
   "source": [
    "b) Oblicz $z_1 z_2$ i $\\displaystyle\\frac{z_1}{z_2}$, \n",
    "\n",
    "jeżeli $\\displaystyle z_1=\\sqrt{2}e^{i\\pi/7}$, $z_2=\\displaystyle\\sqrt{3}e^{i\\pi/9}$"
   ]
  },
  {
   "cell_type": "code",
   "execution_count": 12,
   "metadata": {},
   "outputs": [
    {
     "data": {
      "text/html": [
       "<html>\\(\\displaystyle \\sqrt{3} \\sqrt{2} e^{\\left(\\frac{16}{63} i \\, \\pi\\right)}\\)</html>"
      ],
      "text/latex": [
       "$\\displaystyle \\sqrt{3} \\sqrt{2} e^{\\left(\\frac{16}{63} i \\, \\pi\\right)}$"
      ],
      "text/plain": [
       "sqrt(3)*sqrt(2)*e^(16/63*I*pi)"
      ]
     },
     "metadata": {},
     "output_type": "display_data"
    },
    {
     "data": {
      "text/html": [
       "<html>\\(\\displaystyle \\frac{1}{3} \\, \\sqrt{3} \\sqrt{2} e^{\\left(\\frac{2}{63} i \\, \\pi\\right)}\\)</html>"
      ],
      "text/latex": [
       "$\\displaystyle \\frac{1}{3} \\, \\sqrt{3} \\sqrt{2} e^{\\left(\\frac{2}{63} i \\, \\pi\\right)}$"
      ],
      "text/plain": [
       "1/3*sqrt(3)*sqrt(2)*e^(2/63*I*pi)"
      ]
     },
     "metadata": {},
     "output_type": "display_data"
    }
   ],
   "source": [
    "z1 = sqrt(2)*exp(i*pi/7)\n",
    "z2 = sqrt(3)*exp(i*pi/9)\n",
    "A = z1*z2\n",
    "B = z1/z2\n",
    "show(A)\n",
    "show(B)"
   ]
  },
  {
   "cell_type": "markdown",
   "metadata": {},
   "source": [
    "### Zadanie 2\n",
    "---\n",
    "Oblicz (wynik przedstaw w postaci algebraicznej)\n",
    "\n",
    "$z\\overline{w}$, $\\displaystyle\\frac{z^2}{\\overline{w}}$, $\\displaystyle\\frac{iz-|w|}{z-iw}$, $\\displaystyle\\frac{\\mathrm{Re\\,}z+i\\mathrm{Im\\,}w}{|z|-\\overline{w}}$, \n",
    "\n",
    "jeżeli $z=3-4i$, $w=5+12i$."
   ]
  },
  {
   "cell_type": "code",
   "execution_count": 19,
   "metadata": {},
   "outputs": [
    {
     "data": {
      "text/html": [
       "<html>\\(\\displaystyle -56 i - 33\\)</html>"
      ],
      "text/latex": [
       "$\\displaystyle -56 i - 33$"
      ],
      "text/plain": [
       "-56*I - 33"
      ]
     },
     "metadata": {},
     "output_type": "display_data"
    },
    {
     "data": {
      "text/html": [
       "<html>\\(\\displaystyle -\\frac{204}{169} i + \\frac{253}{169}\\)</html>"
      ],
      "text/latex": [
       "$\\displaystyle -\\frac{204}{169} i + \\frac{253}{169}$"
      ],
      "text/plain": [
       "-204/169*I + 253/169"
      ]
     },
     "metadata": {},
     "output_type": "display_data"
    },
    {
     "data": {
      "text/html": [
       "<html>\\(\\displaystyle -\\frac{2}{17} i - \\frac{9}{17}\\)</html>"
      ],
      "text/latex": [
       "$\\displaystyle -\\frac{2}{17} i - \\frac{9}{17}$"
      ],
      "text/plain": [
       "-2/17*I - 9/17"
      ]
     },
     "metadata": {},
     "output_type": "display_data"
    },
    {
     "data": {
      "text/html": [
       "<html>\\(\\displaystyle -\\frac{1}{4} i + 1\\)</html>"
      ],
      "text/latex": [
       "$\\displaystyle -\\frac{1}{4} i + 1$"
      ],
      "text/plain": [
       "-1/4*I + 1"
      ]
     },
     "metadata": {},
     "output_type": "display_data"
    }
   ],
   "source": [
    "z = 3-4*i\n",
    "w = 5+12*i\n",
    "show(z*w.conjugate())\n",
    "show((z^2)/(w.conjugate()))\n",
    "show((i*z - abs(w))/(z - i*w))\n",
    "show((z.real_part()+i*w.imag_part())/(abs(z)-w.conjugate()))"
   ]
  },
  {
   "cell_type": "markdown",
   "metadata": {},
   "source": [
    "### Zadanie 3\n",
    "---\n",
    "Oblicz (wynik przedstaw w postaci algebraicznej)\n",
    "\n",
    "$\\displaystyle\\frac{\\overline{z}+\\mathrm{Im\\,}z+i\\mathrm{Im\\,}w}{|z|-\\overline{w}}$, \n",
    "\n",
    "jeżeli $z=30-4i$, $w=50+12i$."
   ]
  },
  {
   "cell_type": "code",
   "execution_count": 23,
   "metadata": {},
   "outputs": [
    {
     "data": {
      "text/html": [
       "<html>\\(\\displaystyle -\\frac{\\left(8 i + 13\\right) \\, \\sqrt{229}}{10 \\, {\\left(5 \\, \\sqrt{229} - 89\\right)}} + \\frac{40 i + 65}{2 \\, {\\left(5 \\, \\sqrt{229} - 89\\right)}} - \\frac{78 i - 48}{-50 \\, \\sqrt{229} + 890}\\)</html>"
      ],
      "text/latex": [
       "$\\displaystyle -\\frac{\\left(8 i + 13\\right) \\, \\sqrt{229}}{10 \\, {\\left(5 \\, \\sqrt{229} - 89\\right)}} + \\frac{40 i + 65}{2 \\, {\\left(5 \\, \\sqrt{229} - 89\\right)}} - \\frac{78 i - 48}{-50 \\, \\sqrt{229} + 890}$"
      ],
      "text/plain": [
       "-(4/5*I + 13/10)*sqrt(229)/(5*sqrt(229) - 89) + (20*I + 65/2)/(5*sqrt(229) - 89) - (78*I - 48)/(-50*sqrt(229) + 890)"
      ]
     },
     "metadata": {},
     "output_type": "display_data"
    }
   ],
   "source": [
    "z = 30 -4*i\n",
    "w = 50 + 12*I\n",
    "A = ((z.conjugate() + z.imag_part()+i*w.imag_part())/(abs(z)-w.conjugate()))\n",
    "show(A.real_part()+i*A.imag_part())\n"
   ]
  },
  {
   "cell_type": "markdown",
   "metadata": {},
   "source": [
    "### Zadanie 4\n",
    "---\n",
    "Znajdź liczby rzeczywiste $x,y$ spełniające równanie:\n",
    "\n",
    "a) $(3-i)x^2-(3+2i)x-(1-i)y=13-10i;$"
   ]
  },
  {
   "cell_type": "code",
   "execution_count": 31,
   "metadata": {},
   "outputs": [
    {
     "data": {
      "text/html": [
       "<html>\\(\\displaystyle -\\left(i - 3\\right) \\, x^{2} - \\left(2 i + 3\\right) \\, x + \\left(i - 1\\right) \\, y = \\left(-10 i + 13\\right)\\)</html>"
      ],
      "text/latex": [
       "$\\displaystyle -\\left(i - 3\\right) \\, x^{2} - \\left(2 i + 3\\right) \\, x + \\left(i - 1\\right) \\, y = \\left(-10 i + 13\\right)$"
      ],
      "text/plain": [
       "-(I - 3)*x^2 - (2*I + 3)*x + (I - 1)*y == (-10*I + 13)"
      ]
     },
     "metadata": {},
     "output_type": "display_data"
    },
    {
     "data": {
      "text/html": [
       "<html>\\(\\displaystyle \\verb|Lewa|\\verb| |\\verb|strona:| -\\left(i - 3\\right) \\, x^{2} - \\left(2 i + 3\\right) \\, x + \\left(i - 1\\right) \\, y\\)</html>"
      ],
      "text/latex": [
       "$\\displaystyle \\verb|Lewa|\\verb| |\\verb|strona:| -\\left(i - 3\\right) \\, x^{2} - \\left(2 i + 3\\right) \\, x + \\left(i - 1\\right) \\, y$"
      ],
      "text/plain": [
       "'Lewa strona: ' -(I - 3)*x^2 - (2*I + 3)*x + (I - 1)*y"
      ]
     },
     "metadata": {},
     "output_type": "display_data"
    },
    {
     "data": {
      "text/html": [
       "<html>\\(\\displaystyle \\verb|Prwawa|\\verb| |\\verb|strona:| -10 i + 13\\)</html>"
      ],
      "text/latex": [
       "$\\displaystyle \\verb|Prwawa|\\verb| |\\verb|strona:| -10 i + 13$"
      ],
      "text/plain": [
       "'Prwawa strona: ' -10*I + 13"
      ]
     },
     "metadata": {},
     "output_type": "display_data"
    },
    {
     "data": {
      "text/html": [
       "<html>\\(\\displaystyle \\left[3 \\, x^{2} - 3 \\, x - y = 13, -x^{2} - 2 \\, x + y = \\left(-10\\right)\\right]\\)</html>"
      ],
      "text/latex": [
       "$\\displaystyle \\left[3 \\, x^{2} - 3 \\, x - y = 13, -x^{2} - 2 \\, x + y = \\left(-10\\right)\\right]$"
      ],
      "text/plain": [
       "[3*x^2 - 3*x - y == 13, -x^2 - 2*x + y == -10]"
      ]
     },
     "metadata": {},
     "output_type": "display_data"
    },
    {
     "data": {
      "text/html": [
       "<html>\\(\\displaystyle \\left[\\left[x = \\left(-\\frac{1}{2}\\right), y = \\left(-\\frac{43}{4}\\right)\\right], \\left[x = 3, y = 5\\right]\\right]\\)</html>"
      ],
      "text/latex": [
       "$\\displaystyle \\left[\\left[x = \\left(-\\frac{1}{2}\\right), y = \\left(-\\frac{43}{4}\\right)\\right], \\left[x = 3, y = 5\\right]\\right]$"
      ],
      "text/plain": [
       "[[x == (-1/2), y == (-43/4)], [x == 3, y == 5]]"
      ]
     },
     "metadata": {},
     "output_type": "display_data"
    }
   ],
   "source": [
    "var(\"x, y\")\n",
    "assume(x,\"real\", y,\"real\")\n",
    "eq = (3 - i)*(x^2) - (3+2*i)*x - (1-i)*y == 13-10*i\n",
    "show(eq)\n",
    "show(\"Lewa strona: \", eq.lhs())\n",
    "show(\"Prwawa strona: \", eq.rhs())\n",
    "ukl = [eq.lhs().real_part()==eq.rhs().real_part(),eq.lhs().imag_part()==eq.rhs().imag_part()]\n",
    "show(ukl)\n",
    "show(solve(ukl,[x,y]))"
   ]
  },
  {
   "cell_type": "markdown",
   "metadata": {},
   "source": [
    "b) $(3-i)y-(3+2i)x-(2+7i)y=23+5i;$"
   ]
  },
  {
   "cell_type": "code",
   "execution_count": 34,
   "metadata": {},
   "outputs": [
    {
     "ename": "SyntaxError",
     "evalue": "cannot assign to expression (242985755.py, line 4)",
     "output_type": "error",
     "traceback": [
      "\u001b[0;36m  Cell \u001b[0;32mIn[34], line 4\u001b[0;36m\u001b[0m\n\u001b[0;31m    eq = (Integer(3) - i)*y - (Integer(3)+Integer(2)*i)*x - (Integer(2)+Integer(7)*i)*y = Integer(23) +Integer(5)*i\u001b[0m\n\u001b[0m         ^\u001b[0m\n\u001b[0;31mSyntaxError\u001b[0m\u001b[0;31m:\u001b[0m cannot assign to expression\n"
     ]
    }
   ],
   "source": [
    "forget()\n",
    "var(\"x, y\")\n",
    "assume(x,\"real\", y,\"real\")\n",
    "eq = (3-i)*y - (3+2*i)*x - (2+7*i)*y = 23 + 5*i\n",
    "show(eq)\n",
    "show(\"Lewa strona: \", eq.lhs())\n",
    "show(\"Prwawa strona: \", eq.rhs())\n",
    "ukl = [eq.lhs().real_part()==eq.rhs().real_part(),eq.lhs().imag_part()==eq.rhs().imag_part()]\n",
    "show(ukl)\n",
    "show(solve(ukl,[x,y]))"
   ]
  },
  {
   "cell_type": "markdown",
   "metadata": {},
   "source": [
    "### Praca domowa\n",
    "\n",
    "#### Zadanie 1\n",
    "---\n",
    "Znajdź liczby rzeczywiste $x,y$ spełniające równanie:\n",
    "\n",
    "a) $(2+ix)(y-4i)=14-2i;$\n",
    "\n",
    "b) $\\displaystyle\\frac{1+xi}{y-2i}=-1+2i.$\n",
    "\n",
    "#### Zadanie 2\n",
    "Oblicz (wynik przedstaw w postaci algebraicznej)\n",
    "\n",
    "$\\displaystyle\\frac{\\mathrm{Im\\,}z-i\\mathrm{Re\\,}w}{|z|-\\overline{w}+i\\overline{z}}$, \n",
    "\n",
    "jeżeli $z=20-70i$, $w=23-8i$."
   ]
  },
  {
   "cell_type": "code",
   "execution_count": null,
   "metadata": {},
   "outputs": [],
   "source": []
  }
 ],
 "metadata": {
  "kernelspec": {
   "display_name": "SageMath 10.4",
   "language": "sage",
   "name": "sagemath"
  },
  "language_info": {
   "codemirror_mode": {
    "name": "ipython",
    "version": 3
   },
   "file_extension": ".py",
   "mimetype": "text/x-python",
   "name": "python",
   "nbconvert_exporter": "python",
   "pygments_lexer": "ipython3",
   "version": "3.10.12"
  }
 },
 "nbformat": 4,
 "nbformat_minor": 4
}
