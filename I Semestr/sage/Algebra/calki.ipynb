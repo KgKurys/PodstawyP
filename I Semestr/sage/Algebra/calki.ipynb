{
 "cells": [
  {
   "cell_type": "code",
   "execution_count": 4,
   "id": "edb1bf2c-7fe8-4544-9030-a41017ad896c",
   "metadata": {},
   "outputs": [
    {
     "data": {
      "text/html": [
       "<html>\\(\\displaystyle -\\frac{1}{8} \\, \\arctan\\left(\\frac{\\sqrt{-x^{16} + 1}}{x^{8}}\\right)\\)</html>"
      ],
      "text/latex": [
       "$\\displaystyle -\\frac{1}{8} \\, \\arctan\\left(\\frac{\\sqrt{-x^{16} + 1}}{x^{8}}\\right)$"
      ],
      "text/plain": [
       "-1/8*arctan(sqrt(-x^16 + 1)/x^8)"
      ]
     },
     "metadata": {},
     "output_type": "display_data"
    },
    {
     "data": {
      "text/html": [
       "<html>\\(\\displaystyle \\frac{x^{7}}{\\sqrt{-x^{16} + 1}}\\)</html>"
      ],
      "text/latex": [
       "$\\displaystyle \\frac{x^{7}}{\\sqrt{-x^{16} + 1}}$"
      ],
      "text/plain": [
       "x^7/sqrt(-x^16 + 1)"
      ]
     },
     "metadata": {},
     "output_type": "display_data"
    }
   ],
   "source": [
    "#lista 4 zad 2 a\n",
    "\n",
    "show(integrate(x^7/sqrt(1-x^16),x))\n",
    "show(diff(1/8*arcsin(x^8),x))"
   ]
  }
 ],
 "metadata": {
  "kernelspec": {
   "display_name": "SageMath 10.4",
   "language": "sage",
   "name": "sagemath"
  },
  "language_info": {
   "codemirror_mode": {
    "name": "ipython",
    "version": 3
   },
   "file_extension": ".py",
   "mimetype": "text/x-python",
   "name": "python",
   "nbconvert_exporter": "python",
   "pygments_lexer": "ipython3",
   "version": "3.10.12"
  }
 },
 "nbformat": 4,
 "nbformat_minor": 5
}
