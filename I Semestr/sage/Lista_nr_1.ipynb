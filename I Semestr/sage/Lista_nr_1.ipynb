{
 "cells": [
  {
   "cell_type": "markdown",
   "metadata": {},
   "source": [
    "<h1 style='text-align:center'>Analiza matematyczna - PS</h1>\n",
    "<h2 style='text-align:center'>Informatyka, sem.I, studia niestacjonarne I stopnia, 2024/25</h2>\n",
    "<h3 style='text-align:left'>Lista nr 1: Funkcje jednej zmiennej. Własności funkcji</h3>"
   ]
  },
  {
   "cell_type": "markdown",
   "metadata": {},
   "source": [
    "Zad. 1. Sprawdzić, czy podane funkcje są rosnące na wskazanych zbiorach:\n",
    "\n",
    "a) $f(x)=x^2,\\ x\\in \\langle 0;\\infty)$<br><br>\n",
    "b) $g(x)=\\displaystyle\\frac{1}{x^4+1},\\ x\\in(-\\infty;0\\rangle$<br><br>\n",
    "c) $h(x)=\\sqrt[3]{x},\\ x\\in(-\\infty;0\\rangle;$ <br><br>\n",
    "d) $p(x)=\\sqrt{x+1},\\ x\\in\\langle -1;\\infty)$<br><br>"
   ]
  },
  {
   "cell_type": "code",
   "execution_count": 2,
   "metadata": {},
   "outputs": [
    {
     "data": {
      "text/plain": [
       "True"
      ]
     },
     "execution_count": 2,
     "metadata": {},
     "output_type": "execute_result"
    }
   ],
   "source": [
    "#a\n",
    "x1,x2 = var(\"x1\",\"x2\")\n",
    "assume(x1 < x2, x1>= 0)\n",
    "f(x) = x^2            \n",
    "bool(f(x1)<f(x2))\n"
   ]
  },
  {
   "cell_type": "code",
   "execution_count": 1,
   "metadata": {},
   "outputs": [
    {
     "data": {
      "text/plain": [
       "True"
      ]
     },
     "execution_count": 1,
     "metadata": {},
     "output_type": "execute_result"
    }
   ],
   "source": [
    "#b\n",
    "forget()\n",
    "x1,x2 = var(\"x1\",\"x2\")\n",
    "assume(x1 < x2, x2<= 0)\n",
    "g(x) = 1/(x^4 + 1)\n",
    "bool(g(x1) < g(x2))"
   ]
  },
  {
   "cell_type": "code",
   "execution_count": 3,
   "metadata": {},
   "outputs": [
    {
     "data": {
      "text/plain": [
       "True"
      ]
     },
     "execution_count": 3,
     "metadata": {},
     "output_type": "execute_result"
    }
   ],
   "source": [
    "#c\n",
    "forget()\n",
    "x1,x2 = var(\"x1\",\"x2\")\n",
    "assume(x1 < x2, x1>= 0)\n",
    "h(x) = x**1/3\n",
    "bool(h(x1) < h(x2))"
   ]
  },
  {
   "cell_type": "code",
   "execution_count": 31,
   "metadata": {},
   "outputs": [
    {
     "data": {
      "text/html": [
       "<html>\\(\\displaystyle \\sqrt{x + 1}\\)</html>"
      ],
      "text/latex": [
       "$\\displaystyle \\sqrt{x + 1}$"
      ],
      "text/plain": [
       "sqrt(x + 1)"
      ]
     },
     "metadata": {},
     "output_type": "display_data"
    }
   ],
   "source": [
    "forget()\n",
    "x1,x2 = var(\"x1\",\"x2\")\n",
    "assume(x1 < x2, x1>= -1)\n",
    "p(x) = (x+1)**(1/2)\n",
    "bool(p(x1) < p(x2))\n",
    "show(p(x))"
   ]
  },
  {
   "cell_type": "markdown",
   "metadata": {},
   "source": [
    "Zad. 2. Sprawdzić, czy podane funkcje są malejące na wskazanych zbiorach:\n",
    "\n",
    "a) $f(x)=3-4x,\\ x\\in\\mathbb{R}$<br><br>\n",
    "b) $g(x)=x^2-2x,\\ x\\in(-\\infty;1\\rangle$<br><br>\n",
    "c) $h(x)=\\displaystyle\\frac{1}{1+x^2},\\ x\\in\\langle 0;\\infty)$<br><br>\n",
    "d) $p(x)=\\displaystyle\\frac{1}{1+x},\\ x\\in(-\\infty;-1)$<br><br>"
   ]
  },
  {
   "cell_type": "code",
   "execution_count": null,
   "metadata": {},
   "outputs": [],
   "source": []
  },
  {
   "cell_type": "markdown",
   "metadata": {},
   "source": [
    "\n",
    "Zad. 3. Sprawdzić, czy podane funkcje są różnowartościowe na wskazanych\n",
    "zbiorach:\n",
    "\n",
    "a) $f(x)=x^3+1,\\ x\\in\\mathbb{R}$<br><br>\n",
    "b) $g(x)=\\displaystyle\\frac{1}{x^2},\\ x\\in(-\\infty;0)$<br><br>\n",
    "c) $h(x)=\\sqrt{x}+1,\\ x\\in\\langle 0;\\infty)$<br><br>"
   ]
  },
  {
   "cell_type": "code",
   "execution_count": 45,
   "metadata": {},
   "outputs": [
    {
     "data": {
      "text/plain": [
       "False"
      ]
     },
     "execution_count": 45,
     "metadata": {},
     "output_type": "execute_result"
    }
   ],
   "source": [
    "#a\n",
    "forget()\n",
    "x1,x2 = var(\"x1\",\"x2\")\n",
    "assume(x1 != x2)\n",
    "f(x) = (x^3)+1\n",
    "bool(f(x1)!=f(x2))"
   ]
  },
  {
   "cell_type": "code",
   "execution_count": 32,
   "metadata": {},
   "outputs": [
    {
     "data": {
      "text/plain": [
       "[x == 0]"
      ]
     },
     "execution_count": 32,
     "metadata": {},
     "output_type": "execute_result"
    }
   ],
   "source": []
  },
  {
   "cell_type": "code",
   "execution_count": 46,
   "metadata": {},
   "outputs": [
    {
     "data": {
      "text/plain": [
       "True"
      ]
     },
     "execution_count": 46,
     "metadata": {},
     "output_type": "execute_result"
    }
   ],
   "source": [
    "#b\n",
    "forget()\n",
    "x1,x2 = var(\"x1\",\"x2\")\n",
    "assume(x1<0, x2<0, x1!=x2)\n",
    "f(x) = 1/(x^2)\n",
    "bool(f(x1)!=f(x2))"
   ]
  },
  {
   "cell_type": "code",
   "execution_count": 47,
   "metadata": {},
   "outputs": [
    {
     "data": {
      "text/plain": [
       "False"
      ]
     },
     "execution_count": 47,
     "metadata": {},
     "output_type": "execute_result"
    }
   ],
   "source": [
    "#c\n",
    "forget()\n",
    "x1,x2 = var(\"x1\",\"x2\")\n",
    "assume(x1 != x2, x1>=0,x2>=0)\n",
    "f(x) = x**(1/2) + 1\n",
    "bool(f(x1)!=f(x2))"
   ]
  },
  {
   "cell_type": "markdown",
   "metadata": {},
   "source": [
    "Zad. 4. Sprawdzić, które z podanych funkcji są parzyste, a które nieparzyste:\n",
    "\n",
    "a) $\\displaystyle f(x)=x^4-3x^2+1$<br><br>\n",
    "b) $\\displaystyle g(x)=2^x+2^{-x}$<br><br>\n",
    "c) $\\displaystyle h(x)=|\\sin x|$<br><br>\n",
    "d) $\\displaystyle p(x)=\\frac{\\sin x}{x^3}$<br><br>\n",
    "e) $\\displaystyle f(x)=\\frac{2+x^2}{x^5},$<br><br>\n",
    "f) $\\displaystyle g(x)=\\sin^3 x$<br><br>\n",
    "g) $\\displaystyle h(x)=3^x-3^{-x}$<br><br>\n",
    "h) $\\displaystyle p(x)=x|x|$<br><br>"
   ]
  },
  {
   "cell_type": "code",
   "execution_count": 16,
   "metadata": {},
   "outputs": [
    {
     "data": {
      "text/plain": [
       "False"
      ]
     },
     "execution_count": 16,
     "metadata": {},
     "output_type": "execute_result"
    }
   ],
   "source": [
    "f(x) = x^4 - 3*x^2 + 1\n",
    "f(-x)\n",
    "f(x)-f(-x)\n",
    "#parzyste bo roznica = 0"
   ]
  },
  {
   "cell_type": "code",
   "execution_count": 15,
   "metadata": {},
   "outputs": [
    {
     "data": {
      "text/html": [
       "<html>\\(\\displaystyle \\verb|Funkcja|\\verb| |\\verb|jest|\\verb| |\\verb|parzysta:| \\mathrm{True}\\)</html>"
      ],
      "text/latex": [
       "$\\displaystyle \\verb|Funkcja|\\verb| |\\verb|jest|\\verb| |\\verb|parzysta:| \\mathrm{True}$"
      ],
      "text/plain": [
       "'Funkcja jest parzysta:' True"
      ]
     },
     "metadata": {},
     "output_type": "display_data"
    },
    {
     "data": {
      "text/html": [
       "<html>\\(\\displaystyle \\verb|Funkcja|\\verb| |\\verb|jest|\\verb| |\\verb|nieparzysta:| \\mathrm{False}\\)</html>"
      ],
      "text/latex": [
       "$\\displaystyle \\verb|Funkcja|\\verb| |\\verb|jest|\\verb| |\\verb|nieparzysta:| \\mathrm{False}$"
      ],
      "text/plain": [
       "'Funkcja jest nieparzysta:' False"
      ]
     },
     "metadata": {},
     "output_type": "display_data"
    }
   ],
   "source": [
    "#c\n",
    "f(x) = abs(sin(x))\n",
    "f(-x)\n",
    "show('Funkcja jest parzysta:', bool(f(x) == f(-x)))\n",
    "show('Funkcja jest nieparzysta:', bool(f(x) == -f(-x)))"
   ]
  },
  {
   "cell_type": "code",
   "execution_count": 8,
   "metadata": {},
   "outputs": [
    {
     "data": {
      "text/html": [
       "<html>\\(\\displaystyle \\verb|Funkcja|\\verb| |\\verb|jest|\\verb| |\\verb|parzysta:| \\mathrm{True}\\)</html>"
      ],
      "text/latex": [
       "$\\displaystyle \\verb|Funkcja|\\verb| |\\verb|jest|\\verb| |\\verb|parzysta:| \\mathrm{True}$"
      ],
      "text/plain": [
       "'Funkcja jest parzysta:' True"
      ]
     },
     "metadata": {},
     "output_type": "display_data"
    },
    {
     "data": {
      "text/html": [
       "<html>\\(\\displaystyle \\verb|Funkcja|\\verb| |\\verb|jest|\\verb| |\\verb|nieparzysta:| \\mathrm{False}\\)</html>"
      ],
      "text/latex": [
       "$\\displaystyle \\verb|Funkcja|\\verb| |\\verb|jest|\\verb| |\\verb|nieparzysta:| \\mathrm{False}$"
      ],
      "text/plain": [
       "'Funkcja jest nieparzysta:' False"
      ]
     },
     "metadata": {},
     "output_type": "display_data"
    }
   ],
   "source": [
    "forget()\n",
    "f(x) = sin(x)/x^3\n",
    "f(-x)\n",
    "\n",
    "show('Funkcja jest parzysta:', bool(f(x) == f(-x)))\n",
    "show('Funkcja jest nieparzysta:', bool(f(x) == -f(-x)))"
   ]
  },
  {
   "cell_type": "code",
   "execution_count": 10,
   "metadata": {},
   "outputs": [
    {
     "data": {
      "text/html": [
       "<html><script type=\"math/tex; mode=display\">\\newcommand{\\Bold}[1]{\\mathbf{#1}}\\frac{2 \\, {\\left(x^{2} + 2\\right)}}{x^{5}}</script></html>"
      ],
      "text/latex": [
       "$$\\newcommand{\\Bold}[1]{\\mathbf{#1}}\\frac{2 \\, {\\left(x^{2} + 2\\right)}}{x^{5}}$$"
      ],
      "text/plain": [
       "2*(x^2 + 2)/x^5"
      ]
     },
     "metadata": {},
     "output_type": "display_data"
    },
    {
     "data": {
      "text/html": [
       "<html><script type=\"math/tex; mode=display\">\\newcommand{\\Bold}[1]{\\mathbf{#1}}0</script></html>"
      ],
      "text/latex": [
       "$$\\newcommand{\\Bold}[1]{\\mathbf{#1}}0$$"
      ],
      "text/plain": [
       "0"
      ]
     },
     "metadata": {},
     "output_type": "display_data"
    }
   ],
   "source": [
    "f(x) = (2+x^2)/x^5\n",
    "f(-x)\n",
    "show(f(x)-f(-x))\n",
    "show(f(x)+ f(-x))\n",
    "#nieparzysta bo suma = 0"
   ]
  },
  {
   "cell_type": "markdown",
   "metadata": {},
   "source": [
    "Zad. 5. Określić funkcje złożone $f\\circ f$, $f\\circ g$, $g\\circ f$,\n",
    "$g\\circ g$ oraz ich dziedziny, jeżeli:\n",
    "\n",
    "a) $\\displaystyle f(x)=|x|, \\ g(x)=-3x+2$<br><br>\n",
    "b) $\\displaystyle f(x)=\\sqrt{x},\\ g(x)=x^3+1$<br><br>\n",
    "c) $\\displaystyle f(x)=x^2,\\ g(x)=\\sqrt{x},$<br><br>\n",
    "d) $\\displaystyle f(x)=2^x,\\ g(x)=\\cos x$<br><br>\n",
    "e) $\\displaystyle f(x)=x^3,\\ g(x)=\\frac{1}{\\sqrt[3]{x}}$<br><br>\n",
    "f) $\\displaystyle f(x)=\\frac{x}{1+x^2},\\ g(x)=\\frac{1}{x},$<br><br>\n",
    "g) $\\displaystyle f(x)=\\log x,\\ g(x)=x^2+1.$"
   ]
  },
  {
   "cell_type": "code",
   "execution_count": 11,
   "metadata": {},
   "outputs": [
    {
     "data": {
      "text/html": [
       "<html><script type=\"math/tex; mode=display\">\\newcommand{\\Bold}[1]{\\mathbf{#1}}{\\left| x \\right|}</script></html>"
      ],
      "text/latex": [
       "$$\\newcommand{\\Bold}[1]{\\mathbf{#1}}{\\left| x \\right|}$$"
      ],
      "text/plain": [
       "abs(x)"
      ]
     },
     "metadata": {},
     "output_type": "display_data"
    },
    {
     "data": {
      "text/html": [
       "<html><script type=\"math/tex; mode=display\">\\newcommand{\\Bold}[1]{\\mathbf{#1}}{\\left| -3 \\, x + 2 \\right|}</script></html>"
      ],
      "text/latex": [
       "$$\\newcommand{\\Bold}[1]{\\mathbf{#1}}{\\left| -3 \\, x + 2 \\right|}$$"
      ],
      "text/plain": [
       "abs(-3*x + 2)"
      ]
     },
     "metadata": {},
     "output_type": "display_data"
    },
    {
     "data": {
      "text/html": [
       "<html><script type=\"math/tex; mode=display\">\\newcommand{\\Bold}[1]{\\mathbf{#1}}-3 \\, {\\left| x \\right|} + 2</script></html>"
      ],
      "text/latex": [
       "$$\\newcommand{\\Bold}[1]{\\mathbf{#1}}-3 \\, {\\left| x \\right|} + 2$$"
      ],
      "text/plain": [
       "-3*abs(x) + 2"
      ]
     },
     "metadata": {},
     "output_type": "display_data"
    },
    {
     "data": {
      "text/html": [
       "<html><script type=\"math/tex; mode=display\">\\newcommand{\\Bold}[1]{\\mathbf{#1}}9 \\, x - 4</script></html>"
      ],
      "text/latex": [
       "$$\\newcommand{\\Bold}[1]{\\mathbf{#1}}9 \\, x - 4$$"
      ],
      "text/plain": [
       "9*x - 4"
      ]
     },
     "metadata": {},
     "output_type": "display_data"
    }
   ],
   "source": [
    "#A\n",
    "f(x) = abs(x) \n",
    "g(x) = -3*x + 2\n",
    "#dziedzina\n",
    "show(f(f(x)))\n",
    "show(f(g(x)))\n",
    "show(g(f(x)))\n",
    "show(g(g(x)))"
   ]
  },
  {
   "cell_type": "code",
   "execution_count": 9,
   "metadata": {},
   "outputs": [
    {
     "data": {
      "text/html": [
       "<html>\\(\\displaystyle \\frac{1}{4} \\, x\\)</html>"
      ],
      "text/latex": [
       "$\\displaystyle \\frac{1}{4} \\, x$"
      ],
      "text/plain": [
       "1/4*x"
      ]
     },
     "metadata": {},
     "output_type": "display_data"
    },
    {
     "data": {
      "text/html": [
       "<html>\\(\\displaystyle \\frac{1}{2} \\, x^{3} + \\frac{1}{2}\\)</html>"
      ],
      "text/latex": [
       "$\\displaystyle \\frac{1}{2} \\, x^{3} + \\frac{1}{2}$"
      ],
      "text/plain": [
       "1/2*x^3 + 1/2"
      ]
     },
     "metadata": {},
     "output_type": "display_data"
    },
    {
     "data": {
      "text/html": [
       "<html>\\(\\displaystyle \\frac{1}{8} \\, x^{3} + 1\\)</html>"
      ],
      "text/latex": [
       "$\\displaystyle \\frac{1}{8} \\, x^{3} + 1$"
      ],
      "text/plain": [
       "1/8*x^3 + 1"
      ]
     },
     "metadata": {},
     "output_type": "display_data"
    },
    {
     "data": {
      "text/html": [
       "<html>\\(\\displaystyle {\\left(x^{3} + 1\\right)}^{3} + 1\\)</html>"
      ],
      "text/latex": [
       "$\\displaystyle {\\left(x^{3} + 1\\right)}^{3} + 1$"
      ],
      "text/plain": [
       "(x^3 + 1)^3 + 1"
      ]
     },
     "metadata": {},
     "output_type": "display_data"
    }
   ],
   "source": [
    "#b\n",
    "f(x) = x**1/2\n",
    "g(x) = x^3 +1\n",
    "show(f(f(x)))\n",
    "show(f(g(x)))\n",
    "show(g(f(x)))\n",
    "show(g(g(x)))"
   ]
  },
  {
   "cell_type": "code",
   "execution_count": 15,
   "metadata": {},
   "outputs": [
    {
     "data": {
      "text/html": [
       "<html><script type=\"math/tex; mode=display\">\\newcommand{\\Bold}[1]{\\mathbf{#1}}\\log\\left(\\log\\left(x\\right)\\right)</script></html>"
      ],
      "text/latex": [
       "$$\\newcommand{\\Bold}[1]{\\mathbf{#1}}\\log\\left(\\log\\left(x\\right)\\right)$$"
      ],
      "text/plain": [
       "log(log(x))"
      ]
     },
     "metadata": {},
     "output_type": "display_data"
    },
    {
     "data": {
      "text/html": [
       "<html><script type=\"math/tex; mode=display\">\\newcommand{\\Bold}[1]{\\mathbf{#1}}\\log\\left(x^{2} + 1\\right)</script></html>"
      ],
      "text/latex": [
       "$$\\newcommand{\\Bold}[1]{\\mathbf{#1}}\\log\\left(x^{2} + 1\\right)$$"
      ],
      "text/plain": [
       "log(x^2 + 1)"
      ]
     },
     "metadata": {},
     "output_type": "display_data"
    },
    {
     "data": {
      "text/html": [
       "<html><script type=\"math/tex; mode=display\">\\newcommand{\\Bold}[1]{\\mathbf{#1}}\\log\\left(x\\right)^{2} + 1</script></html>"
      ],
      "text/latex": [
       "$$\\newcommand{\\Bold}[1]{\\mathbf{#1}}\\log\\left(x\\right)^{2} + 1$$"
      ],
      "text/plain": [
       "log(x)^2 + 1"
      ]
     },
     "metadata": {},
     "output_type": "display_data"
    },
    {
     "data": {
      "text/html": [
       "<html><script type=\"math/tex; mode=display\">\\newcommand{\\Bold}[1]{\\mathbf{#1}}{\\left(x^{2} + 1\\right)}^{2} + 1</script></html>"
      ],
      "text/latex": [
       "$$\\newcommand{\\Bold}[1]{\\mathbf{#1}}{\\left(x^{2} + 1\\right)}^{2} + 1$$"
      ],
      "text/plain": [
       "(x^2 + 1)^2 + 1"
      ]
     },
     "metadata": {},
     "output_type": "display_data"
    }
   ],
   "source": [
    "#I\n",
    "f(x) = log(x) \n",
    "g(x) = x^2 + 1\n",
    "#dziedzina\n",
    "show(f(f(x)))\n",
    "show(f(g(x)))\n",
    "show(g(f(x)))\n",
    "show(g(g(x)))\n"
   ]
  },
  {
   "cell_type": "markdown",
   "metadata": {},
   "source": [
    "Zad. 6. Znaleźć funkcję odwrotną do podanej:\n",
    "\n",
    "a) $\\displaystyle f(x)=x^2-2x,\\ x\\in\\langle 1;\\infty)$<br><br>\n",
    "b) $\\displaystyle g(x)=2-\\sqrt[5]{x+1},\\ x\\in\\mathbb{R}$<br><br>\n",
    "c) $\\displaystyle h(x)=x^3|x|,\\ x\\in\\mathbb{R},$<br><br>\n",
    "d) $\\displaystyle p(x)=\\left\\{\n",
    "\\begin{array}{rrr}\n",
    "3^x & \\mbox{ dla } &x<0\\\\\n",
    "5^x & \\mbox{ dla } &x\\geqslant 0\n",
    "\\end{array}\\right.\n",
    ",\\ x\\in\\mathbb{R}$<br><br>\n",
    "e) $\\displaystyle f(x)=1-3^{-x}$<br><br>\n",
    "f) $\\displaystyle g(x)=x^5+\\sqrt{3},$<br><br>\n",
    "g) $\\displaystyle h(x)=x^6\\mathrm{sgn\\,}x$<br><br>\n",
    "h) $\\displaystyle  q(x)=\\left\\{\n",
    "\\begin{array}{rrr}\n",
    "-x^2 & \\mbox{ dla } &x<0\\\\\n",
    "2+x & \\mbox{ dla } &x\\geqslant 0\n",
    "\\end{array}\\right.\n",
    ",\\ x\\in\\mathbb{R}$<br><br>\n",
    "i) $\\displaystyle f(x)=\\frac{x}{1+|x|}.$"
   ]
  },
  {
   "cell_type": "code",
   "execution_count": 49,
   "metadata": {},
   "outputs": [
    {
     "data": {
      "text/html": [
       "<html>\\(\\displaystyle \\left[x = -\\frac{1}{6} \\, \\pi + \\arccos\\left(\\frac{1}{y}\\right)\\right]\\)</html>"
      ],
      "text/latex": [
       "$\\displaystyle \\left[x = -\\frac{1}{6} \\, \\pi + \\arccos\\left(\\frac{1}{y}\\right)\\right]$"
      ],
      "text/plain": [
       "[x == -1/6*pi + arccos(1/y)]"
      ]
     },
     "metadata": {},
     "output_type": "display_data"
    }
   ],
   "source": [
    "var('y')\n",
    "assume(x>0,x<1)\n",
    "f(x) = 1/(cos(x + (pi/6)))\n",
    "show(solve(y == f(x),x))\n"
   ]
  },
  {
   "cell_type": "code",
   "execution_count": 6,
   "metadata": {},
   "outputs": [
    {
     "data": {
      "text/html": [
       "<html>\\(\\displaystyle \\left[x = -5 \\, y + 9\\right]\\)</html>"
      ],
      "text/latex": [
       "$\\displaystyle \\left[x = -5 \\, y + 9\\right]$"
      ],
      "text/plain": [
       "[x == -5*y + 9]"
      ]
     },
     "metadata": {},
     "output_type": "display_data"
    }
   ],
   "source": [
    "var('y')\n",
    "assume(x>=0)\n",
    "g(x) = 2 - (x+1)**1/5\n",
    "show(solve(y== g(x),x))"
   ]
  },
  {
   "cell_type": "code",
   "execution_count": null,
   "metadata": {},
   "outputs": [],
   "source": []
  }
 ],
 "metadata": {
  "kernelspec": {
   "display_name": "SageMath 10.4",
   "language": "sage",
   "name": "sagemath"
  },
  "language_info": {
   "codemirror_mode": {
    "name": "ipython",
    "version": 3
   },
   "file_extension": ".py",
   "mimetype": "text/x-python",
   "name": "python",
   "nbconvert_exporter": "python",
   "pygments_lexer": "ipython3",
   "version": "3.10.12"
  }
 },
 "nbformat": 4,
 "nbformat_minor": 4
}
