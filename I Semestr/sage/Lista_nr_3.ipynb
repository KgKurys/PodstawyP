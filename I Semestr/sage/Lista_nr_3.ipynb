{
 "cells": [
  {
   "cell_type": "markdown",
   "metadata": {
    "collapsed": false,
    "jupyter": {
     "outputs_hidden": false
    }
   },
   "source": [
    "<h1 style='text-align:center'>Analiza matematyczna - PS</h1>\n",
    "<h2 style='text-align:center'>Informatyka, sem.I, studia niestacjonarne I stopnia, 2023/24</h2>\n",
    "<h3 style='text-align:left'>Lista nr 3: Granica i ciągłość funkcji. Asymptoty</h3>\n",
    "\n"
   ]
  },
  {
   "cell_type": "markdown",
   "metadata": {
    "collapsed": false,
    "jupyter": {
     "outputs_hidden": false
    }
   },
   "source": [
    "Zad. 1. Znaleźć granicę prawostronną i lewostronną następujących\n",
    "funkcji:\n",
    "\n",
    "a) $\\frac{e^{\\frac{1}{x}}-1}{e^{\\frac{1}{x}+1}}\\mbox{ w punkcie }x=0$\n",
    "\n",
    "b) $e^{\\frac{1}{1-x^3}}\\mbox{ w punkcie } x=1$\n",
    "\n",
    "c) $\\frac{x}{2x+e^{\\frac{1}{x-1}}}\\mbox{ w punkcie }x=1$\n",
    "\n",
    "d) $\\frac{x}{1+e^{\\frac{1}{x}}}\\mbox{ w punkcie }x=0$\n",
    "\n",
    "e) $\\frac{2^{\\frac{1}{x}}+3}{3^{\\frac{1}{x}}+2}\\mbox{ w punkcie }x=0$\n",
    "\n",
    "f) $f(x)=\\left\\{\n",
    "\\begin{array}{rcl}\n",
    "x\\sin\\frac{1}{x} & \\mbox{dla} & -\\infty<x<0,\\\\\n",
    "\\sin\\frac{1}{x} & \\mbox{dla} & 0<x<\\infty\n",
    "\\end{array}\n",
    "\\right.\\mbox{ w punkcie }x=0$\n",
    "\n",
    "g) $f(x)=\\frac{x}{\\sqrt{|\\sin x|}}\\mbox{ w punkcie }x=0.$"
   ]
  },
  {
   "cell_type": "code",
   "execution_count": 2,
   "metadata": {
    "collapsed": false,
    "jupyter": {
     "outputs_hidden": false
    }
   },
   "outputs": [
    {
     "data": {
      "text/html": [
       "<html>\\(\\displaystyle {\\left(e^{\\frac{1}{x}} - 1\\right)} e^{\\left(-\\frac{1}{x} - 1\\right)}\\)</html>"
      ],
      "text/latex": [
       "$\\displaystyle {\\left(e^{\\frac{1}{x}} - 1\\right)} e^{\\left(-\\frac{1}{x} - 1\\right)}$"
      ],
      "text/plain": [
       "(e^(1/x) - 1)*e^(-1/x - 1)"
      ]
     },
     "metadata": {},
     "output_type": "display_data"
    },
    {
     "data": {
      "text/html": [
       "<html>\\(\\displaystyle -\\infty\\)</html>"
      ],
      "text/latex": [
       "$\\displaystyle -\\infty$"
      ],
      "text/plain": [
       "-Infinity"
      ]
     },
     "metadata": {},
     "output_type": "display_data"
    },
    {
     "data": {
      "text/html": [
       "<html>\\(\\displaystyle e^{\\left(-1\\right)}\\)</html>"
      ],
      "text/latex": [
       "$\\displaystyle e^{\\left(-1\\right)}$"
      ],
      "text/plain": [
       "e^(-1)"
      ]
     },
     "metadata": {},
     "output_type": "display_data"
    }
   ],
   "source": [
    "#a\n",
    "f(x) = (e^(1/x)-1)/(e^((1/x+1)))\n",
    "show(f(x))\n",
    "show(limit(f(x), x=0, dir=\"left\"))\n",
    "show(limit(f(x), x=0, dir=\"right\"))"
   ]
  },
  {
   "cell_type": "code",
   "execution_count": 6,
   "metadata": {},
   "outputs": [
    {
     "data": {
      "text/html": [
       "<html>\\(\\displaystyle 0\\)</html>"
      ],
      "text/latex": [
       "$\\displaystyle 0$"
      ],
      "text/plain": [
       "0"
      ]
     },
     "metadata": {},
     "output_type": "display_data"
    },
    {
     "data": {
      "text/html": [
       "<html>\\(\\displaystyle \\mathit{ind}\\)</html>"
      ],
      "text/latex": [
       "$\\displaystyle \\mathit{ind}$"
      ],
      "text/plain": [
       "ind"
      ]
     },
     "metadata": {},
     "output_type": "display_data"
    },
    {
     "data": {
      "image/png": "[encoded data removed]",
      "text/plain": [
       "Graphics object consisting of 1 graphics primitive"
      ]
     },
     "execution_count": 6,
     "metadata": {},
     "output_type": "execute_result"
    }
   ],
   "source": [
    "#f\n",
    "\n",
    "show(limit(x*sin(1/x), x=0, dir=\"left\"))\n",
    "show(limit(sin(1/x), x=0, dir=\"right\"))\n",
    "plot(sin(1/x),(x,0,5))"
   ]
  },
  {
   "cell_type": "markdown",
   "metadata": {
    "collapsed": false,
    "jupyter": {
     "outputs_hidden": false
    }
   },
   "source": [
    "Zad. 2. Znaleźć asymptoty pionowe i ukośne wykresów podanych funkcji:\n",
    "\n",
    "a) $f(x)=\\frac{\\sqrt{1+x^2}}{x}$\n",
    "\n",
    "b) $g(x)=\\frac{x^3}{(x+1)^2}$\n",
    "\n",
    "c) $y(x)=\\frac{x^3+x^2}{x^2-5x+6}$\n",
    "\n",
    "d) $z(x)=\\frac{4x^2-x}{x^2+x},$\n",
    "\n",
    "e) $h(x)=x-\\arctg x$\n",
    "\n",
    "f) $p(x)=\\frac{1}{e^x-1}$\n",
    "\n",
    "g) $q(x)=\\frac{1-x^2}{x+1}$\n",
    "\n",
    "h) $r(x)=\\frac{\\sin^2 x}{x^3}$"
   ]
  },
  {
   "cell_type": "code",
   "execution_count": 15,
   "metadata": {},
   "outputs": [
    {
     "data": {
      "text/html": [
       "<html>\\(\\displaystyle 1\\)</html>"
      ],
      "text/latex": [
       "$\\displaystyle 1$"
      ],
      "text/plain": [
       "1"
      ]
     },
     "metadata": {},
     "output_type": "display_data"
    },
    {
     "data": {
      "text/html": [
       "<html>\\(\\displaystyle \\frac{1}{2} \\, \\pi\\)</html>"
      ],
      "text/latex": [
       "$\\displaystyle \\frac{1}{2} \\, \\pi$"
      ],
      "text/plain": [
       "1/2*pi"
      ]
     },
     "metadata": {},
     "output_type": "display_data"
    },
    {
     "data": {
      "text/html": [
       "<html>\\(\\displaystyle 1\\)</html>"
      ],
      "text/latex": [
       "$\\displaystyle 1$"
      ],
      "text/plain": [
       "1"
      ]
     },
     "metadata": {},
     "output_type": "display_data"
    },
    {
     "data": {
      "text/html": [
       "<html>\\(\\displaystyle -\\frac{1}{2} \\, \\pi\\)</html>"
      ],
      "text/latex": [
       "$\\displaystyle -\\frac{1}{2} \\, \\pi$"
      ],
      "text/plain": [
       "-1/2*pi"
      ]
     },
     "metadata": {},
     "output_type": "display_data"
    },
    {
     "data": {
      "image/png": "[encoded data removed]",
      "text/plain": [
       "Graphics object consisting of 3 graphics primitives"
      ]
     },
     "metadata": {},
     "output_type": "display_data"
    }
   ],
   "source": [
    "#e\n",
    "forget()\n",
    "h(x) = x-atan(x)\n",
    "#dziedzina R\n",
    "#brak asymptot pionowych\n",
    "#asymptoty ukosne (y=ax+b)\n",
    "a1 = limit(h(x)/x, x=-oo)\n",
    "show(a1)\n",
    "b1 = limit(h(x)-a1*x, x=-oo)\n",
    "show(b1)\n",
    "a2 = limit(h(x)/x, x=+oo)\n",
    "show(a2)\n",
    "b2 = limit(h(x)-a2*x, x=+oo)\n",
    "show(b2)\n",
    "\n",
    "# y = x+pi/2 as.ukosna lewostronna\n",
    "# y=x-pi/2 as.ukosna prawostronna\n",
    "p1 = plot(h(x),(x,-5,5),ymin=-5,ymax=5)\n",
    "p2 = plot(x+pi/2,(x,-5,5),color = \"red\", linestyle=\"--\")\n",
    "p3 = plot(x+pi/2,(x,-5,5),color = \"red\", linestyle=\"--\")#????\n",
    "\n",
    "\n",
    "show(p1+p2+p3)"
   ]
  },
  {
   "cell_type": "code",
   "execution_count": 10,
   "metadata": {},
   "outputs": [
    {
     "data": {
      "text/html": [
       "<html>\\(\\displaystyle \\left[x = 3, x = 2\\right]\\)</html>"
      ],
      "text/latex": [
       "$\\displaystyle \\left[x = 3, x = 2\\right]$"
      ],
      "text/plain": [
       "[x == 3, x == 2]"
      ]
     },
     "metadata": {},
     "output_type": "display_data"
    },
    {
     "data": {
      "text/html": [
       "<html>\\(\\displaystyle +\\infty\\)</html>"
      ],
      "text/latex": [
       "$\\displaystyle +\\infty$"
      ],
      "text/plain": [
       "+Infinity"
      ]
     },
     "metadata": {},
     "output_type": "display_data"
    },
    {
     "data": {
      "text/html": [
       "<html>\\(\\displaystyle -\\infty\\)</html>"
      ],
      "text/latex": [
       "$\\displaystyle -\\infty$"
      ],
      "text/plain": [
       "-Infinity"
      ]
     },
     "metadata": {},
     "output_type": "display_data"
    },
    {
     "data": {
      "text/html": [
       "<html>\\(\\displaystyle -\\infty\\)</html>"
      ],
      "text/latex": [
       "$\\displaystyle -\\infty$"
      ],
      "text/plain": [
       "-Infinity"
      ]
     },
     "metadata": {},
     "output_type": "display_data"
    },
    {
     "data": {
      "text/html": [
       "<html>\\(\\displaystyle +\\infty\\)</html>"
      ],
      "text/latex": [
       "$\\displaystyle +\\infty$"
      ],
      "text/plain": [
       "+Infinity"
      ]
     },
     "metadata": {},
     "output_type": "display_data"
    },
    {
     "data": {
      "text/html": [
       "<html>\\(\\displaystyle 1\\)</html>"
      ],
      "text/latex": [
       "$\\displaystyle 1$"
      ],
      "text/plain": [
       "1"
      ]
     },
     "metadata": {},
     "output_type": "display_data"
    },
    {
     "data": {
      "text/html": [
       "<html>\\(\\displaystyle 6\\)</html>"
      ],
      "text/latex": [
       "$\\displaystyle 6$"
      ],
      "text/plain": [
       "6"
      ]
     },
     "metadata": {},
     "output_type": "display_data"
    },
    {
     "data": {
      "text/html": [
       "<html>\\(\\displaystyle 1\\)</html>"
      ],
      "text/latex": [
       "$\\displaystyle 1$"
      ],
      "text/plain": [
       "1"
      ]
     },
     "metadata": {},
     "output_type": "display_data"
    },
    {
     "data": {
      "text/html": [
       "<html>\\(\\displaystyle 6\\)</html>"
      ],
      "text/latex": [
       "$\\displaystyle 6$"
      ],
      "text/plain": [
       "6"
      ]
     },
     "metadata": {},
     "output_type": "display_data"
    },
    {
     "data": {
      "image/png": "[encoded data removed]",
      "text/plain": [
       "Graphics object consisting of 3 graphics primitives"
      ]
     },
     "metadata": {},
     "output_type": "display_data"
    }
   ],
   "source": [
    "#c\n",
    "y(x) = (x^3+x^2)/(x^2-5*x+6)\n",
    "w = solve(x^2-5*x+6,x)\n",
    "show(w)\n",
    "#Dy = (-oo;2)u(2;3)u(3,+oo)\n",
    "#asymptoty pionowe:\n",
    "show(limit(y(x),x=2,dir = \"left\"))\n",
    "show(limit(y(x),x=2,dir = \"right\"))\n",
    "show(limit(y(x),x=3, dir = \"left\"))\n",
    "show(limit(y(x),x=3, dir = \"right\"))\n",
    "#x=2, x=3 - as. pionowe obustronne\n",
    "#asymptoty ukosne(y=ax+b)\n",
    "a1 = limit(y(x)/x, x=-oo)\n",
    "show(a1)\n",
    "b1 = limit(y(x)-a1*x, x=-oo)\n",
    "show(b1)\n",
    "a2 = limit(y(x)/x, x=+oo)\n",
    "show(a2)\n",
    "b2 = limit(y(x)-a2*x, x=+oo)\n",
    "show(b2)\n",
    "# y = x+6 - asymptota ukosna\n",
    "p1 = plot(y(x),(x,-5,5),ymin=-5,ymax=5)\n",
    "p2 = plot(x+6,(x,-5,5),color = \"red\", linestyle=\"--\")\n",
    "p3 = line([[2,-5],[2,5]], color = \"red\", linestyle = \"--\")\n",
    "p4 = line([[3,-5],[3,5]], color = \"red\", linestyle = \"--\")\n",
    "\n",
    "show(p1+p2+p3)"
   ]
  },
  {
   "cell_type": "code",
   "execution_count": 16,
   "metadata": {
    "collapsed": false,
    "jupyter": {
     "outputs_hidden": false
    }
   },
   "outputs": [
    {
     "data": {
      "text/html": [
       "<html>\\(\\displaystyle -\\infty\\)</html>"
      ],
      "text/latex": [
       "$\\displaystyle -\\infty$"
      ],
      "text/plain": [
       "-Infinity"
      ]
     },
     "metadata": {},
     "output_type": "display_data"
    },
    {
     "data": {
      "text/html": [
       "<html>\\(\\displaystyle +\\infty\\)</html>"
      ],
      "text/latex": [
       "$\\displaystyle +\\infty$"
      ],
      "text/plain": [
       "+Infinity"
      ]
     },
     "metadata": {},
     "output_type": "display_data"
    },
    {
     "data": {
      "text/html": [
       "<html>\\(\\displaystyle 0\\)</html>"
      ],
      "text/latex": [
       "$\\displaystyle 0$"
      ],
      "text/plain": [
       "0"
      ]
     },
     "metadata": {},
     "output_type": "display_data"
    },
    {
     "data": {
      "text/html": [
       "<html>\\(\\displaystyle -1\\)</html>"
      ],
      "text/latex": [
       "$\\displaystyle -1$"
      ],
      "text/plain": [
       "-1"
      ]
     },
     "metadata": {},
     "output_type": "display_data"
    },
    {
     "data": {
      "text/html": [
       "<html>\\(\\displaystyle 0\\)</html>"
      ],
      "text/latex": [
       "$\\displaystyle 0$"
      ],
      "text/plain": [
       "0"
      ]
     },
     "metadata": {},
     "output_type": "display_data"
    },
    {
     "data": {
      "text/html": [
       "<html>\\(\\displaystyle 1\\)</html>"
      ],
      "text/latex": [
       "$\\displaystyle 1$"
      ],
      "text/plain": [
       "1"
      ]
     },
     "metadata": {},
     "output_type": "display_data"
    },
    {
     "data": {
      "image/png": "[encoded data removed]",
      "text/plain": [
       "Graphics object consisting of 4 graphics primitives"
      ]
     },
     "metadata": {},
     "output_type": "display_data"
    }
   ],
   "source": [
    "#a\n",
    "f(x) = sqrt(1+x^2)/x\n",
    "#dziedzina to (-oo,0)u(0,+oo)\n",
    "#asymptota pionowa:\n",
    "\n",
    "show(limit(f(x),x=0,dir=\"left\"))\n",
    "show(limit(f(x),x=0,dir=\"right\"))\n",
    "#x=0 - asymptota pionowa obustronna\n",
    "# asymptoty ukośne (y=ax+b)\n",
    "a1 = limit(f(x)/x,x=-oo)\n",
    "show(a1)\n",
    "b1 = limit(f(x)-a1*x,x=-oo)\n",
    "show(b1)\n",
    "#y=0*x-1, czyli y=-1 - asymptota poziona lewostronna\n",
    "a2 = limit(f(x)/x,x=+oo)\n",
    "show(a2)\n",
    "b2 = limit(f(x)-a2*x,x=+oo)\n",
    "show(b2)\n",
    "#y=1 - asymptota pozioma prawostronna\n",
    "p1 = plot(f(x),(x,-5,5),ymin=-5,ymax=5)\n",
    "p2 = plot(-1,(x,-5,5),color = \"red\", linestyle=\"--\")\n",
    "p3 = plot(1,(x,-5,5),color = \"red\", linestyle=\"--\")\n",
    "p4 = line([[0,-5],[0,5]], color = \"blue\", linestyle = \"--\")\n",
    "show(p1+p2+p3+p4)\n",
    "\n"
   ]
  },
  {
   "cell_type": "markdown",
   "metadata": {
    "collapsed": false,
    "jupyter": {
     "outputs_hidden": false
    }
   },
   "source": [
    "Zad. 3. Uzasadnić, że funkcja $f(x)=\\ln x+x^2-2$ w przedziale $\\langle e;\\pi\\rangle$ przyjmuje wartość 7. Czy funkcja przyjmuje w tym przedziale wartość największą?"
   ]
  },
  {
   "cell_type": "code",
   "execution_count": null,
   "metadata": {
    "collapsed": false,
    "jupyter": {
     "outputs_hidden": false
    }
   },
   "outputs": [],
   "source": []
  },
  {
   "cell_type": "markdown",
   "metadata": {
    "collapsed": false,
    "jupyter": {
     "outputs_hidden": false
    }
   },
   "source": [
    "Zad. 4. Uzasadnić, że podane równania mają rozwiązania we wskazanych\n",
    "przedziałach:\n",
    "\n",
    "a) $1=\\frac{\\sin x}{2}+x \\mbox{ dla } x\\in\\left(0;\\frac{\\pi}{2}\\right)$\n",
    "\n",
    "b) $\\arctg x=\\frac{1}{x^2} \\mbox{ dla } x\\in\\left(\\frac{1}{\\sqrt{3}};\\sqrt{3}\n",
    "\\right)$\n",
    "\n",
    "c) $3^x+x=3 \\mbox{ dla } x\\in(0;1)$\n",
    "\n",
    "d) $\\ln x+2x=1 \\mbox{ dla } x\\in\\left(\\frac{1}{2};1\\right)$\n",
    "\n",
    "e) $\\frac{2x}{\\pi}-\\sin x=0 \\mbox{ dla }x\\in\\left(\\frac{\\pi}{4};\n",
    "\\frac{3\\pi}{4}\\right)$\n",
    "\n",
    "f) $x2^x=1 \\mbox{ dla } x\\in (0;\\infty)$"
   ]
  },
  {
   "cell_type": "code",
   "execution_count": null,
   "metadata": {
    "collapsed": false,
    "jupyter": {
     "outputs_hidden": false
    }
   },
   "outputs": [],
   "source": []
  }
 ],
 "metadata": {
  "kernelspec": {
   "display_name": "SageMath 10.4",
   "language": "sage",
   "name": "sagemath"
  },
  "language_info": {
   "codemirror_mode": {
    "name": "ipython",
    "version": 3
   },
   "file_extension": ".py",
   "mimetype": "text/x-python",
   "name": "python",
   "nbconvert_exporter": "python",
   "pygments_lexer": "ipython3",
   "version": "3.10.12"
  }
 },
 "nbformat": 4,
 "nbformat_minor": 4
}
