{
 "cells": [
  {
   "cell_type": "markdown",
   "metadata": {},
   "source": [
    "Zadeklaruj macierz\n",
    "\n",
    "\n",
    "$$\n",
    "A=\\left(\\begin{array}{rrr}\n",
    "8 & -2 & 3 \\\\\n",
    "5 & 1 & -4\n",
    "\\end{array}\\right)\n",
    "$$\n",
    "\n"
   ]
  },
  {
   "cell_type": "code",
   "execution_count": 3,
   "metadata": {},
   "outputs": [
    {
     "data": {
      "text/html": [
       "<html>\\(\\displaystyle \\left(\\begin{array}{rrr}\n",
       "8 & -2 & 3 \\\\\n",
       "5 & 1 & -4\n",
       "\\end{array}\\right)\\)</html>"
      ],
      "text/latex": [
       "$\\displaystyle \\left(\\begin{array}{rrr}\n",
       "8 & -2 & 3 \\\\\n",
       "5 & 1 & -4\n",
       "\\end{array}\\right)$"
      ],
      "text/plain": [
       "[ 8 -2  3]\n",
       "[ 5  1 -4]"
      ]
     },
     "metadata": {},
     "output_type": "display_data"
    }
   ],
   "source": [
    "A = matrix(2,3,[8,-2,3,5,1,-4])\n",
    "show(A)"
   ]
  },
  {
   "cell_type": "code",
   "execution_count": 4,
   "metadata": {},
   "outputs": [
    {
     "data": {
      "text/html": [
       "<html>\\(\\displaystyle \\left(\\begin{array}{rrr}\n",
       "8 & -2 & 3 \\\\\n",
       "5 & 1 & -4\n",
       "\\end{array}\\right)\\)</html>"
      ],
      "text/latex": [
       "$\\displaystyle \\left(\\begin{array}{rrr}\n",
       "8 & -2 & 3 \\\\\n",
       "5 & 1 & -4\n",
       "\\end{array}\\right)$"
      ],
      "text/plain": [
       "[ 8 -2  3]\n",
       "[ 5  1 -4]"
      ]
     },
     "metadata": {},
     "output_type": "display_data"
    }
   ],
   "source": [
    "A = matrix([[8,-2,3],[5,1,-4]])\n",
    "show(A)"
   ]
  },
  {
   "cell_type": "markdown",
   "metadata": {},
   "source": [
    "Transponuj macierz A\n",
    "\n"
   ]
  },
  {
   "cell_type": "code",
   "execution_count": 5,
   "metadata": {},
   "outputs": [
    {
     "data": {
      "text/html": [
       "<html>\\(\\displaystyle \\left(\\begin{array}{rr}\n",
       "8 & 5 \\\\\n",
       "-2 & 1 \\\\\n",
       "3 & -4\n",
       "\\end{array}\\right)\\)</html>"
      ],
      "text/latex": [
       "$\\displaystyle \\left(\\begin{array}{rr}\n",
       "8 & 5 \\\\\n",
       "-2 & 1 \\\\\n",
       "3 & -4\n",
       "\\end{array}\\right)$"
      ],
      "text/plain": [
       "[ 8  5]\n",
       "[-2  1]\n",
       "[ 3 -4]"
      ]
     },
     "metadata": {},
     "output_type": "display_data"
    }
   ],
   "source": [
    "show(A.transpose())"
   ]
  },
  {
   "cell_type": "code",
   "execution_count": 6,
   "metadata": {},
   "outputs": [
    {
     "data": {
      "text/html": [
       "<html>\\(\\displaystyle \\left(\\begin{array}{rr}\n",
       "8 & 5 \\\\\n",
       "-2 & 1 \\\\\n",
       "3 & -4\n",
       "\\end{array}\\right)\\)</html>"
      ],
      "text/latex": [
       "$\\displaystyle \\left(\\begin{array}{rr}\n",
       "8 & 5 \\\\\n",
       "-2 & 1 \\\\\n",
       "3 & -4\n",
       "\\end{array}\\right)$"
      ],
      "text/plain": [
       "[ 8  5]\n",
       "[-2  1]\n",
       "[ 3 -4]"
      ]
     },
     "metadata": {},
     "output_type": "display_data"
    }
   ],
   "source": [
    "show(transpose(A))"
   ]
  },
  {
   "cell_type": "markdown",
   "metadata": {},
   "source": [
    "Wykonaj działanie  $2\\cdot A$\n",
    "\n"
   ]
  },
  {
   "cell_type": "code",
   "execution_count": 7,
   "metadata": {},
   "outputs": [
    {
     "data": {
      "text/html": [
       "<html>\\(\\displaystyle \\left(\\begin{array}{rrr}\n",
       "16 & -4 & 6 \\\\\n",
       "10 & 2 & -8\n",
       "\\end{array}\\right)\\)</html>"
      ],
      "text/latex": [
       "$\\displaystyle \\left(\\begin{array}{rrr}\n",
       "16 & -4 & 6 \\\\\n",
       "10 & 2 & -8\n",
       "\\end{array}\\right)$"
      ],
      "text/plain": [
       "[16 -4  6]\n",
       "[10  2 -8]"
      ]
     },
     "metadata": {},
     "output_type": "display_data"
    }
   ],
   "source": [
    "show(2*A)"
   ]
  },
  {
   "cell_type": "markdown",
   "metadata": {},
   "source": [
    "Zadeklaruj macierz \n",
    "\n",
    "$$\n",
    "B=\\left(\\begin{array}{rr}\n",
    "2 & -3 \\\\\n",
    "-4 & 9\\\\\n",
    "5&6\n",
    "\\end{array}\\right)\n",
    "$$\n",
    "\n"
   ]
  },
  {
   "cell_type": "code",
   "execution_count": 8,
   "metadata": {},
   "outputs": [
    {
     "data": {
      "text/html": [
       "<html>\\(\\displaystyle \\left(\\begin{array}{rr}\n",
       "2 & -3 \\\\\n",
       "-4 & 9 \\\\\n",
       "5 & 6\n",
       "\\end{array}\\right)\\)</html>"
      ],
      "text/latex": [
       "$\\displaystyle \\left(\\begin{array}{rr}\n",
       "2 & -3 \\\\\n",
       "-4 & 9 \\\\\n",
       "5 & 6\n",
       "\\end{array}\\right)$"
      ],
      "text/plain": [
       "[ 2 -3]\n",
       "[-4  9]\n",
       "[ 5  6]"
      ]
     },
     "metadata": {},
     "output_type": "display_data"
    }
   ],
   "source": [
    "B = matrix(3,2,[2,-3,-4,9,5,6])\n",
    "show(B)"
   ]
  },
  {
   "cell_type": "markdown",
   "metadata": {},
   "source": [
    "Wykonaj mnożenie \n",
    "\n",
    "\n",
    "$$\n",
    "B\\cdot A\n",
    "$$\n",
    "\n"
   ]
  },
  {
   "cell_type": "code",
   "execution_count": 9,
   "metadata": {},
   "outputs": [
    {
     "data": {
      "text/html": [
       "<html>\\(\\displaystyle \\left(\\begin{array}{rrr}\n",
       "1 & -7 & 18 \\\\\n",
       "13 & 17 & -48 \\\\\n",
       "70 & -4 & -9\n",
       "\\end{array}\\right)\\)</html>"
      ],
      "text/latex": [
       "$\\displaystyle \\left(\\begin{array}{rrr}\n",
       "1 & -7 & 18 \\\\\n",
       "13 & 17 & -48 \\\\\n",
       "70 & -4 & -9\n",
       "\\end{array}\\right)$"
      ],
      "text/plain": [
       "[  1  -7  18]\n",
       "[ 13  17 -48]\n",
       "[ 70  -4  -9]"
      ]
     },
     "metadata": {},
     "output_type": "display_data"
    }
   ],
   "source": [
    "show(B*A)"
   ]
  },
  {
   "cell_type": "markdown",
   "metadata": {},
   "source": [
    "Wyznacz macierz\n",
    "\n",
    "\n",
    "$$\n",
    "C=A\\cdot B\n",
    "$$\n",
    "\n"
   ]
  },
  {
   "cell_type": "code",
   "execution_count": 10,
   "metadata": {},
   "outputs": [
    {
     "data": {
      "text/html": [
       "<html>\\(\\displaystyle \\left(\\begin{array}{rr}\n",
       "39 & -24 \\\\\n",
       "-14 & -30\n",
       "\\end{array}\\right)\\)</html>"
      ],
      "text/latex": [
       "$\\displaystyle \\left(\\begin{array}{rr}\n",
       "39 & -24 \\\\\n",
       "-14 & -30\n",
       "\\end{array}\\right)$"
      ],
      "text/plain": [
       "[ 39 -24]\n",
       "[-14 -30]"
      ]
     },
     "metadata": {},
     "output_type": "display_data"
    }
   ],
   "source": [
    "C = A*B\n",
    "show(C)"
   ]
  },
  {
   "cell_type": "markdown",
   "metadata": {},
   "source": [
    "Wyznacz macierz \n",
    "\n",
    "$$\n",
    "C^{-1}\n",
    "$$\n",
    "\n"
   ]
  },
  {
   "cell_type": "code",
   "execution_count": 11,
   "metadata": {},
   "outputs": [
    {
     "data": {
      "text/html": [
       "<html>\\(\\displaystyle \\left(\\begin{array}{rr}\n",
       "\\frac{5}{251} & -\\frac{4}{251} \\\\\n",
       "-\\frac{7}{753} & -\\frac{13}{502}\n",
       "\\end{array}\\right)\\)</html>"
      ],
      "text/latex": [
       "$\\displaystyle \\left(\\begin{array}{rr}\n",
       "\\frac{5}{251} & -\\frac{4}{251} \\\\\n",
       "-\\frac{7}{753} & -\\frac{13}{502}\n",
       "\\end{array}\\right)$"
      ],
      "text/plain": [
       "[  5/251  -4/251]\n",
       "[ -7/753 -13/502]"
      ]
     },
     "metadata": {},
     "output_type": "display_data"
    }
   ],
   "source": [
    "show(C^(-1))"
   ]
  },
  {
   "cell_type": "code",
   "execution_count": 12,
   "metadata": {},
   "outputs": [
    {
     "data": {
      "text/html": [
       "<html>\\(\\displaystyle \\left(\\begin{array}{rr}\n",
       "\\frac{5}{251} & -\\frac{4}{251} \\\\\n",
       "-\\frac{7}{753} & -\\frac{13}{502}\n",
       "\\end{array}\\right)\\)</html>"
      ],
      "text/latex": [
       "$\\displaystyle \\left(\\begin{array}{rr}\n",
       "\\frac{5}{251} & -\\frac{4}{251} \\\\\n",
       "-\\frac{7}{753} & -\\frac{13}{502}\n",
       "\\end{array}\\right)$"
      ],
      "text/plain": [
       "[  5/251  -4/251]\n",
       "[ -7/753 -13/502]"
      ]
     },
     "metadata": {},
     "output_type": "display_data"
    }
   ],
   "source": [
    "show(C.inverse())"
   ]
  },
  {
   "cell_type": "code",
   "execution_count": 15,
   "metadata": {},
   "outputs": [
    {
     "ename": "NameError",
     "evalue": "name 'inverse' is not defined",
     "output_type": "error",
     "traceback": [
      "\u001b[0;31m---------------------------------------------------------------------------\u001b[0m",
      "\u001b[0;31mNameError\u001b[0m                                 Traceback (most recent call last)",
      "\u001b[0;32m/tmp/ipykernel_1017/1554405385.py\u001b[0m in \u001b[0;36m<module>\u001b[0;34m\u001b[0m\n\u001b[0;32m----> 1\u001b[0;31m \u001b[0minverse\u001b[0m\u001b[0;34m(\u001b[0m\u001b[0mC\u001b[0m\u001b[0;34m)\u001b[0m\u001b[0;34m\u001b[0m\u001b[0;34m\u001b[0m\u001b[0m\n\u001b[0m",
      "\u001b[0;31mNameError\u001b[0m: name 'inverse' is not defined"
     ]
    }
   ],
   "source": [
    "inverse(C)"
   ]
  },
  {
   "cell_type": "markdown",
   "metadata": {},
   "source": [
    "Wyznacz macierz \n",
    "\n",
    "$$\n",
    "C^3\n",
    "$$\n",
    "\n"
   ]
  },
  {
   "cell_type": "code",
   "execution_count": 16,
   "metadata": {},
   "outputs": [
    {
     "data": {
      "text/html": [
       "<html><script type=\"math/tex; mode=display\">\\newcommand{\\Bold}[1]{\\mathbf{#1}}\\left(\\begin{array}{rr}\n",
       "75447 & -38088 \\\\\n",
       "-22218 & -34056\n",
       "\\end{array}\\right)</script></html>"
      ],
      "text/latex": [
       "$$\\newcommand{\\Bold}[1]{\\mathbf{#1}}\\left(\\begin{array}{rr}\n",
       "75447 & -38088 \\\\\n",
       "-22218 & -34056\n",
       "\\end{array}\\right)$$"
      ],
      "text/plain": [
       "[ 75447 -38088]\n",
       "[-22218 -34056]"
      ]
     },
     "metadata": {},
     "output_type": "display_data"
    }
   ],
   "source": [
    "show(C^3)"
   ]
  },
  {
   "cell_type": "markdown",
   "metadata": {},
   "source": [
    "Wykonaj obliczenia\n",
    "\n",
    "\\begin{equation*}\n",
    "    \\left(\n",
    "        2\\cdot\n",
    "        \\begin{bmatrix}\n",
    "        0  & -2 & 1 \\\\\n",
    "        2 & -3 & 0\n",
    "        \\end{bmatrix}\n",
    "        +\n",
    "        \\begin{bmatrix}\n",
    "        1 &  3 \\\\\n",
    "        2 & -3 \\\\\n",
    "        1 &  2\n",
    "        \\end{bmatrix}^{\\top}\n",
    "    \\right)\\cdot\n",
    "    \\begin{bmatrix}\n",
    "    -1 &  0 & 0 \\\\\n",
    "     1 & -2 & 0 \\\\\n",
    "     2 &  1 & 0\n",
    "    \\end{bmatrix}^{\\top}\n",
    "    -3\n",
    "    \\begin{bmatrix}\n",
    "    1 & -1 & 0 \\\\\n",
    "    0 & -2 & 1\n",
    "    \\end{bmatrix}\n",
    "\\end{equation*}\n",
    "\n"
   ]
  },
  {
   "cell_type": "code",
   "execution_count": 17,
   "metadata": {},
   "outputs": [
    {
     "data": {
      "text/html": [
       "<html><script type=\"math/tex; mode=display\">\\newcommand{\\Bold}[1]{\\mathbf{#1}}\\left(\\begin{array}{rrr}\n",
       "0 & -2 & 1 \\\\\n",
       "2 & -3 & 0\n",
       "\\end{array}\\right) \\left(\\begin{array}{rr}\n",
       "1 & 3 \\\\\n",
       "2 & -3 \\\\\n",
       "1 & 2\n",
       "\\end{array}\\right) \\left(\\begin{array}{rrr}\n",
       "-1 & 0 & 0 \\\\\n",
       "1 & -2 & 0 \\\\\n",
       "2 & 1 & 0\n",
       "\\end{array}\\right) \\left(\\begin{array}{rrr}\n",
       "1 & -1 & 0 \\\\\n",
       "0 & -2 & 1\n",
       "\\end{array}\\right)</script></html>"
      ],
      "text/latex": [
       "$$\\newcommand{\\Bold}[1]{\\mathbf{#1}}\\left(\\begin{array}{rrr}\n",
       "0 & -2 & 1 \\\\\n",
       "2 & -3 & 0\n",
       "\\end{array}\\right) \\left(\\begin{array}{rr}\n",
       "1 & 3 \\\\\n",
       "2 & -3 \\\\\n",
       "1 & 2\n",
       "\\end{array}\\right) \\left(\\begin{array}{rrr}\n",
       "-1 & 0 & 0 \\\\\n",
       "1 & -2 & 0 \\\\\n",
       "2 & 1 & 0\n",
       "\\end{array}\\right) \\left(\\begin{array}{rrr}\n",
       "1 & -1 & 0 \\\\\n",
       "0 & -2 & 1\n",
       "\\end{array}\\right)$$"
      ],
      "text/plain": [
       "[ 0 -2  1]\n",
       "[ 2 -3  0] [ 1  3]\n",
       "[ 2 -3]\n",
       "[ 1  2] [-1  0  0]\n",
       "[ 1 -2  0]\n",
       "[ 2  1  0] [ 1 -1  0]\n",
       "[ 0 -2  1]"
      ]
     },
     "metadata": {},
     "output_type": "display_data"
    }
   ],
   "source": [
    "A = matrix(2,3,[0,-2,1,2,-3,0])\n",
    "B = matrix(3,2,[1,3,2,-3,1,2])\n",
    "C = matrix(3,3,[-1,0,0,1,-2,0,2,1,0])\n",
    "D = matrix(2,3,[1,-1,0,0,-2,1])\n",
    "show(A,B,C,D)"
   ]
  },
  {
   "cell_type": "code",
   "execution_count": 19,
   "metadata": {},
   "outputs": [
    {
     "data": {
      "text/html": [
       "<html><script type=\"math/tex; mode=display\">\\newcommand{\\Bold}[1]{\\mathbf{#1}}\\left(\\begin{array}{rrr}\n",
       "-4 & 8 & 0 \\\\\n",
       "-7 & 31 & 2\n",
       "\\end{array}\\right)</script></html>"
      ],
      "text/latex": [
       "$$\\newcommand{\\Bold}[1]{\\mathbf{#1}}\\left(\\begin{array}{rrr}\n",
       "-4 & 8 & 0 \\\\\n",
       "-7 & 31 & 2\n",
       "\\end{array}\\right)$$"
      ],
      "text/plain": [
       "[-4  8  0]\n",
       "[-7 31  2]"
      ]
     },
     "metadata": {},
     "output_type": "display_data"
    }
   ],
   "source": [
    "show((2*A+B.transpose())*C.transpose()-3*D)"
   ]
  },
  {
   "cell_type": "markdown",
   "metadata": {},
   "source": [
    "Znaleźć macierz rzeczywistą X spełniającą równanie:\n",
    "\n",
    "\n",
    "$$\n",
    "X^T\\cdot\\left[\\begin{array}{rr}1&8\\\\-1&2\\end{array}\\right]^2=\\left[\\begin{array}{rr}1&8\\\\0&-1\\end{array}\\right]^T+5\\cdot\\left[\\begin{array}{rr}0&-7\\\\2&-1\\end{array}\\right]\n",
    "$$\n",
    "\n"
   ]
  },
  {
   "cell_type": "code",
   "execution_count": 20,
   "metadata": {},
   "outputs": [
    {
     "data": {
      "text/html": [
       "<html><script type=\"math/tex; mode=display\">\\newcommand{\\Bold}[1]{\\mathbf{#1}}\\left(\\begin{array}{rr}\n",
       "1 & 8 \\\\\n",
       "-1 & 2\n",
       "\\end{array}\\right) \\left(\\begin{array}{rr}\n",
       "1 & 8 \\\\\n",
       "0 & -1\n",
       "\\end{array}\\right) \\left(\\begin{array}{rr}\n",
       "0 & -7 \\\\\n",
       "2 & -1\n",
       "\\end{array}\\right)</script></html>"
      ],
      "text/latex": [
       "$$\\newcommand{\\Bold}[1]{\\mathbf{#1}}\\left(\\begin{array}{rr}\n",
       "1 & 8 \\\\\n",
       "-1 & 2\n",
       "\\end{array}\\right) \\left(\\begin{array}{rr}\n",
       "1 & 8 \\\\\n",
       "0 & -1\n",
       "\\end{array}\\right) \\left(\\begin{array}{rr}\n",
       "0 & -7 \\\\\n",
       "2 & -1\n",
       "\\end{array}\\right)$$"
      ],
      "text/plain": [
       "[ 1  8]\n",
       "[-1  2] [ 1  8]\n",
       "[ 0 -1] [ 0 -7]\n",
       "[ 2 -1]"
      ]
     },
     "metadata": {},
     "output_type": "display_data"
    }
   ],
   "source": [
    "A = matrix(2,2,[1,8,-1,2])\n",
    "B = matrix(2,2,[1,8,0,-1])\n",
    "C = matrix(2,2,[0,-7,2,-1])\n",
    "show(A,B,C)"
   ]
  },
  {
   "cell_type": "code",
   "execution_count": 22,
   "metadata": {},
   "outputs": [
    {
     "data": {
      "text/html": [
       "<html><script type=\"math/tex; mode=display\">\\newcommand{\\Bold}[1]{\\mathbf{#1}}\\left(\\begin{array}{rr}\n",
       "-7 & 24 \\\\\n",
       "-3 & -4\n",
       "\\end{array}\\right) \\left(\\begin{array}{rr}\n",
       "1 & -35 \\\\\n",
       "18 & -6\n",
       "\\end{array}\\right)</script></html>"
      ],
      "text/latex": [
       "$$\\newcommand{\\Bold}[1]{\\mathbf{#1}}\\left(\\begin{array}{rr}\n",
       "-7 & 24 \\\\\n",
       "-3 & -4\n",
       "\\end{array}\\right) \\left(\\begin{array}{rr}\n",
       "1 & -35 \\\\\n",
       "18 & -6\n",
       "\\end{array}\\right)$$"
      ],
      "text/plain": [
       "[-7 24]\n",
       "[-3 -4] [  1 -35]\n",
       "[ 18  -6]"
      ]
     },
     "metadata": {},
     "output_type": "display_data"
    }
   ],
   "source": [
    "D = A^2\n",
    "E = B.transpose()+5*C\n",
    "show(D,E)"
   ]
  },
  {
   "cell_type": "code",
   "execution_count": 24,
   "metadata": {},
   "outputs": [
    {
     "data": {
      "text/html": [
       "<html><script type=\"math/tex; mode=display\">\\newcommand{\\Bold}[1]{\\mathbf{#1}}\\left(\\begin{array}{rr}\n",
       "-\\frac{109}{100} & \\frac{221}{100} \\\\\n",
       "-\\frac{9}{10} & -\\frac{39}{10}\n",
       "\\end{array}\\right)</script></html>"
      ],
      "text/latex": [
       "$$\\newcommand{\\Bold}[1]{\\mathbf{#1}}\\left(\\begin{array}{rr}\n",
       "-\\frac{109}{100} & \\frac{221}{100} \\\\\n",
       "-\\frac{9}{10} & -\\frac{39}{10}\n",
       "\\end{array}\\right)$$"
      ],
      "text/plain": [
       "[-109/100  221/100]\n",
       "[   -9/10   -39/10]"
      ]
     },
     "metadata": {},
     "output_type": "display_data"
    }
   ],
   "source": [
    "F = E*D^(-1)\n",
    "show(F)"
   ]
  },
  {
   "cell_type": "code",
   "execution_count": 25,
   "metadata": {},
   "outputs": [
    {
     "data": {
      "text/html": [
       "<html><script type=\"math/tex; mode=display\">\\newcommand{\\Bold}[1]{\\mathbf{#1}}\\verb|Odpowiedź:| \\verb| |\\verb|X=| \\left(\\begin{array}{rr}\n",
       "-\\frac{109}{100} & -\\frac{9}{10} \\\\\n",
       "\\frac{221}{100} & -\\frac{39}{10}\n",
       "\\end{array}\\right)</script></html>"
      ],
      "text/latex": [
       "$$\\newcommand{\\Bold}[1]{\\mathbf{#1}}\\verb|Odpowiedź:| \\verb| |\\verb|X=| \\left(\\begin{array}{rr}\n",
       "-\\frac{109}{100} & -\\frac{9}{10} \\\\\n",
       "\\frac{221}{100} & -\\frac{39}{10}\n",
       "\\end{array}\\right)$$"
      ],
      "text/plain": [
       "'Odpowiedź:' ' X=' [-109/100    -9/10]\n",
       "[ 221/100   -39/10]"
      ]
     },
     "metadata": {},
     "output_type": "display_data"
    }
   ],
   "source": [
    "X = F.transpose()\n",
    "show('Odpowiedź:',' X=',X)"
   ]
  },
  {
   "cell_type": "markdown",
   "metadata": {},
   "source": [
    "Znaleźć macierz rzeczywistą X spełniającą równanie\n",
    "\n",
    "$$\n",
    "3\\cdot\n",
    "\\left[\\begin{array}{rrr}\n",
    "-1 & 7&0\\\\\n",
    "0 & 1&-2 \\\\\n",
    "2 & -1&8\n",
    "\\end{array}\\right]^T\n",
    "\\cdot X=\n",
    "\\left[\\begin{array}{rr}\n",
    "5 & 4 \\\\\n",
    "8 & -3\\\\\n",
    "-9&2\n",
    "\\end{array}\\right]\n",
    "$$\n",
    "\n"
   ]
  },
  {
   "cell_type": "code",
   "execution_count": 26,
   "metadata": {},
   "outputs": [
    {
     "data": {
      "text/html": [
       "<html><script type=\"math/tex; mode=display\">\\newcommand{\\Bold}[1]{\\mathbf{#1}}\\left(\\begin{array}{rrr}\n",
       "-1 & 7 & 0 \\\\\n",
       "0 & 1 & -2 \\\\\n",
       "2 & -1 & 8\n",
       "\\end{array}\\right) \\left(\\begin{array}{rr}\n",
       "5 & 4 \\\\\n",
       "8 & -3 \\\\\n",
       "-9 & 2\n",
       "\\end{array}\\right)</script></html>"
      ],
      "text/latex": [
       "$$\\newcommand{\\Bold}[1]{\\mathbf{#1}}\\left(\\begin{array}{rrr}\n",
       "-1 & 7 & 0 \\\\\n",
       "0 & 1 & -2 \\\\\n",
       "2 & -1 & 8\n",
       "\\end{array}\\right) \\left(\\begin{array}{rr}\n",
       "5 & 4 \\\\\n",
       "8 & -3 \\\\\n",
       "-9 & 2\n",
       "\\end{array}\\right)$$"
      ],
      "text/plain": [
       "[-1  7  0]\n",
       "[ 0  1 -2]\n",
       "[ 2 -1  8] [ 5  4]\n",
       "[ 8 -3]\n",
       "[-9  2]"
      ]
     },
     "metadata": {},
     "output_type": "display_data"
    }
   ],
   "source": [
    "A = matrix(3,3,[-1,7,0,0,1,-2,2,-1,8])\n",
    "B = matrix(3,2,[5,4,8,-3,-9,2])\n",
    "show(A,B)"
   ]
  },
  {
   "cell_type": "code",
   "execution_count": 27,
   "metadata": {},
   "outputs": [
    {
     "data": {
      "text/html": [
       "<html><script type=\"math/tex; mode=display\">\\newcommand{\\Bold}[1]{\\mathbf{#1}}\\left(\\begin{array}{rrr}\n",
       "-3 & 0 & 6 \\\\\n",
       "21 & 3 & -3 \\\\\n",
       "0 & -6 & 24\n",
       "\\end{array}\\right)</script></html>"
      ],
      "text/latex": [
       "$$\\newcommand{\\Bold}[1]{\\mathbf{#1}}\\left(\\begin{array}{rrr}\n",
       "-3 & 0 & 6 \\\\\n",
       "21 & 3 & -3 \\\\\n",
       "0 & -6 & 24\n",
       "\\end{array}\\right)$$"
      ],
      "text/plain": [
       "[-3  0  6]\n",
       "[21  3 -3]\n",
       "[ 0 -6 24]"
      ]
     },
     "metadata": {},
     "output_type": "display_data"
    }
   ],
   "source": [
    "C = 3*A.transpose()\n",
    "show(C)"
   ]
  },
  {
   "cell_type": "code",
   "execution_count": 28,
   "metadata": {},
   "outputs": [],
   "source": [
    "X = C^(-1)*B"
   ]
  },
  {
   "cell_type": "code",
   "execution_count": 29,
   "metadata": {},
   "outputs": [
    {
     "data": {
      "text/html": [
       "<html><script type=\"math/tex; mode=display\">\\newcommand{\\Bold}[1]{\\mathbf{#1}}\\verb|Odpowiedź:| \\verb| |\\verb|X=| \\left(\\begin{array}{rr}\n",
       "-\\frac{8}{51} & -\\frac{16}{51} \\\\\n",
       "\\frac{461}{102} & \\frac{29}{17} \\\\\n",
       "\\frac{77}{102} & \\frac{26}{51}\n",
       "\\end{array}\\right)</script></html>"
      ],
      "text/latex": [
       "$$\\newcommand{\\Bold}[1]{\\mathbf{#1}}\\verb|Odpowiedź:| \\verb| |\\verb|X=| \\left(\\begin{array}{rr}\n",
       "-\\frac{8}{51} & -\\frac{16}{51} \\\\\n",
       "\\frac{461}{102} & \\frac{29}{17} \\\\\n",
       "\\frac{77}{102} & \\frac{26}{51}\n",
       "\\end{array}\\right)$$"
      ],
      "text/plain": [
       "'Odpowiedź:' ' X=' [  -8/51  -16/51]\n",
       "[461/102   29/17]\n",
       "[ 77/102   26/51]"
      ]
     },
     "metadata": {},
     "output_type": "display_data"
    }
   ],
   "source": [
    "show('Odpowiedź:',' X=',X)"
   ]
  },
  {
   "cell_type": "markdown",
   "metadata": {},
   "source": [
    "Znaleźć macierz rzeczywistą X spełniającą równanie:\n",
    "\n",
    "$$\n",
    "3\\cdot\n",
    "\\left[\\begin{array}{rr}\n",
    "-1 & 7\\\\\n",
    "0 & 1 \\\\\n",
    "2 & -1\n",
    "\\end{array}\\right]^T\n",
    "\\cdot X=\n",
    "\\left[\\begin{array}{rr}\n",
    "5 & 4 \\\\\n",
    "8 & -3\n",
    "\\end{array}\\right]\n",
    "$$\n",
    "\n"
   ]
  },
  {
   "cell_type": "code",
   "execution_count": 30,
   "metadata": {},
   "outputs": [
    {
     "data": {
      "text/html": [
       "<html><script type=\"math/tex; mode=display\">\\newcommand{\\Bold}[1]{\\mathbf{#1}}\\left(\\begin{array}{rr}\n",
       "-1 & 7 \\\\\n",
       "0 & 1 \\\\\n",
       "2 & -1\n",
       "\\end{array}\\right) \\left(\\begin{array}{rr}\n",
       "5 & 4 \\\\\n",
       "8 & -3\n",
       "\\end{array}\\right)</script></html>"
      ],
      "text/latex": [
       "$$\\newcommand{\\Bold}[1]{\\mathbf{#1}}\\left(\\begin{array}{rr}\n",
       "-1 & 7 \\\\\n",
       "0 & 1 \\\\\n",
       "2 & -1\n",
       "\\end{array}\\right) \\left(\\begin{array}{rr}\n",
       "5 & 4 \\\\\n",
       "8 & -3\n",
       "\\end{array}\\right)$$"
      ],
      "text/plain": [
       "[-1  7]\n",
       "[ 0  1]\n",
       "[ 2 -1] [ 5  4]\n",
       "[ 8 -3]"
      ]
     },
     "metadata": {},
     "output_type": "display_data"
    }
   ],
   "source": [
    "A = matrix(3,2,[-1,7,0,1,2,-1])\n",
    "B = matrix(2,2,[5,4,8,-3])\n",
    "show(A,B)"
   ]
  },
  {
   "cell_type": "code",
   "execution_count": 31,
   "metadata": {},
   "outputs": [
    {
     "data": {
      "text/html": [
       "<html><script type=\"math/tex; mode=display\">\\newcommand{\\Bold}[1]{\\mathbf{#1}}\\left(\\begin{array}{rrr}\n",
       "-3 & 0 & 6 \\\\\n",
       "21 & 3 & -3\n",
       "\\end{array}\\right)</script></html>"
      ],
      "text/latex": [
       "$$\\newcommand{\\Bold}[1]{\\mathbf{#1}}\\left(\\begin{array}{rrr}\n",
       "-3 & 0 & 6 \\\\\n",
       "21 & 3 & -3\n",
       "\\end{array}\\right)$$"
      ],
      "text/plain": [
       "[-3  0  6]\n",
       "[21  3 -3]"
      ]
     },
     "metadata": {},
     "output_type": "display_data"
    }
   ],
   "source": [
    "C = 3*A.transpose()\n",
    "show(C)"
   ]
  },
  {
   "cell_type": "code",
   "execution_count": 32,
   "metadata": {},
   "outputs": [
    {
     "data": {
      "text/html": [
       "<html><script type=\"math/tex; mode=display\">\\newcommand{\\Bold}[1]{\\mathbf{#1}}\\verb|Odpowiedź:| \\verb| |\\verb|X=| \\left(\\begin{array}{rr}\n",
       "-\\frac{5}{3} & -\\frac{4}{3} \\\\\n",
       "\\frac{43}{3} & \\frac{25}{3} \\\\\n",
       "0 & 0\n",
       "\\end{array}\\right)</script></html>"
      ],
      "text/latex": [
       "$$\\newcommand{\\Bold}[1]{\\mathbf{#1}}\\verb|Odpowiedź:| \\verb| |\\verb|X=| \\left(\\begin{array}{rr}\n",
       "-\\frac{5}{3} & -\\frac{4}{3} \\\\\n",
       "\\frac{43}{3} & \\frac{25}{3} \\\\\n",
       "0 & 0\n",
       "\\end{array}\\right)$$"
      ],
      "text/plain": [
       "'Odpowiedź:' ' X=' [-5/3 -4/3]\n",
       "[43/3 25/3]\n",
       "[   0    0]"
      ]
     },
     "metadata": {},
     "output_type": "display_data"
    }
   ],
   "source": [
    "X = C.solve_right(B)\n",
    "show('Odpowiedź:',' X=',X)"
   ]
  },
  {
   "cell_type": "code",
   "execution_count": null,
   "metadata": {},
   "outputs": [],
   "source": []
  },
  {
   "cell_type": "code",
   "execution_count": null,
   "metadata": {},
   "outputs": [],
   "source": []
  },
  {
   "cell_type": "markdown",
   "metadata": {},
   "source": [
    "AX=Y to A.solve\\_right\\(Y\\)\n",
    "\n",
    "XA=Y to A.solve\\_left\\(Y\\)\n"
   ]
  },
  {
   "cell_type": "markdown",
   "metadata": {},
   "source": [
    "<span style='font-size:x-large'>Zadania do samodzielnego wykonania:</span>\n",
    "\n",
    "Znaleźć macierz rzeczywistą X spełniającą równanie:\n",
    "\n",
    "1. \n",
    "   $$\n",
    "   X^T\\cdot\\left(\\left[\\begin{array}{rrrr}3&5&6&0\\\\ -1&-4&8&0\\\\ -3&0&-2&3\\end{array}\\right] \\cdot\\left[\\begin{array}{rrr}0&2&1\\\\-3&1&-4\\\\3&7&10\\\\ 7&8&-5\\end{array}\\right]\\right)^2=\\left[\\begin{array}{rrr}0&-10&-7\\\\-3&2&-1\\\\7&-7&6\\end{array}\\right]-7\\cdot\\left[\\begin{array}{rrr}1&8&2\\\\5&0&-1\\\\1&1&2\\end{array}\\right]^T.\n",
    "   $$\n",
    "2. $$\n",
    "   \\left[\\begin{array}{rrrr}3&5&6&0\\\\ -1&-4&8&0\\\\ -3&0&-2&3\\end{array}\\right] \\cdot X^T=5\\cdot\\left[\\begin{array}{rrr}0&-10&-7\\\\-3&2&-1\\\\7&-7&6\\end{array}\\right]\\cdot\\left[\\begin{array}{rrr}1&8&2\\\\5&0&-1\\\\1&1&2\\end{array}\\right]^3.\n",
    "   $$\n",
    "\n"
   ]
  },
  {
   "cell_type": "markdown",
   "metadata": {},
   "source": [
    "Odpowiedź do przykładu 1\n",
    "\n",
    "$X = \\left(\\begin{array}{rrr}\n",
    "\\frac{31626039}{1472794129} & -\\frac{68817542}{1472794129} & -\\frac{11551188}{1472794129} \\\\\n",
    "-\\frac{89448463}{4418382387} & \\frac{100126291}{4418382387} & \\frac{19018103}{4418382387} \\\\\n",
    "-\\frac{21107012}{1472794129} & \\frac{57282468}{1472794129} & \\frac{4841280}{1472794129}\n",
    "\\end{array}\\right)$"
   ]
  },
  {
   "cell_type": "markdown",
   "metadata": {},
   "source": [
    "Odpowiedź do przykładu 2\n",
    "\n",
    "$X=\\left(\\begin{array}{rrrr}\n",
    "\\frac{117710}{89} & -\\frac{198105}{89} & -\\frac{80000}{89} & 0 \\\\\n",
    "-\\frac{361445}{89} & \\frac{162655}{89} & -\\frac{40625}{178} & 0 \\\\\n",
    "-\\frac{107010}{89} & \\frac{63205}{89} & \\frac{7305}{178} & 0\n",
    "\\end{array}\\right)$"
   ]
  },
  {
   "cell_type": "code",
   "execution_count": 4,
   "metadata": {},
   "outputs": [
    {
     "data": {
      "text/html": [
       "<html>\\(\\displaystyle \\left(\\begin{array}{rrr}\n",
       "\\frac{31626039}{1472794129} & -\\frac{68817542}{1472794129} & -\\frac{11551188}{1472794129} \\\\\n",
       "-\\frac{89448463}{4418382387} & \\frac{100126291}{4418382387} & \\frac{19018103}{4418382387} \\\\\n",
       "-\\frac{21107012}{1472794129} & \\frac{57282468}{1472794129} & \\frac{4841280}{1472794129}\n",
       "\\end{array}\\right)\\)</html>"
      ],
      "text/latex": [
       "$\\displaystyle \\left(\\begin{array}{rrr}\n",
       "\\frac{31626039}{1472794129} & -\\frac{68817542}{1472794129} & -\\frac{11551188}{1472794129} \\\\\n",
       "-\\frac{89448463}{4418382387} & \\frac{100126291}{4418382387} & \\frac{19018103}{4418382387} \\\\\n",
       "-\\frac{21107012}{1472794129} & \\frac{57282468}{1472794129} & \\frac{4841280}{1472794129}\n",
       "\\end{array}\\right)$"
      ],
      "text/plain": [
       "[ 31626039/1472794129 -68817542/1472794129 -11551188/1472794129]\n",
       "[-89448463/4418382387 100126291/4418382387  19018103/4418382387]\n",
       "[-21107012/1472794129  57282468/1472794129   4841280/1472794129]"
      ]
     },
     "metadata": {},
     "output_type": "display_data"
    }
   ],
   "source": [
    "A = matrix(3,4,[3,5,6,0,-1,-4,8,0,-3,0,-2,3])\n",
    "B = matrix(4,3,[0,2,1,-3,1,-4,3,7,10,7,8,-5])\n",
    "C = matrix(3,3,[0,-10,-7,-3,2,-1,7,-7,6])\n",
    "D = matrix(3,3,[1,8,2,5,0,-1,1,1,2])\n",
    "L = (A*B)^2\n",
    "P = C - 7*D.transpose()\n",
    "X = L.solve_left(P)\n",
    "X_t = X.transpose()\n",
    "show(X_t)"
   ]
  },
  {
   "cell_type": "code",
   "execution_count": 6,
   "metadata": {},
   "outputs": [
    {
     "data": {
      "text/html": [
       "<html>\\(\\displaystyle \\left(\\begin{array}{rrrr}\n",
       "\\frac{117710}{89} & -\\frac{198105}{89} & -\\frac{80000}{89} & 0 \\\\\n",
       "-\\frac{361445}{89} & \\frac{162655}{89} & -\\frac{40625}{178} & 0 \\\\\n",
       "-\\frac{107010}{89} & \\frac{63205}{89} & \\frac{7305}{178} & 0\n",
       "\\end{array}\\right)\\)</html>"
      ],
      "text/latex": [
       "$\\displaystyle \\left(\\begin{array}{rrrr}\n",
       "\\frac{117710}{89} & -\\frac{198105}{89} & -\\frac{80000}{89} & 0 \\\\\n",
       "-\\frac{361445}{89} & \\frac{162655}{89} & -\\frac{40625}{178} & 0 \\\\\n",
       "-\\frac{107010}{89} & \\frac{63205}{89} & \\frac{7305}{178} & 0\n",
       "\\end{array}\\right)$"
      ],
      "text/plain": [
       "[ 117710/89 -198105/89  -80000/89          0]\n",
       "[-361445/89  162655/89 -40625/178          0]\n",
       "[-107010/89   63205/89   7305/178          0]"
      ]
     },
     "metadata": {},
     "output_type": "display_data"
    }
   ],
   "source": [
    "A = matrix(3,4,[3,5,6,0,-1,-4,8,0,-3,0,-2,3])\n",
    "B = matrix(3,3,[0,-10,-7,-3,2,-1,7,-7,6])\n",
    "C = matrix(3,3,[1,8,2,5,0,-1,1,1,2])\n",
    "P = 5*B*C^3\n",
    "X = A.solve_right(P)\n",
    "X_t = X.transpose()\n",
    "show(X_t)"
   ]
  },
  {
   "cell_type": "code",
   "execution_count": 3,
   "metadata": {},
   "outputs": [
    {
     "data": {
      "text/html": [
       "<html>\\(\\displaystyle \\left(\\begin{array}{rrr}\n",
       "\\frac{31626039}{1472794129} & -\\frac{68817542}{1472794129} & -\\frac{11551188}{1472794129} \\\\\n",
       "-\\frac{89448463}{4418382387} & \\frac{100126291}{4418382387} & \\frac{19018103}{4418382387} \\\\\n",
       "-\\frac{21107012}{1472794129} & \\frac{57282468}{1472794129} & \\frac{4841280}{1472794129}\n",
       "\\end{array}\\right)\\)</html>"
      ],
      "text/latex": [
       "$\\displaystyle \\left(\\begin{array}{rrr}\n",
       "\\frac{31626039}{1472794129} & -\\frac{68817542}{1472794129} & -\\frac{11551188}{1472794129} \\\\\n",
       "-\\frac{89448463}{4418382387} & \\frac{100126291}{4418382387} & \\frac{19018103}{4418382387} \\\\\n",
       "-\\frac{21107012}{1472794129} & \\frac{57282468}{1472794129} & \\frac{4841280}{1472794129}\n",
       "\\end{array}\\right)$"
      ],
      "text/plain": [
       "[ 31626039/1472794129 -68817542/1472794129 -11551188/1472794129]\n",
       "[-89448463/4418382387 100126291/4418382387  19018103/4418382387]\n",
       "[-21107012/1472794129  57282468/1472794129   4841280/1472794129]"
      ]
     },
     "metadata": {},
     "output_type": "display_data"
    }
   ],
   "source": []
  },
  {
   "cell_type": "code",
   "execution_count": null,
   "metadata": {},
   "outputs": [],
   "source": []
  },
  {
   "cell_type": "code",
   "execution_count": null,
   "metadata": {},
   "outputs": [],
   "source": []
  }
 ],
 "metadata": {
  "kernelspec": {
   "display_name": "SageMath 10.4",
   "language": "sage",
   "name": "sagemath"
  },
  "language_info": {
   "codemirror_mode": {
    "name": "ipython",
    "version": 3
   },
   "file_extension": ".py",
   "mimetype": "text/x-python",
   "name": "python",
   "nbconvert_exporter": "python",
   "pygments_lexer": "ipython3",
   "version": "3.10.12"
  }
 },
 "nbformat": 4,
 "nbformat_minor": 4
}
