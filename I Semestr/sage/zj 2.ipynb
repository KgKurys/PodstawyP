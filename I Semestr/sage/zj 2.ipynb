{
 "cells": [
  {
   "cell_type": "code",
   "execution_count": 34,
   "metadata": {
    "collapsed": false,
    "jupyter": {
     "outputs_hidden": false
    }
   },
   "outputs": [
    {
     "data": {
      "text/html": [
       "<html>\\(\\displaystyle \\left(\\begin{array}{rrr}\n",
       "8 & -2 & 3 \\\\\n",
       "5 & 1 & -4\n",
       "\\end{array}\\right)\\)</html>"
      ],
      "text/latex": [
       "$\\displaystyle \\left(\\begin{array}{rrr}\n",
       "8 & -2 & 3 \\\\\n",
       "5 & 1 & -4\n",
       "\\end{array}\\right)$"
      ],
      "text/plain": [
       "[ 8 -2  3]\n",
       "[ 5  1 -4]"
      ]
     },
     "execution_count": 34,
     "metadata": {},
     "output_type": "execute_result"
    }
   ],
   "source": [
    "A = matrix(2, 3,\n",
    "           [8, -2, 3,\n",
    "           5, 1, -4])\n",
    "#A = matrix(2, 3, [8, -2, 3, 5, 1, -4])\n",
    "\n",
    "#A = A.transpose()\n",
    "#A = transpose(A)\n",
    "\n",
    "show(A)"
   ]
  },
  {
   "cell_type": "code",
   "execution_count": 40,
   "metadata": {
    "collapsed": false,
    "jupyter": {
     "outputs_hidden": false
    }
   },
   "outputs": [
    {
     "data": {
      "text/html": [
       "<html>\\(\\displaystyle \\left(\\begin{array}{rr}\n",
       "\\frac{5}{251} & -\\frac{4}{251} \\\\\n",
       "-\\frac{7}{753} & -\\frac{13}{502}\n",
       "\\end{array}\\right)\\)</html>"
      ],
      "text/latex": [
       "$\\displaystyle \\left(\\begin{array}{rr}\n",
       "\\frac{5}{251} & -\\frac{4}{251} \\\\\n",
       "-\\frac{7}{753} & -\\frac{13}{502}\n",
       "\\end{array}\\right)$"
      ],
      "text/plain": [
       "[  5/251  -4/251]\n",
       "[ -7/753 -13/502]"
      ]
     },
     "execution_count": 40,
     "metadata": {},
     "output_type": "execute_result"
    }
   ],
   "source": [
    "B = matrix(3, 2,\n",
    "          [2, -3,\n",
    "          -4, 9,\n",
    "          5, 6])\n",
    "\n",
    "C = B*A\n",
    "C1 = A*B\n",
    "\n",
    "#show(C, C1)\n",
    "#show(C1^3)\n",
    "#show(C1.inverse())\n"
   ]
  },
  {
   "cell_type": "code",
   "execution_count": 46,
   "metadata": {
    "collapsed": false,
    "jupyter": {
     "outputs_hidden": false
    }
   },
   "outputs": [
    {
     "data": {
      "text/html": [
       "<html>\\(\\displaystyle \\left(\\begin{array}{rrr}\n",
       "-4 & 8 & 0 \\\\\n",
       "-7 & 31 & 2\n",
       "\\end{array}\\right)\\)</html>"
      ],
      "text/latex": [
       "$\\displaystyle \\left(\\begin{array}{rrr}\n",
       "-4 & 8 & 0 \\\\\n",
       "-7 & 31 & 2\n",
       "\\end{array}\\right)$"
      ],
      "text/plain": [
       "[-4  8  0]\n",
       "[-7 31  2]"
      ]
     },
     "execution_count": 46,
     "metadata": {},
     "output_type": "execute_result"
    }
   ],
   "source": [
    "m1 = matrix(2, 3, [\n",
    "    0, -2, 1,\n",
    "    2, -3, 0\n",
    "])\n",
    "\n",
    "m2 = matrix(3, 2, [\n",
    "    1, 3,\n",
    "    2, -3,\n",
    "    1, 2\n",
    "])\n",
    "\n",
    "m3 = matrix(3, 3, [\n",
    "    -1, 0, 0,\n",
    "    1, -2, 0,\n",
    "    2, 1, 0\n",
    "])\n",
    "\n",
    "m4 = matrix(2, 3, [\n",
    "    1, -1, 0,\n",
    "    0, -2, 1\n",
    "])\n",
    "\n",
    "m2 = m2.transpose()\n",
    "m3 = m3. transpose()\n",
    "\n",
    "calc = (2*m1 + m2) * m3 - (3 * m4)\n",
    "\n",
    "show(calc)"
   ]
  },
  {
   "cell_type": "code",
   "execution_count": 51,
   "metadata": {
    "collapsed": false,
    "jupyter": {
     "outputs_hidden": false
    }
   },
   "outputs": [
    {
     "data": {
      "text/html": [
       "<html>\\(\\displaystyle \\left(\\begin{array}{rr}\n",
       "-\\frac{109}{100} & -\\frac{9}{10} \\\\\n",
       "\\frac{221}{100} & -\\frac{39}{10}\n",
       "\\end{array}\\right)\\)</html>"
      ],
      "text/latex": [
       "$\\displaystyle \\left(\\begin{array}{rr}\n",
       "-\\frac{109}{100} & -\\frac{9}{10} \\\\\n",
       "\\frac{221}{100} & -\\frac{39}{10}\n",
       "\\end{array}\\right)$"
      ],
      "text/plain": [
       "[-109/100    -9/10]\n",
       "[ 221/100   -39/10]"
      ]
     },
     "execution_count": 51,
     "metadata": {},
     "output_type": "execute_result"
    }
   ],
   "source": [
    "m1 = matrix(2, 2,[\n",
    "    1, 8,\n",
    "    -1, 2\n",
    "])\n",
    "\n",
    "m2 = matrix(2, 2, [\n",
    "    1, 8,\n",
    "    0, -1\n",
    "])\n",
    "\n",
    "m3 = matrix(2, 2, [\n",
    "    0, -7,\n",
    "    2, -1\n",
    "])\n",
    "\n",
    "d = m1^2\n",
    "e = m2.transpose() + 5*m3\n",
    "\n",
    "f = e * d^-1\n",
    "x = f.transpose()\n",
    "\n",
    "show(x)"
   ]
  },
  {
   "cell_type": "code",
   "execution_count": 58,
   "metadata": {
    "collapsed": false,
    "jupyter": {
     "outputs_hidden": false
    }
   },
   "outputs": [
    {
     "data": {
      "text/html": [
       "<html>\\(\\displaystyle \\left(\\begin{array}{rrr}\n",
       "-\\frac{1}{17} & \\frac{2}{51} & \\frac{1}{51} \\\\\n",
       "\\frac{28}{51} & \\frac{4}{51} & -\\frac{13}{102} \\\\\n",
       "\\frac{7}{51} & \\frac{1}{51} & \\frac{1}{102}\n",
       "\\end{array}\\right)\\)</html>"
      ],
      "text/latex": [
       "$\\displaystyle \\left(\\begin{array}{rrr}\n",
       "-\\frac{1}{17} & \\frac{2}{51} & \\frac{1}{51} \\\\\n",
       "\\frac{28}{51} & \\frac{4}{51} & -\\frac{13}{102} \\\\\n",
       "\\frac{7}{51} & \\frac{1}{51} & \\frac{1}{102}\n",
       "\\end{array}\\right)$"
      ],
      "text/plain": [
       "[  -1/17    2/51    1/51]\n",
       "[  28/51    4/51 -13/102]\n",
       "[   7/51    1/51   1/102]"
      ]
     },
     "execution_count": 58,
     "metadata": {},
     "output_type": "execute_result"
    }
   ],
   "source": [
    "m1 = matrix(3, 3, [\n",
    "    -1, 7, 0,\n",
    "    0, 1, -2,\n",
    "    2, -1, 8\n",
    "])\n",
    "\n",
    "m2 = matrix(3, 2, [\n",
    "    5, 4,\n",
    "    8, -3,\n",
    "    -9, 2\n",
    "])\n",
    "\n",
    "a = 3 * m1.transpose()\n",
    "#A * X = B / *A^-1\n",
    "#I * X = B * A^-1\n",
    "\n",
    "#c = A^(-1) * m2\n",
    "\n",
    "show(a^-1)\n",
    "\n",
    "#coś tu nie gra, niedokończony przykład"
   ]
  },
  {
   "cell_type": "code",
   "execution_count": 65,
   "metadata": {
    "collapsed": false,
    "jupyter": {
     "outputs_hidden": false
    }
   },
   "outputs": [
    {
     "data": {
      "text/html": [
       "<html>\\(\\displaystyle \\left(\\begin{array}{rr}\n",
       "-\\frac{5}{3} & -\\frac{4}{3} \\\\\n",
       "\\frac{43}{3} & \\frac{25}{3} \\\\\n",
       "0 & 0\n",
       "\\end{array}\\right)\\)</html>"
      ],
      "text/latex": [
       "$\\displaystyle \\left(\\begin{array}{rr}\n",
       "-\\frac{5}{3} & -\\frac{4}{3} \\\\\n",
       "\\frac{43}{3} & \\frac{25}{3} \\\\\n",
       "0 & 0\n",
       "\\end{array}\\right)$"
      ],
      "text/plain": [
       "[-5/3 -4/3]\n",
       "[43/3 25/3]\n",
       "[   0    0]"
      ]
     },
     "execution_count": 65,
     "metadata": {},
     "output_type": "execute_result"
    }
   ],
   "source": [
    "a = matrix(3, 2, [\n",
    "    -1, 7,\n",
    "    0, 1,\n",
    "    2, -1\n",
    "])\n",
    "\n",
    "b = matrix(2, 2, [\n",
    "    5, 4,\n",
    "    8, -3\n",
    "])\n",
    "\n",
    "#3* aT * X = B\n",
    "c = 3 * a.transpose()\n",
    "\n",
    "#C * X = B // * C^-1\n",
    "#X = B * C^-1\n",
    "#C ma wymiary 2x3 więc C^-1 nie istnieje\n",
    "\n",
    "calc = c.solve_right(b)\n",
    "\n",
    "show(calc)"
   ]
  },
  {
   "cell_type": "code",
   "execution_count": null,
   "metadata": {
    "collapsed": false,
    "jupyter": {
     "outputs_hidden": false
    }
   },
   "outputs": [],
   "source": []
  }
 ],
 "metadata": {
  "kernelspec": {
   "display_name": "SageMath 10.4",
   "language": "sage",
   "name": "sagemath"
  },
  "language_info": {
   "codemirror_mode": {
    "name": "ipython",
    "version": 3
   },
   "file_extension": ".py",
   "mimetype": "text/x-python",
   "name": "python",
   "nbconvert_exporter": "python",
   "pygments_lexer": "ipython3",
   "version": "3.10.12"
  }
 },
 "nbformat": 4,
 "nbformat_minor": 4
}
