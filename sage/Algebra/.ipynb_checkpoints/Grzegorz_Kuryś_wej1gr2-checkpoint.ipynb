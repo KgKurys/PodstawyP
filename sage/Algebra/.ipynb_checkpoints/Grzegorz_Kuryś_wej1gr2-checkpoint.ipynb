{
 "cells": [
  {
   "cell_type": "code",
   "execution_count": 2,
   "id": "8e8afa77-9419-4d1c-8b58-d36a83ba2044",
   "metadata": {},
   "outputs": [
    {
     "data": {
      "text/html": [
       "<html>\\(\\displaystyle \\left(\\begin{array}{rrr}\n",
       "1 & -1 & -3 \\\\\n",
       "3 & 4 & 9 \\\\\n",
       "4 & 8 & 1\n",
       "\\end{array}\\right) \\left(\\begin{array}{rrrr}\n",
       "0 & -2 & 2 & -1 \\\\\n",
       "2 & 1 & -3 & 2 \\\\\n",
       "0 & 8 & 8 & 0\n",
       "\\end{array}\\right) \\left(\\begin{array}{rr}\n",
       "3 & 3 \\\\\n",
       "3 & -2 \\\\\n",
       "2 & -2 \\\\\n",
       "-3 & 6\n",
       "\\end{array}\\right) \\left(\\begin{array}{rr}\n",
       "-2 & -2 \\\\\n",
       "3 & 5 \\\\\n",
       "6 & 4\n",
       "\\end{array}\\right)\\)</html>"
      ],
      "text/latex": [
       "$\\displaystyle \\left(\\begin{array}{rrr}\n",
       "1 & -1 & -3 \\\\\n",
       "3 & 4 & 9 \\\\\n",
       "4 & 8 & 1\n",
       "\\end{array}\\right) \\left(\\begin{array}{rrrr}\n",
       "0 & -2 & 2 & -1 \\\\\n",
       "2 & 1 & -3 & 2 \\\\\n",
       "0 & 8 & 8 & 0\n",
       "\\end{array}\\right) \\left(\\begin{array}{rr}\n",
       "3 & 3 \\\\\n",
       "3 & -2 \\\\\n",
       "2 & -2 \\\\\n",
       "-3 & 6\n",
       "\\end{array}\\right) \\left(\\begin{array}{rr}\n",
       "-2 & -2 \\\\\n",
       "3 & 5 \\\\\n",
       "6 & 4\n",
       "\\end{array}\\right)$"
      ],
      "text/plain": [
       "[ 1 -1 -3]\n",
       "[ 3  4  9]\n",
       "[ 4  8  1] [ 0 -2  2 -1]\n",
       "[ 2  1 -3  2]\n",
       "[ 0  8  8  0] [ 3  3]\n",
       "[ 3 -2]\n",
       "[ 2 -2]\n",
       "[-3  6] [-2 -2]\n",
       "[ 3  5]\n",
       "[ 6  4]"
      ]
     },
     "metadata": {},
     "output_type": "display_data"
    }
   ],
   "source": [
    "A= matrix(3,3,[1,-1,-3,3,4,9,4,8,1])\n",
    "B= matrix(3,4,[0,-2,2,-1,2,1,-3,2,0,8,8,0])\n",
    "C= matrix(4,2,[3,3,3,-2,2,-2,-3,6])\n",
    "D= matrix(3,2,[-2,-2,3,5,6,4])\n",
    "show(A,B,C,D)"
   ]
  },
  {
   "cell_type": "code",
   "execution_count": 3,
   "id": "94045b24-808b-46ba-b966-58c5a4986582",
   "metadata": {},
   "outputs": [
    {
     "data": {
      "text/html": [
       "<html>\\(\\displaystyle \\left(\\begin{array}{rrr}\n",
       "-24 & 111 & -68 \\\\\n",
       "144 & -418 & -24\n",
       "\\end{array}\\right)\\)</html>"
      ],
      "text/latex": [
       "$\\displaystyle \\left(\\begin{array}{rrr}\n",
       "-24 & 111 & -68 \\\\\n",
       "144 & -418 & -24\n",
       "\\end{array}\\right)$"
      ],
      "text/plain": [
       "[ -24  111  -68]\n",
       "[ 144 -418  -24]"
      ]
     },
     "metadata": {},
     "output_type": "display_data"
    }
   ],
   "source": [
    "L = A^(-1)\n",
    "P = B*C-4*D\n",
    "X = L.solve_right(P)\n",
    "X_t = X.transpose()\n",
    "show(X_t)"
   ]
  },
  {
   "cell_type": "code",
   "execution_count": null,
   "id": "e248bb9d-c276-46aa-a208-3085dd2e5d31",
   "metadata": {},
   "outputs": [],
   "source": []
  }
 ],
 "metadata": {
  "kernelspec": {
   "display_name": "SageMath 10.4",
   "language": "sage",
   "name": "sagemath"
  },
  "language_info": {
   "codemirror_mode": {
    "name": "ipython",
    "version": 3
   },
   "file_extension": ".py",
   "mimetype": "text/x-python",
   "name": "python",
   "nbconvert_exporter": "python",
   "pygments_lexer": "ipython3",
   "version": "3.10.12"
  }
 },
 "nbformat": 4,
 "nbformat_minor": 5
}
