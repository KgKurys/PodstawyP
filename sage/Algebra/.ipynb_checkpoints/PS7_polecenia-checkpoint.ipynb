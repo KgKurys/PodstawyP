{
 "cells": [
  {
   "cell_type": "markdown",
   "id": "aa0d3035",
   "metadata": {},
   "source": [
    "### Zadanie 1\n",
    "---\n",
    "Rozwiąż równanie w liczbach zespolonych:\n",
    "\n",
    "a) $|z|+z=8+4i;$\n"
   ]
  },
  {
   "cell_type": "code",
   "execution_count": 6,
   "id": "367ea901",
   "metadata": {},
   "outputs": [
    {
     "data": {
      "text/html": [
       "<html>\\(\\displaystyle x + i \\, y + \\sqrt{x^{2} + y^{2}} = \\left(4 i + 8\\right)\\)</html>"
      ],
      "text/latex": [
       "$\\displaystyle x + i \\, y + \\sqrt{x^{2} + y^{2}} = \\left(4 i + 8\\right)$"
      ],
      "text/plain": [
       "x + I*y + sqrt(x^2 + y^2) == (4*I + 8)"
      ]
     },
     "metadata": {},
     "output_type": "display_data"
    },
    {
     "data": {
      "text/html": [
       "<html>\\(\\displaystyle \\left[\\sqrt{x^{2} + y^{2}} \\cos\\left(\\frac{1}{2} \\, \\arctan\\left(0, x^{2} + y^{2}\\right)\\right) + x = 8, \\sqrt{x^{2} + y^{2}} \\sin\\left(\\frac{1}{2} \\, \\arctan\\left(0, x^{2} + y^{2}\\right)\\right) + y = 4\\right]\\)</html>"
      ],
      "text/latex": [
       "$\\displaystyle \\left[\\sqrt{x^{2} + y^{2}} \\cos\\left(\\frac{1}{2} \\, \\arctan\\left(0, x^{2} + y^{2}\\right)\\right) + x = 8, \\sqrt{x^{2} + y^{2}} \\sin\\left(\\frac{1}{2} \\, \\arctan\\left(0, x^{2} + y^{2}\\right)\\right) + y = 4\\right]$"
      ],
      "text/plain": [
       "[sqrt(x^2 + y^2)*cos(1/2*arctan2(0, x^2 + y^2)) + x == 8,\n",
       " sqrt(x^2 + y^2)*sin(1/2*arctan2(0, x^2 + y^2)) + y == 4]"
      ]
     },
     "metadata": {},
     "output_type": "display_data"
    },
    {
     "data": {
      "text/plain": [
       "[[x == 3, y == 4]]"
      ]
     },
     "execution_count": 6,
     "metadata": {},
     "output_type": "execute_result"
    }
   ],
   "source": [
    "var(\"x\",\"y\")\n",
    "assume(x, \"real\",y, \"real\")\n",
    "z = x+i*y\n",
    "m(x,y) = sqrt(x^2+y^2)\n",
    "eq = m(x,y)+z==8+4*i\n",
    "show(eq)\n",
    "ukl = [eq.lhs().real_part()==eq.rhs().real_part(),eq.lhs().imag_part()==eq.rhs().imag_part()]\n",
    "show(ukl)\n",
    "solve(ukl,[x,y])"
   ]
  },
  {
   "cell_type": "markdown",
   "id": "62b9e473",
   "metadata": {},
   "source": [
    "b) $z^2+\\overline{3z}=0.$"
   ]
  },
  {
   "cell_type": "code",
   "execution_count": 9,
   "id": "aaf45fcf",
   "metadata": {},
   "outputs": [
    {
     "data": {
      "text/html": [
       "<html>\\(\\displaystyle {\\left(x + i \\, y\\right)}^{2} + 3 \\, x - 3 i \\, y = 0\\)</html>"
      ],
      "text/latex": [
       "$\\displaystyle {\\left(x + i \\, y\\right)}^{2} + 3 \\, x - 3 i \\, y = 0$"
      ],
      "text/plain": [
       "(x + I*y)^2 + 3*x - 3*I*y == 0"
      ]
     },
     "metadata": {},
     "output_type": "display_data"
    },
    {
     "data": {
      "text/html": [
       "<html>\\(\\displaystyle \\left[x^{2} - y^{2} + 3 \\, x = 0, 2 \\, x y - 3 \\, y = 0\\right]\\)</html>"
      ],
      "text/latex": [
       "$\\displaystyle \\left[x^{2} - y^{2} + 3 \\, x = 0, 2 \\, x y - 3 \\, y = 0\\right]$"
      ],
      "text/plain": [
       "[x^2 - y^2 + 3*x == 0, 2*x*y - 3*y == 0]"
      ]
     },
     "metadata": {},
     "output_type": "display_data"
    },
    {
     "data": {
      "text/html": [
       "<html>\\(\\displaystyle \\left[\\left[x = \\left(-3\\right), y = 0\\right], \\left[x = 0, y = 0\\right], \\left[x = \\left(\\frac{3}{2}\\right), y = -\\frac{3}{2} \\, \\sqrt{3}\\right], \\left[x = \\left(\\frac{3}{2}\\right), y = \\frac{3}{2} \\, \\sqrt{3}\\right]\\right]\\)</html>"
      ],
      "text/latex": [
       "$\\displaystyle \\left[\\left[x = \\left(-3\\right), y = 0\\right], \\left[x = 0, y = 0\\right], \\left[x = \\left(\\frac{3}{2}\\right), y = -\\frac{3}{2} \\, \\sqrt{3}\\right], \\left[x = \\left(\\frac{3}{2}\\right), y = \\frac{3}{2} \\, \\sqrt{3}\\right]\\right]$"
      ],
      "text/plain": [
       "[[x == -3, y == 0], [x == 0, y == 0], [x == (3/2), y == -3/2*sqrt(3)], [x == (3/2), y == 3/2*sqrt(3)]]"
      ]
     },
     "metadata": {},
     "output_type": "display_data"
    }
   ],
   "source": [
    "forget()\n",
    "var(\"x\",\"y\")\n",
    "assume(x, \"real\",y, \"real\")\n",
    "z = x+i*y\n",
    "m(x,y) = sqrt(x^2+y^2)\n",
    "eq =z^2 + (3*z).conjugate() == 0\n",
    "show(eq)\n",
    "ukl = [eq.lhs().real_part()==eq.rhs().real_part(),eq.lhs().imag_part()==eq.rhs().imag_part()]\n",
    "show(ukl)\n",
    "show(solve(ukl,[x,y]))"
   ]
  },
  {
   "cell_type": "markdown",
   "id": "90f17c12",
   "metadata": {},
   "source": [
    "### Zadanie 2\n",
    "---\n",
    "Rozwiąż równanie w liczbach zespolonych:\n",
    "\n",
    "a) $z^2+z+1=0;$\n",
    "\n",
    "Zaznacz rozwiązania na płaszczyźnie."
   ]
  },
  {
   "cell_type": "code",
   "execution_count": 14,
   "id": "759c1416",
   "metadata": {},
   "outputs": [
    {
     "data": {
      "text/html": [
       "<html>\\(\\displaystyle \\left[z = -\\frac{1}{2} i \\, \\sqrt{3} - \\frac{1}{2}, z = \\frac{1}{2} i \\, \\sqrt{3} - \\frac{1}{2}\\right]\\)</html>"
      ],
      "text/latex": [
       "$\\displaystyle \\left[z = -\\frac{1}{2} i \\, \\sqrt{3} - \\frac{1}{2}, z = \\frac{1}{2} i \\, \\sqrt{3} - \\frac{1}{2}\\right]$"
      ],
      "text/plain": [
       "[z == -1/2*I*sqrt(3) - 1/2, z == 1/2*I*sqrt(3) - 1/2]"
      ]
     },
     "metadata": {},
     "output_type": "display_data"
    },
    {
     "data": {
      "image/png": "[encoded data removed]",
      "text/plain": [
       "Graphics object consisting of 1 graphics primitive"
      ]
     },
     "execution_count": 14,
     "metadata": {},
     "output_type": "execute_result"
    }
   ],
   "source": [
    "forget()\n",
    "var(\"z\")\n",
    "rozw = solve(z^2+z+1 ==0,z)\n",
    "show(rozw)\n",
    "#points([rozw[j].rhs() for j in range(len(rozw))], size = 40)\n",
    "list_plot([rozw[j].rhs() for j in range(len(rozw))], size = 40)"
   ]
  },
  {
   "cell_type": "markdown",
   "id": "e72d580e",
   "metadata": {},
   "source": [
    "b) $z^4+(15+7i)z^2+(8-15i)=0.$"
   ]
  },
  {
   "cell_type": "code",
   "execution_count": 15,
   "id": "354c43dd",
   "metadata": {},
   "outputs": [
    {
     "data": {
      "text/html": [
       "<html>\\(\\displaystyle \\left[z = -\\sqrt{\\frac{3}{2} \\, \\sqrt{30 i + 16} - \\frac{7}{2} i - \\frac{15}{2}}, z = \\sqrt{\\frac{3}{2} \\, \\sqrt{30 i + 16} - \\frac{7}{2} i - \\frac{15}{2}}, z = -\\sqrt{-\\frac{3}{2} \\, \\sqrt{30 i + 16} - \\frac{7}{2} i - \\frac{15}{2}}, z = \\sqrt{-\\frac{3}{2} \\, \\sqrt{30 i + 16} - \\frac{7}{2} i - \\frac{15}{2}}\\right]\\)</html>"
      ],
      "text/latex": [
       "$\\displaystyle \\left[z = -\\sqrt{\\frac{3}{2} \\, \\sqrt{30 i + 16} - \\frac{7}{2} i - \\frac{15}{2}}, z = \\sqrt{\\frac{3}{2} \\, \\sqrt{30 i + 16} - \\frac{7}{2} i - \\frac{15}{2}}, z = -\\sqrt{-\\frac{3}{2} \\, \\sqrt{30 i + 16} - \\frac{7}{2} i - \\frac{15}{2}}, z = \\sqrt{-\\frac{3}{2} \\, \\sqrt{30 i + 16} - \\frac{7}{2} i - \\frac{15}{2}}\\right]$"
      ],
      "text/plain": [
       "[z == -sqrt(3/2*sqrt(30*I + 16) - 7/2*I - 15/2), z == sqrt(3/2*sqrt(30*I + 16) - 7/2*I - 15/2), z == -sqrt(-3/2*sqrt(30*I + 16) - 7/2*I - 15/2), z == sqrt(-3/2*sqrt(30*I + 16) - 7/2*I - 15/2)]"
      ]
     },
     "metadata": {},
     "output_type": "display_data"
    },
    {
     "data": {
      "image/png": "[encoded data removed]",
      "text/plain": [
       "Graphics object consisting of 1 graphics primitive"
      ]
     },
     "execution_count": 15,
     "metadata": {},
     "output_type": "execute_result"
    }
   ],
   "source": [
    "forget()\n",
    "var(\"z\")\n",
    "rozw = solve(z^4 + (15+7*i)*z^2 + (8-15*i) ==0,z)\n",
    "show(rozw)\n",
    "#points([rozw[j].rhs() for j in range(len(rozw))], size = 40)\n",
    "list_plot([rozw[j].rhs() for j in range(len(rozw))], size = 40)"
   ]
  },
  {
   "cell_type": "markdown",
   "id": "c74bcd9f",
   "metadata": {},
   "source": [
    "### Zadanie 3\n",
    "---\n",
    "Narysuj na płaszczyźnie:\n",
    "\n",
    "siedmiokąt foremny, którego jeden z wierzchołków leży w punkcie $(1,1)$;"
   ]
  },
  {
   "cell_type": "code",
   "execution_count": 20,
   "id": "1033a68a",
   "metadata": {},
   "outputs": [
    {
     "ename": "SyntaxError",
     "evalue": "closing parenthesis ')' does not match opening parenthesis '[' (887320687.py, line 10)",
     "output_type": "error",
     "traceback": [
      "\u001b[0;36m  Cell \u001b[0;32mIn[20], line 10\u001b[0;36m\u001b[0m\n\u001b[0;31m    p3 = circle((Integer(0),Integer(0)),abs([rozw[j].rhs()),color=\"green\")\u001b[0m\n\u001b[0m                                                          ^\u001b[0m\n\u001b[0;31mSyntaxError\u001b[0m\u001b[0;31m:\u001b[0m closing parenthesis ')' does not match opening parenthesis '['\n"
     ]
    }
   ],
   "source": [
    "forget()\n",
    "# pierw 7st z z = {1+i, .....} z = pierw 7 st z (1+i)^7 czyli w sage z^7 = (1+i)^7\n",
    "forget()\n",
    "var(\"z\")\n",
    "rozw = solve(z^7== (1+i)^7,z)\n",
    "show(rozw)\n",
    "#points([rozw[j].rhs() for j in range(len(rozw))], size = 40)\n",
    "p1 = list_plot([rozw[j].rhs() for j in range(len(rozw))], size = 40, color=\"red\")\n",
    "p2 = polygon([rozw[j].rhs() for j in range(len(rozw))], color=\"blue\", fill=false)\n",
    "p3 = circle((0,0),abs([rozw[j].rhs()]),color=\"green\")\n",
    "show(p1+p2+p3)"
   ]
  },
  {
   "cell_type": "code",
   "execution_count": null,
   "id": "5c59405c",
   "metadata": {},
   "outputs": [],
   "source": []
  },
  {
   "cell_type": "markdown",
   "id": "61c8f607",
   "metadata": {},
   "source": [
    "### Zadanie 4\n",
    "---\n",
    "Na płaszczyźnie zespolonej narysuj zbiory:\n",
    "\n",
    "a) $A = \\{z\\in\\mathbb{C}:\\ |z|=1\\};$ \n"
   ]
  },
  {
   "cell_type": "code",
   "execution_count": null,
   "id": "37076f70",
   "metadata": {},
   "outputs": [],
   "source": []
  },
  {
   "cell_type": "code",
   "execution_count": null,
   "id": "894b0632",
   "metadata": {},
   "outputs": [],
   "source": []
  },
  {
   "cell_type": "markdown",
   "id": "299bea9e",
   "metadata": {},
   "source": [
    "b) $B = \\{z\\in\\mathbb{C}:\\ |z|\\leqslant 2\\};$\n"
   ]
  },
  {
   "cell_type": "code",
   "execution_count": null,
   "id": "d43a50a3",
   "metadata": {},
   "outputs": [],
   "source": []
  },
  {
   "cell_type": "markdown",
   "id": "02ddbe84",
   "metadata": {},
   "source": [
    "c) $C = \\{z\\in\\mathbb{C}:\\ |z-1-i|<1\\};$ \n"
   ]
  },
  {
   "cell_type": "code",
   "execution_count": null,
   "id": "794bb505",
   "metadata": {},
   "outputs": [],
   "source": []
  },
  {
   "cell_type": "markdown",
   "id": "df1ef00e",
   "metadata": {},
   "source": [
    "d) $D = \\{z\\in\\mathbb{C}:\\ 2<|z|<3\\};$"
   ]
  },
  {
   "cell_type": "code",
   "execution_count": null,
   "id": "d964c8ab",
   "metadata": {},
   "outputs": [],
   "source": []
  },
  {
   "cell_type": "markdown",
   "id": "fdc921ff",
   "metadata": {},
   "source": [
    "e) $E = \\{z\\in\\mathbb{C}:\\ 1\\leqslant |z-2i|<2\\};$  "
   ]
  },
  {
   "cell_type": "code",
   "execution_count": null,
   "id": "9dc644b2",
   "metadata": {},
   "outputs": [],
   "source": []
  },
  {
   "cell_type": "markdown",
   "id": "c1aa1295",
   "metadata": {},
   "source": [
    "### Praca domowa\n",
    "#### Zadanie 1\n",
    "---\n",
    "Rozwiąż równanie w liczbach zespolonych:\n",
    "\n",
    "a) $\\displaystyle\\frac{z+1}{\\overline{z}-1}=-1;$\n",
    "\n",
    "b) $z+\\overline{z}+i(z-\\overline{z})=-6+2i.$\n",
    "\n",
    "#### Zadanie 2\n",
    "\n",
    "a) $z^2+(1+4i)z-(5+i)=0;$\n",
    "\n",
    "b) $z^4-2z^2+4=0;$\n",
    "\n",
    "#### Zadanie 3\n",
    "---\n",
    "Narysuj na płaszczyźnie:\n",
    "\n",
    "jedenastokąt foremny, którego jeden z wierzchołków leży w punkcie $(2,0)$.\n",
    "\n",
    "Zakładamy, że środek wielokąta znajduje się w początku układu współrzędnych.\n",
    "\n",
    "#### Zadanie 4\n",
    "---\n",
    "Na płaszczyźnie zespolonej narysuj zbiory:\n",
    "\n",
    "a) $A = \\{z\\in\\mathbb{C}:\\ 2<|z|<3\\};$\n",
    "\n",
    "b) $B = \\{z\\in\\mathbb{C}:\\ 2<|z-3+5i|\\leqslant 4\\}.$  "
   ]
  },
  {
   "cell_type": "code",
   "execution_count": null,
   "id": "e3781236",
   "metadata": {},
   "outputs": [],
   "source": []
  }
 ],
 "metadata": {
  "kernelspec": {
   "display_name": "SageMath 10.4",
   "language": "sage",
   "name": "sagemath"
  },
  "language_info": {
   "codemirror_mode": {
    "name": "ipython",
    "version": 3
   },
   "file_extension": ".py",
   "mimetype": "text/x-python",
   "name": "python",
   "nbconvert_exporter": "python",
   "pygments_lexer": "ipython3",
   "version": "3.10.12"
  }
 },
 "nbformat": 4,
 "nbformat_minor": 5
}
