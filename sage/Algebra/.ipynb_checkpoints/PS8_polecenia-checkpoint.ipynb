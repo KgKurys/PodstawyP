{
 "cells": [
  {
   "cell_type": "markdown",
   "id": "59279503",
   "metadata": {},
   "source": [
    "### Zadanie 1\n",
    "---\n",
    "Narysuj na płaszczyźnie:\n",
    "\n",
    "kwadrat, którego jeden z wierzchołków leży w punkcie $(3,5)$.\n",
    "\n",
    "Zakładamy, że środek wielokąta znajduje się w punkcie $(2,2)$."
   ]
  },
  {
   "cell_type": "code",
   "execution_count": null,
   "id": "af5d4eb8",
   "metadata": {},
   "outputs": [],
   "source": []
  },
  {
   "cell_type": "code",
   "execution_count": null,
   "id": "e0e62df8",
   "metadata": {},
   "outputs": [],
   "source": []
  },
  {
   "cell_type": "markdown",
   "id": "9362c572",
   "metadata": {},
   "source": [
    "### Zadanie 2\n",
    "\n",
    "Wyznaczyć obraz kwadratu z zadania 1 przy przekształceniu płaszczyzny danym wzorem $$\\varphi\\left(\\left(\\begin{array}{rr}x\\\\ y\\end{array}\\right)\\right)=A\\cdot\\left(\\begin{array}{rr}x\\\\ y\\end{array}\\right),$$\n",
    "gdzie $A=\\left[\\begin{array}{rr}2&-0.3\\\\ 0.7&0.3\\end{array}\\right]$."
   ]
  },
  {
   "cell_type": "code",
   "execution_count": null,
   "id": "c46581bb",
   "metadata": {},
   "outputs": [],
   "source": []
  },
  {
   "cell_type": "code",
   "execution_count": null,
   "id": "c4568616",
   "metadata": {},
   "outputs": [],
   "source": []
  },
  {
   "cell_type": "markdown",
   "id": "1395784e",
   "metadata": {},
   "source": [
    "### Zadanie 3\n",
    "---\n",
    "Trójkąt foremny o jednym z wierzchołków w punkcie $(-2,5)$ i środku w początku układu współrzędnych obrócić o kąt $\\frac{\\pi}{10}$ zgodnie z ruchem wskazówek zegara."
   ]
  },
  {
   "cell_type": "code",
   "execution_count": null,
   "id": "2ec369e7",
   "metadata": {},
   "outputs": [],
   "source": []
  },
  {
   "cell_type": "code",
   "execution_count": null,
   "id": "1f2d71d3",
   "metadata": {},
   "outputs": [],
   "source": []
  },
  {
   "cell_type": "markdown",
   "id": "80af8b4d",
   "metadata": {},
   "source": [
    "### Zadanie 4\n",
    "---\n",
    "Pięciokąt o jednym z wierzchołków w punkcie $(0,5)$ i środku w w punkcie $(-1,2)$ obrócić względem środka figury o kąt $\\frac{\\pi}{6}$ przeciwnie do ruchu wskazówek zegara."
   ]
  },
  {
   "cell_type": "code",
   "execution_count": null,
   "id": "c183a630",
   "metadata": {},
   "outputs": [],
   "source": []
  },
  {
   "cell_type": "code",
   "execution_count": null,
   "id": "ea5d3e5f",
   "metadata": {},
   "outputs": [],
   "source": []
  },
  {
   "cell_type": "markdown",
   "id": "b4393341",
   "metadata": {},
   "source": [
    "### Praca domowa\n",
    "\n",
    "1. Na płaszczyźnie zespolonej narysuj zbiór:\n",
    "\n",
    "$$A=\\{z\\in\\mathbb{C}:\\ |z|<10\\quad\\mbox{i}\\quad |z-2i|>3\\quad\\mbox{i}\\quad\\mathrm{Re\\,}z<1\\}.$$\n",
    "\n",
    "2. Na płaszczyźnie zespolonej narysuj zbiór:\n",
    "\n",
    "$$B=\\{z\\in\\mathbb{C}:\\ |z|<5\\quad\\mbox{i}\\quad |z-2|>3\\quad\\mbox{i}\\quad\\mathrm{Im\\,}z>-1\\}.$$\n",
    "\n",
    "3. Narysuj na płaszczyźnie siedmiokąt foremny, którego jeden z wierzchołków leży w punkcie $(-2,5)$. Zakładamy, że środek wielokąta znajduje się w początku układu współrzędnych.\n",
    "\n",
    "\n",
    "4. Narysuj na płaszczyźnie dziesięciokąt foremny, którego jeden z wierzchołków leży w punkcie $(4,-3)$. Zakładamy, że środek wielokąta znajduje się w początku układu współrzędnych."
   ]
  },
  {
   "cell_type": "code",
   "execution_count": null,
   "id": "cde6aa70",
   "metadata": {},
   "outputs": [],
   "source": []
  }
 ],
 "metadata": {
  "kernelspec": {
   "display_name": "SageMath 9.5",
   "language": "sage",
   "name": "sagemath"
  },
  "language_info": {
   "codemirror_mode": {
    "name": "ipython",
    "version": 3
   },
   "file_extension": ".py",
   "mimetype": "text/x-python",
   "name": "python",
   "nbconvert_exporter": "python",
   "pygments_lexer": "ipython3",
   "version": "3.10.12"
  }
 },
 "nbformat": 4,
 "nbformat_minor": 5
}
