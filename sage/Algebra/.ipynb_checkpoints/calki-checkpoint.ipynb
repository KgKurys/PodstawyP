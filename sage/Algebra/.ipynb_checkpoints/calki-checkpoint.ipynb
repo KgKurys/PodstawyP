{
 "cells": [
  {
   "cell_type": "code",
   "execution_count": 2,
   "id": "edb1bf2c-7fe8-4544-9030-a41017ad896c",
   "metadata": {},
   "outputs": [
    {
     "ename": "TypeError",
     "evalue": "unsupported operand type(s) for &: 'sage.symbolic.expression.Expression' and 'sage.symbolic.expression.Expression'",
     "output_type": "error",
     "traceback": [
      "\u001b[0;31m---------------------------------------------------------------------------\u001b[0m",
      "\u001b[0;31mTypeError\u001b[0m                                 Traceback (most recent call last)",
      "Cell \u001b[0;32mIn[2], line 3\u001b[0m\n\u001b[1;32m      1\u001b[0m \u001b[38;5;66;03m#lista 4 zad 2 a\u001b[39;00m\n\u001b[0;32m----> 3\u001b[0m show(integrate(x\u001b[38;5;241m*\u001b[39m\u001b[38;5;241m*\u001b[39mInteger(\u001b[38;5;241m7\u001b[39m)\u001b[38;5;241m/\u001b[39msqrt(\u001b[43mInteger\u001b[49m\u001b[43m(\u001b[49m\u001b[38;5;241;43m1\u001b[39;49m\u001b[43m)\u001b[49m\u001b[38;5;241;43m-\u001b[39;49m\u001b[43mx\u001b[49m\u001b[38;5;241;43m&\u001b[39;49m\u001b[43mInteger\u001b[49m\u001b[43m(\u001b[49m\u001b[38;5;241;43m16\u001b[39;49m\u001b[43m)\u001b[49m),x))\n",
      "File \u001b[0;32m~/sage/src/sage/rings/integer.pyx:6840\u001b[0m, in \u001b[0;36msage.rings.integer.Integer.__and__\u001b[0;34m()\u001b[0m\n\u001b[1;32m   6838\u001b[0m     if isinstance(x, Integer) and isinstance(y, Integer):\n\u001b[1;32m   6839\u001b[0m         return (<Integer>x)._and(y)\n\u001b[0;32m-> 6840\u001b[0m     return coercion_model.bin_op(x, y, operator.and_)\n\u001b[1;32m   6841\u001b[0m \n\u001b[1;32m   6842\u001b[0m cdef _or(Integer self, Integer other):\n",
      "File \u001b[0;32m~/sage/src/sage/structure/coerce.pyx:1236\u001b[0m, in \u001b[0;36msage.structure.coerce.CoercionModel.bin_op\u001b[0;34m()\u001b[0m\n\u001b[1;32m   1234\u001b[0m     self._record_exception()\n\u001b[1;32m   1235\u001b[0m else:\n\u001b[0;32m-> 1236\u001b[0m     return PyObject_CallObject(op, xy)\n\u001b[1;32m   1237\u001b[0m \n\u001b[1;32m   1238\u001b[0m if op is mul:\n",
      "\u001b[0;31mTypeError\u001b[0m: unsupported operand type(s) for &: 'sage.symbolic.expression.Expression' and 'sage.symbolic.expression.Expression'"
     ]
    }
   ],
   "source": [
    "#lista 4 zad 2 a\n",
    "\n",
    "show(integrate(x^7/sqrt(1-x^16),x))"
   ]
  }
 ],
 "metadata": {
  "kernelspec": {
   "display_name": "SageMath 10.4",
   "language": "sage",
   "name": "sagemath"
  },
  "language_info": {
   "codemirror_mode": {
    "name": "ipython",
    "version": 3
   },
   "file_extension": ".py",
   "mimetype": "text/x-python",
   "name": "python",
   "nbconvert_exporter": "python",
   "pygments_lexer": "ipython3",
   "version": "3.10.12"
  }
 },
 "nbformat": 4,
 "nbformat_minor": 5
}
