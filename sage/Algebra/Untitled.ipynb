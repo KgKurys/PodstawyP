{
 "cells": [
  {
   "cell_type": "code",
   "execution_count": 2,
   "id": "f3452f10-04f3-4cf9-b7c2-9d7c64781b3e",
   "metadata": {},
   "outputs": [
    {
     "data": {
      "text/html": [
       "<html>\\(\\displaystyle \\left(\\begin{array}{rrrrrrr}\n",
       "2 & 28 & 1 & 4 & -5 & 1 & 0 \\\\\n",
       "0 & 0 & -3 & 0 & -1 & 1 & -2 \\\\\n",
       "41 & 1 & 1 & 0 & -1 & 0 & 0 \\\\\n",
       "1 & 0 & 4 & -1 & 2 & -11 & 1 \\\\\n",
       "0 & 0 & -1 & 4 & -6 & -2 & 0 \\\\\n",
       "1 & -1 & 13 & 1 & -2 & 1 & 1 \\\\\n",
       "-3 & -5 & 0 & -1 & 1 & -1 & 2\n",
       "\\end{array}\\right)\\)</html>"
      ],
      "text/latex": [
       "$\\displaystyle \\left(\\begin{array}{rrrrrrr}\n",
       "2 & 28 & 1 & 4 & -5 & 1 & 0 \\\\\n",
       "0 & 0 & -3 & 0 & -1 & 1 & -2 \\\\\n",
       "41 & 1 & 1 & 0 & -1 & 0 & 0 \\\\\n",
       "1 & 0 & 4 & -1 & 2 & -11 & 1 \\\\\n",
       "0 & 0 & -1 & 4 & -6 & -2 & 0 \\\\\n",
       "1 & -1 & 13 & 1 & -2 & 1 & 1 \\\\\n",
       "-3 & -5 & 0 & -1 & 1 & -1 & 2\n",
       "\\end{array}\\right)$"
      ],
      "text/plain": [
       "[  2  28   1   4  -5   1   0]\n",
       "[  0   0  -3   0  -1   1  -2]\n",
       "[ 41   1   1   0  -1   0   0]\n",
       "[  1   0   4  -1   2 -11   1]\n",
       "[  0   0  -1   4  -6  -2   0]\n",
       "[  1  -1  13   1  -2   1   1]\n",
       "[ -3  -5   0  -1   1  -1   2]"
      ]
     },
     "metadata": {},
     "output_type": "display_data"
    }
   ],
   "source": [
    "a = matrix(7,7,[2,28,1,4,-5,1,0,0,0,-3,0,-1,1,-2,41,1,1,0,-1,0,0,1,0,4,-1,2,-11,1,0,0,-1,4,-6,-2,0,1,-1,13,1,-2,1,1,-3,-5,0,-1,1,-1,2])\n",
    "show(a)"
   ]
  },
  {
   "cell_type": "code",
   "execution_count": 5,
   "id": "e174eb17-0d1f-434c-a7e2-a91464d868ee",
   "metadata": {},
   "outputs": [
    {
     "data": {
      "text/html": [
       "<html>\\(\\displaystyle \\left(\\begin{array}{rrrrrrr}\n",
       "1 & 0 & 0 & 0 & 0 & 0 & 385705 \\\\\n",
       "0 & 1 & 0 & 0 & 0 & 0 & 1752310 \\\\\n",
       "0 & 0 & 1 & 0 & 0 & 0 & 1086440 \\\\\n",
       "0 & 0 & 0 & 1 & 0 & 0 & 659447 \\\\\n",
       "0 & 0 & 0 & 0 & 1 & 0 & 861671 \\\\\n",
       "0 & 0 & 0 & 0 & 0 & 1 & 167437 \\\\\n",
       "0 & 0 & 0 & 0 & 0 & 0 & 1976776\n",
       "\\end{array}\\right)\\)</html>"
      ],
      "text/latex": [
       "$\\displaystyle \\left(\\begin{array}{rrrrrrr}\n",
       "1 & 0 & 0 & 0 & 0 & 0 & 385705 \\\\\n",
       "0 & 1 & 0 & 0 & 0 & 0 & 1752310 \\\\\n",
       "0 & 0 & 1 & 0 & 0 & 0 & 1086440 \\\\\n",
       "0 & 0 & 0 & 1 & 0 & 0 & 659447 \\\\\n",
       "0 & 0 & 0 & 0 & 1 & 0 & 861671 \\\\\n",
       "0 & 0 & 0 & 0 & 0 & 1 & 167437 \\\\\n",
       "0 & 0 & 0 & 0 & 0 & 0 & 1976776\n",
       "\\end{array}\\right)$"
      ],
      "text/plain": [
       "[      1       0       0       0       0       0  385705]\n",
       "[      0       1       0       0       0       0 1752310]\n",
       "[      0       0       1       0       0       0 1086440]\n",
       "[      0       0       0       1       0       0  659447]\n",
       "[      0       0       0       0       1       0  861671]\n",
       "[      0       0       0       0       0       1  167437]\n",
       "[      0       0       0       0       0       0 1976776]"
      ]
     },
     "metadata": {},
     "output_type": "display_data"
    }
   ],
   "source": [
    "a.echelonize()\n",
    "show(a)"
   ]
  },
  {
   "cell_type": "code",
   "execution_count": 8,
   "id": "2375da13-44b9-42df-b4d4-cae63ccffdf3",
   "metadata": {},
   "outputs": [
    {
     "data": {
      "text/html": [
       "<html>\\(\\displaystyle 4\\)</html>"
      ],
      "text/latex": [
       "$\\displaystyle 4$"
      ],
      "text/plain": [
       "4"
      ]
     },
     "metadata": {},
     "output_type": "display_data"
    }
   ],
   "source": [
    "#zad2\n",
    "b = matrix(5,5,[3,1,2,-1,7,0,1,0,2,1,3,2,2,1,8,0,1,1,5,4,-3,-1,-1,4,2])\n",
    "b.echelonize()\n",
    "show(rank(b))"
   ]
  },
  {
   "cell_type": "code",
   "execution_count": 1,
   "id": "dba2f182-59ce-4699-b125-0082add531c1",
   "metadata": {},
   "outputs": [
    {
     "ename": "TypeError",
     "evalue": "too many arguments in matrix constructor",
     "output_type": "error",
     "traceback": [
      "\u001b[0;31m---------------------------------------------------------------------------\u001b[0m",
      "\u001b[0;31mTypeError\u001b[0m                                 Traceback (most recent call last)",
      "Cell \u001b[0;32mIn[1], line 3\u001b[0m\n\u001b[1;32m      1\u001b[0m \u001b[38;5;66;03m#zad4 \u001b[39;00m\n\u001b[1;32m      2\u001b[0m A \u001b[38;5;241m=\u001b[39m matrix(Integer(\u001b[38;5;241m3\u001b[39m),Integer(\u001b[38;5;241m5\u001b[39m),[Integer(\u001b[38;5;241m3\u001b[39m),Integer(\u001b[38;5;241m0\u001b[39m),Integer(\u001b[38;5;241m2\u001b[39m),\u001b[38;5;241m-\u001b[39mInteger(\u001b[38;5;241m3\u001b[39m),Integer(\u001b[38;5;241m0\u001b[39m),Integer(\u001b[38;5;241m0\u001b[39m),Integer(\u001b[38;5;241m1\u001b[39m),Integer(\u001b[38;5;241m0\u001b[39m),Integer(\u001b[38;5;241m2\u001b[39m),Integer(\u001b[38;5;241m1\u001b[39m),\u001b[38;5;241m-\u001b[39mInteger(\u001b[38;5;241m1\u001b[39m),Integer(\u001b[38;5;241m0\u001b[39m),Integer(\u001b[38;5;241m1\u001b[39m),Integer(\u001b[38;5;241m0\u001b[39m),Integer(\u001b[38;5;241m2\u001b[39m)])\n\u001b[0;32m----> 3\u001b[0m B \u001b[38;5;241m=\u001b[39m \u001b[43mmatrix\u001b[49m\u001b[43m(\u001b[49m\u001b[43m[\u001b[49m\u001b[43mInteger\u001b[49m\u001b[43m(\u001b[49m\u001b[38;5;241;43m2\u001b[39;49m\u001b[43m)\u001b[49m\u001b[43m]\u001b[49m\u001b[43m,\u001b[49m\u001b[43m[\u001b[49m\u001b[43mInteger\u001b[49m\u001b[43m(\u001b[49m\u001b[38;5;241;43m0\u001b[39;49m\u001b[43m)\u001b[49m\u001b[43m]\u001b[49m\u001b[43m,\u001b[49m\u001b[43m[\u001b[49m\u001b[43mInteger\u001b[49m\u001b[43m(\u001b[49m\u001b[38;5;241;43m3\u001b[39;49m\u001b[43m)\u001b[49m\u001b[43m]\u001b[49m\u001b[43m)\u001b[49m\n\u001b[1;32m      4\u001b[0m U\u001b[38;5;241m=\u001b[39m block_matrix([[A,B]])\n",
      "File \u001b[0;32m~/sage/src/sage/matrix/constructor.pyx:676\u001b[0m, in \u001b[0;36msage.matrix.constructor.matrix\u001b[0;34m()\u001b[0m\n\u001b[1;32m    674\u001b[0m \"\"\"\n\u001b[1;32m    675\u001b[0m immutable = kwds.pop('immutable', False)\n\u001b[0;32m--> 676\u001b[0m return MatrixArgs(*args, **kwds).element(immutable=immutable)\n\u001b[1;32m    677\u001b[0m \n\u001b[1;32m    678\u001b[0m \n",
      "File \u001b[0;32m~/sage/src/sage/matrix/args.pyx:426\u001b[0m, in \u001b[0;36msage.matrix.args.MatrixArgs.__init__\u001b[0;34m()\u001b[0m\n\u001b[1;32m    424\u001b[0m         if argi == argc: return\n\u001b[1;32m    425\u001b[0m \n\u001b[0;32m--> 426\u001b[0m     raise TypeError(\"too many arguments in matrix constructor\")\n\u001b[1;32m    427\u001b[0m \n\u001b[1;32m    428\u001b[0m def __repr__(self):\n",
      "\u001b[0;31mTypeError\u001b[0m: too many arguments in matrix constructor"
     ]
    }
   ],
   "source": [
    "#zad4 \n",
    "A = matrix(3,5,[3,0,2,-3,0,0,1,0,2,1,-1,0,1,0,2])\n",
    "B = matrix([2],[0],[3])\n",
    "U= block_matrix([[A,B]])"
   ]
  },
  {
   "cell_type": "code",
   "execution_count": null,
   "id": "5080070a-5746-45b7-a85b-09148a9d8072",
   "metadata": {},
   "outputs": [],
   "source": []
  }
 ],
 "metadata": {
  "kernelspec": {
   "display_name": "SageMath 10.4",
   "language": "sage",
   "name": "sagemath"
  },
  "language_info": {
   "codemirror_mode": {
    "name": "ipython",
    "version": 3
   },
   "file_extension": ".py",
   "mimetype": "text/x-python",
   "name": "python",
   "nbconvert_exporter": "python",
   "pygments_lexer": "ipython3",
   "version": "3.10.12"
  }
 },
 "nbformat": 4,
 "nbformat_minor": 5
}
