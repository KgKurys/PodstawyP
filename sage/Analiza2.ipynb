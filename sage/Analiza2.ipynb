{
 "cells": [
  {
   "cell_type": "markdown",
   "metadata": {
    "collapsed": false,
    "jupyter": {
     "outputs_hidden": false
    }
   },
   "source": [
    "# **Analiza Matematyczna – Pracownia Specjalistyczna**\n",
    "\n",
    "## Witali Bułatow\n",
    "\n",
    "[witali.bulatow@pb.edu.pl](mailto:witali.bulatow@pb.edu.pl)"
   ]
  },
  {
   "cell_type": "markdown",
   "metadata": {
    "collapsed": false,
    "jupyter": {
     "outputs_hidden": false
    }
   },
   "source": [
    "<span style=\"font-size: larger; color: blue;\">2. Granice funkcji</span>\n",
    "- [2.1. Wykresy funkcji](#1)\n",
    "    - [2.1.1. Definiowanie funkcji](#1-1)\n",
    "    - [2.1.2. Łączenie wykresów](#1-2)\n",
    "- [2.2. Charakterystyka funkcji](#2)\n",
    "    - [2.2.1. Własności funkcji](#2-1)\n",
    "    - [2.2.2. Funkcja odwrotna](#2-2)\n",
    "- [2.3. Granice ciągów](#3)\n",
    "    - [2.3.1. Wykres ciągu](#3-1)\n",
    "    - [2.3.2. Definicja granicy](#3-2)\n",
    "- [2.4. Macierze rysunków](#4)\n",
    "    - [2.4.1. Wykres funkcji nieciągłej](#4-1)\n",
    "    - [2.4.2. Funkcje elementarne](#4-2)\n",
    "- [2.5. Granice funkcji](#5)\n",
    "    - [2.5.1. Granica w punkcie](#5-1)\n",
    "    - [2.5.2. Granice jednostronne](#5-2)"
   ]
  },
  {
   "cell_type": "markdown",
   "metadata": {
    "collapsed": false,
    "jupyter": {
     "outputs_hidden": false
    }
   },
   "source": [
    "<h1><center><b>2. Granice funkcji</b></center></h1>"
   ]
  },
  {
   "cell_type": "markdown",
   "metadata": {
    "collapsed": false,
    "jupyter": {
     "outputs_hidden": false
    }
   },
   "source": [
    "## 2.1. Wykresy funkcji<a class=\"anchor\" id=\"1\"></a>"
   ]
  },
  {
   "cell_type": "markdown",
   "metadata": {
    "collapsed": false,
    "jupyter": {
     "outputs_hidden": false
    }
   },
   "source": [
    "### 2.1.1. Definiowanie funkcji<a class=\"anchor\" id=\"1-1\"></a>"
   ]
  },
  {
   "cell_type": "markdown",
   "metadata": {
    "collapsed": false,
    "jupyter": {
     "outputs_hidden": false
    }
   },
   "source": [
    "W **SageMath** <u>funkcję</u> $f$ tworzymy za pomocą składni `f(x)`.\n",
    "\n",
    "---\n",
    "\n",
    "**Przykład**\n",
    "\n",
    "Zdefiniujemy funkcję\n",
    "\n",
    "$$f(x) = x^2+ 2x - 3$$"
   ]
  },
  {
   "cell_type": "code",
   "execution_count": null,
   "metadata": {
    "collapsed": false,
    "jupyter": {
     "outputs_hidden": false
    }
   },
   "outputs": [],
   "source": [
    "f(x) = x^2 + 2*x - 3"
   ]
  },
  {
   "cell_type": "markdown",
   "metadata": {
    "collapsed": false,
    "jupyter": {
     "outputs_hidden": false
    }
   },
   "source": [
    "Możemy teraz \"normalnie\" wyznaczać jej <u>wartości</u>"
   ]
  },
  {
   "cell_type": "code",
   "execution_count": null,
   "metadata": {
    "collapsed": false,
    "jupyter": {
     "outputs_hidden": false
    }
   },
   "outputs": [],
   "source": [
    "f(3)"
   ]
  },
  {
   "cell_type": "markdown",
   "metadata": {
    "collapsed": false,
    "jupyter": {
     "outputs_hidden": false
    }
   },
   "source": [
    "Podobnie uzyskujemy takie wyrażenia, jak $f(2x)$"
   ]
  },
  {
   "cell_type": "code",
   "execution_count": null,
   "metadata": {
    "collapsed": false,
    "jupyter": {
     "outputs_hidden": false
    }
   },
   "outputs": [],
   "source": [
    "f(2*x)"
   ]
  },
  {
   "cell_type": "markdown",
   "metadata": {
    "collapsed": false,
    "jupyter": {
     "outputs_hidden": false
    }
   },
   "source": [
    "Wyniki możemy <u>wyświetlać \"ładnie\"</u> za pomocą polecenia **pretty_print()**"
   ]
  },
  {
   "cell_type": "code",
   "execution_count": null,
   "metadata": {
    "collapsed": false,
    "jupyter": {
     "outputs_hidden": false
    }
   },
   "outputs": [],
   "source": [
    "pretty_print(f(x))"
   ]
  },
  {
   "cell_type": "markdown",
   "metadata": {
    "collapsed": false,
    "jupyter": {
     "outputs_hidden": false
    }
   },
   "source": [
    "Teraz zdefiniujemy inną funkcję\n",
    "\n",
    "$$g(x) = -x^2$$\n",
    "\n",
    "---\n",
    "\n",
    "Funkcję poznajemy po tym, że wyświetlana jest wraz ze <u>strzałką</u>"
   ]
  },
  {
   "cell_type": "code",
   "execution_count": null,
   "metadata": {
    "collapsed": false,
    "jupyter": {
     "outputs_hidden": false
    }
   },
   "outputs": [],
   "source": [
    "g(x) = -x^2\n",
    "g"
   ]
  },
  {
   "cell_type": "markdown",
   "metadata": {
    "collapsed": false,
    "jupyter": {
     "outputs_hidden": false
    }
   },
   "source": [
    "Możemy wyznaczać złożenia funkcji – $f \\circ g$\n",
    "\n",
    "$$(f \\circ g)(x) = f(g(x)) = f(-x^2) = (-x^2)^2 + 2 \\cdot (-x^2) - 3 = x^4 - 2x^2 - 3$$"
   ]
  },
  {
   "cell_type": "code",
   "execution_count": null,
   "metadata": {
    "collapsed": false,
    "jupyter": {
     "outputs_hidden": false
    }
   },
   "outputs": [],
   "source": [
    "f(g(x))"
   ]
  },
  {
   "cell_type": "markdown",
   "metadata": {
    "collapsed": false,
    "jupyter": {
     "outputs_hidden": false
    }
   },
   "source": [
    "Oraz $g \\circ f$, czyli\n",
    "\n",
    "$$(g \\circ f)(x) = g(f(x)) = g(x^2 + 2x - 3) = -(x^2 + 2x - 3)^2$$"
   ]
  },
  {
   "cell_type": "code",
   "execution_count": null,
   "metadata": {
    "collapsed": false,
    "jupyter": {
     "outputs_hidden": false
    }
   },
   "outputs": [],
   "source": [
    "g(f(x))"
   ]
  },
  {
   "cell_type": "markdown",
   "metadata": {
    "collapsed": false,
    "jupyter": {
     "outputs_hidden": false
    }
   },
   "source": [
    "<u>**Uwaga**</u> (wyrażenie a funkcja)!\n",
    "\n",
    "Zwróćmy uwagę na jeden szczegół – funkcję matematyczną możemy definiować zarówno jako:\n",
    "\n",
    "* <u>wyrażenie algebraiczne</u>\n",
    "\n",
    "```\n",
    "f = x^2 + 2*x - 3\n",
    "```\n",
    "\n",
    "Wtedy przy wyliczaniu wartości tego wyrażenia stosujemy zapis `f(x=1)`.\n",
    "\n",
    "* <u>funkcję</u>\n",
    "\n",
    "```\n",
    "f(x) = x^2 + 2*x - 3\n",
    "```\n",
    "\n",
    "Wówczas możemy \"normalnie\" pisać `f(1)`.\n",
    "\n",
    "---\n",
    "\n",
    "Narysujemy <u>wykres</u> zdefiniowanej funkcji. Uzyskujemy go za pomocą funkcji **plot()**"
   ]
  },
  {
   "cell_type": "code",
   "execution_count": null,
   "metadata": {
    "collapsed": false,
    "jupyter": {
     "outputs_hidden": false
    }
   },
   "outputs": [],
   "source": [
    "rys = plot(f, (x, -4, 2))\n",
    "rys"
   ]
  },
  {
   "cell_type": "markdown",
   "metadata": {
    "collapsed": false,
    "jupyter": {
     "outputs_hidden": false
    }
   },
   "source": [
    "Wykresy w **Sage** tworzone są w następujący sposób:\n",
    "\n",
    "* wybieramy losowe <u>argumenty</u> $x$ z dziedziny\n",
    "* obliczamy <u>wartości</u> $y$ na podstawie wzoru\n",
    "* tak otrzymane punkty łączymy <u>linią ciągłą</u>\n",
    "\n",
    "---\n",
    "\n",
    "Dlatego wykresy <u>funkcji wymiernych</u> będą nieczytelne z powodu uzyskiwania bardzo dużych i małych wartości. Dodatkowo, w miejscu <u>asymptoty pionowej</u> pojawia się pionowa prosta łącząca punkty między <u>punktem nieciągłości</u>"
   ]
  },
  {
   "cell_type": "code",
   "execution_count": null,
   "metadata": {
    "collapsed": false,
    "jupyter": {
     "outputs_hidden": false
    }
   },
   "outputs": [],
   "source": [
    "plot(1/x)"
   ]
  },
  {
   "cell_type": "markdown",
   "metadata": {
    "collapsed": false,
    "jupyter": {
     "outputs_hidden": false
    }
   },
   "source": [
    "Aby wyeliminować ten problem, możemy ograniczyć <u>zakres wyświetlanych wartości</u> na osi OY poprzez zastosowanie argumentów **ymin** oraz **ymax**"
   ]
  },
  {
   "cell_type": "code",
   "execution_count": null,
   "metadata": {
    "collapsed": false,
    "jupyter": {
     "outputs_hidden": false
    }
   },
   "outputs": [],
   "source": [
    "plot(1/x, ymin=-5, ymax=5)"
   ]
  },
  {
   "cell_type": "markdown",
   "metadata": {
    "collapsed": false,
    "jupyter": {
     "outputs_hidden": false
    }
   },
   "source": [
    "W celu <u>usunięcia linii pionowej</u>, która łączy punkty po przeciwnych stronach prostej $x = 0$, ustawiamy wartość argumentu **detect_poles** na **True**"
   ]
  },
  {
   "cell_type": "code",
   "execution_count": null,
   "metadata": {
    "collapsed": false,
    "jupyter": {
     "outputs_hidden": false
    }
   },
   "outputs": [],
   "source": [
    "plot(1/x, ymin=-5, ymax=5, detect_poles=True)"
   ]
  },
  {
   "cell_type": "markdown",
   "metadata": {
    "collapsed": false,
    "jupyter": {
     "outputs_hidden": false
    }
   },
   "source": [
    "Odpowiednik funkcji **print()** dla wykresów to **show()**"
   ]
  },
  {
   "cell_type": "code",
   "execution_count": null,
   "metadata": {
    "collapsed": false,
    "jupyter": {
     "outputs_hidden": false
    }
   },
   "outputs": [],
   "source": [
    "show(plot(exp(x)))\n",
    "show(plot(cos(x)))"
   ]
  },
  {
   "cell_type": "markdown",
   "metadata": {
    "collapsed": false,
    "jupyter": {
     "outputs_hidden": false
    }
   },
   "source": [
    "### 2.1.2. Łączenie wykresów<a class=\"anchor\" id=\"1-2\"></a>"
   ]
  },
  {
   "cell_type": "markdown",
   "metadata": {
    "collapsed": false,
    "jupyter": {
     "outputs_hidden": false
    }
   },
   "source": [
    "Jeżeli chcemy umieścić <u>wiele wykresów</u> funkcji na jednym rysunku, to łączymy funkcje **plot()** operatorem `+`"
   ]
  },
  {
   "cell_type": "code",
   "execution_count": null,
   "metadata": {
    "collapsed": false,
    "jupyter": {
     "outputs_hidden": false
    }
   },
   "outputs": [],
   "source": [
    "plot(x^2, color='blue') + plot(-x^2 + 1, color='orange')"
   ]
  },
  {
   "cell_type": "markdown",
   "metadata": {
    "collapsed": false,
    "jupyter": {
     "outputs_hidden": false
    }
   },
   "source": [
    "W celu zwiększenia czytelności warto tę czynność wykonywać w kilku linijkach, przypisując poszczególne <u>wykresy do zmiennych</u>"
   ]
  },
  {
   "cell_type": "code",
   "execution_count": null,
   "metadata": {
    "collapsed": false,
    "jupyter": {
     "outputs_hidden": false
    }
   },
   "outputs": [],
   "source": [
    "rys1 = plot(x^2, color='blue')\n",
    "rys2 = plot(-x^2 + 1, color='orange')\n",
    "\n",
    "rys1 + rys2"
   ]
  },
  {
   "cell_type": "markdown",
   "metadata": {
    "collapsed": false,
    "jupyter": {
     "outputs_hidden": false
    }
   },
   "source": [
    "Można również umieścić <u>wzory funkcji w liście</u>. Wtedy wykresy automatycznie zostaną narysowane <u>różnymi kolorami</u>"
   ]
  },
  {
   "cell_type": "code",
   "execution_count": null,
   "metadata": {
    "collapsed": false,
    "jupyter": {
     "outputs_hidden": false
    }
   },
   "outputs": [],
   "source": [
    "plot([x^2, -x^2+1])"
   ]
  },
  {
   "cell_type": "markdown",
   "metadata": {
    "collapsed": false,
    "jupyter": {
     "outputs_hidden": false
    }
   },
   "source": [
    "Możemy dodać <u>legendę</u> dla poszczególnych funkcji oraz wskazać jej <u>lokalizację</u>. Dostępne argumenty znajdujemy w [dokumentacji](https://doc.sagemath.org/html/en/reference/plotting/sage/plot/graphics.html#sage.plot.graphics.Graphics.set_legend_options)"
   ]
  },
  {
   "cell_type": "code",
   "execution_count": null,
   "metadata": {
    "collapsed": false,
    "jupyter": {
     "outputs_hidden": false
    }
   },
   "outputs": [],
   "source": [
    "rys = plot([x^2, -x^2+1], legend_label=['$y = x^2$', '$y = -x^2 + 1$'])\n",
    "rys.set_legend_options(loc=(0.72, 0.8))  # ustawia położenie legendy za pomocą współrzędnych\n",
    "\n",
    "rys"
   ]
  },
  {
   "cell_type": "markdown",
   "metadata": {
    "collapsed": false,
    "jupyter": {
     "outputs_hidden": false
    }
   },
   "source": [
    "Zapis `legend_label='automatic'` od razu wypełni legendę odpowiednimi <u>wzorami funkcji</u>"
   ]
  },
  {
   "cell_type": "code",
   "execution_count": null,
   "metadata": {
    "collapsed": false,
    "jupyter": {
     "outputs_hidden": false
    }
   },
   "outputs": [],
   "source": [
    "plot([x^2, -x^2+1], legend_label='automatic')"
   ]
  },
  {
   "cell_type": "markdown",
   "metadata": {
    "collapsed": false,
    "jupyter": {
     "outputs_hidden": false
    }
   },
   "source": [
    "Aby dodać <u>punkt</u> do wykresu, stosujemy funkcję **point()**"
   ]
  },
  {
   "cell_type": "code",
   "execution_count": null,
   "metadata": {
    "collapsed": false,
    "jupyter": {
     "outputs_hidden": false
    }
   },
   "outputs": [],
   "source": [
    "rys = plot(x^2 + 1)\n",
    "punkt = point((0, 1), color='red', size=50)\n",
    "\n",
    "rys + punkt"
   ]
  },
  {
   "cell_type": "markdown",
   "metadata": {
    "collapsed": false,
    "jupyter": {
     "outputs_hidden": false
    }
   },
   "source": [
    "<u>Pusty rysunek</u> deklarujemy poprzez komendę **Graphics()**. Następnie do tego obiektu możemy dodawać kolejne wykresy, korzystając z operatora `+=`"
   ]
  },
  {
   "cell_type": "code",
   "execution_count": null,
   "metadata": {
    "collapsed": false,
    "jupyter": {
     "outputs_hidden": false
    }
   },
   "outputs": [],
   "source": [
    "rys = Graphics()\n",
    "rys += plot(x^2 + 1)\n",
    "\n",
    "rys"
   ]
  },
  {
   "cell_type": "markdown",
   "metadata": {
    "collapsed": false,
    "jupyter": {
     "outputs_hidden": false
    }
   },
   "source": [
    "<u>Kolejność</u> wykresów określamy za pomocą argumentu **zorder** – im większa jego wartość, tym bardziej z przodu jest dany wykres"
   ]
  },
  {
   "cell_type": "code",
   "execution_count": null,
   "metadata": {
    "collapsed": false,
    "jupyter": {
     "outputs_hidden": false
    }
   },
   "outputs": [],
   "source": [
    "rys += point((0, 1), color='red', size=50, zorder=5)  # teraz punkt jest przed parabolą\n",
    "\n",
    "rys"
   ]
  },
  {
   "cell_type": "markdown",
   "metadata": {
    "collapsed": false,
    "jupyter": {
     "outputs_hidden": false
    }
   },
   "source": [
    "<u>Tekst</u> na rysunku dodajemy, korzystając z funkcji **text()**"
   ]
  },
  {
   "cell_type": "code",
   "execution_count": null,
   "metadata": {
    "collapsed": false,
    "jupyter": {
     "outputs_hidden": false
    }
   },
   "outputs": [],
   "source": [
    "rys += text('$W=(0, 1)$', (0.18, 0.95), color='black', fontsize=16)\n",
    "\n",
    "rys"
   ]
  },
  {
   "cell_type": "markdown",
   "metadata": {
    "collapsed": false,
    "jupyter": {
     "outputs_hidden": false
    }
   },
   "source": [
    "Aby narysować linię łączącą dwa punkty, umieszczamy w liście punkty <u>początkowy</u> i <u>końcowy</u>"
   ]
  },
  {
   "cell_type": "code",
   "execution_count": null,
   "metadata": {
    "collapsed": false,
    "jupyter": {
     "outputs_hidden": false
    }
   },
   "outputs": [],
   "source": [
    "line([(1, -1), (1, 4)])"
   ]
  },
  {
   "cell_type": "markdown",
   "metadata": {
    "collapsed": false,
    "jupyter": {
     "outputs_hidden": false
    }
   },
   "source": [
    "**Zadanie 2.1**\n",
    "\n",
    "a) Dana jest <u>funkcja kwadratowa</u>!\n",
    "\n",
    "$$f(x) = -x^2 + 3x + 5$$\n",
    "\n",
    "* narysuj wykres funkcji $f$ w <u>dziedzinie</u> $(-3, 5)$;\n",
    "* zmodyfikuj <u>kolor wykresu</u> i <u>grubość linii</u>;\n",
    "* ogranicz <u>zakres wyświetlanych wartości</u> do przedziału $(-10, 10)$;\n",
    "* oblicz <u>współrzędne wierzchołka</u> paraboli i <u>zaznacz go na rysunku</u> innym kolorem;\n",
    "* umieść przy wierzchołku <u>tekst</u> $W = (p, q)$, zastępując $p$ i $q$ <u>odpowiednimi wartościami</u>.\n",
    "\n",
    "---\n",
    "\n",
    "b) Narysuj <u>wykres funkcji</u> $y = \\frac{2x+1}{x-1}$ w <u>dziedzinie</u> $(-6, 8)$. Następnie:\n",
    "\n",
    "* zapewnij czytelność wykresu poprzez <u>usunięcie linii pionowej</u> oraz odpowiedni dobór <u>zbioru wartości</u>;\n",
    "* dodaj <u>tytuł wykresu</u> i <u>linie siatki</u>;\n",
    "* zaznacz <u>asymptoty</u> innym kolorem i linią przerywaną;\n",
    "* wstaw <u>legendę</u> zawierającą opis <u>wykresu funkcji i asymptot</u>;\n",
    "* zmień <u>położenie legendy</u> tak, aby znajdowała się w <u>prawym dolnym rogu</u>.\n",
    "\n",
    "W obu podpunktach wystarczy wyświetlić <u>końcowy rysunek</u>!"
   ]
  },
  {
   "cell_type": "markdown",
   "metadata": {
    "collapsed": false,
    "jupyter": {
     "outputs_hidden": false
    }
   },
   "source": [
    "## 2.2. Charakterystyka funkcji<a class=\"anchor\" id=\"2\"></a>"
   ]
  },
  {
   "cell_type": "markdown",
   "metadata": {
    "collapsed": false,
    "jupyter": {
     "outputs_hidden": false
    }
   },
   "source": [
    "### 2.2.1. Własności funkcji<a class=\"anchor\" id=\"2-1\"></a>"
   ]
  },
  {
   "cell_type": "markdown",
   "metadata": {
    "collapsed": false,
    "jupyter": {
     "outputs_hidden": false
    }
   },
   "source": [
    "Przeanalizujmy niektóre cechy charakterystyczne <u>funkcji rzeczywistych</u> $f \\colon X \\to Y$ (czyli takich, że $X, Y \\subset \\mathbb{R}$):\n",
    "\n",
    "1. <u>Miejsca zerowe</u>\n",
    "\n",
    "<u>Miejscem zerowym</u> funkcji nazywamy każdą taką <u>liczbę rzeczywistą</u> $x \\in X$, która spełnia równość\n",
    "\n",
    "$$f(x) = 0$$\n",
    "\n",
    "---\n",
    "\n",
    "Jeżeli funkcja jest <u>wielomianem</u> stopnia $n$ (czyli $y = W(x)$ oraz $\\deg (W) = n$), to równanie $W(x) = 0$ ma zawsze <u>dokładnie $n$ rozwiązań zespolonych</u> (licząc z <u>krotnościami</u>). Jednak przy wyznaczaniu miejsc zerowych funkcji rzeczywistej interesują nas jedynie <u>rzeczywiste rozwiązania</u> tego równania.\n",
    "\n",
    "---\n",
    "\n",
    "**Przykład**\n",
    "\n",
    "Wyznaczymy miejsca zerowe funkcji\n",
    "\n",
    "$$f(x) = -x^4 + 3x^3 + 2x^2 - 4x + 5$$"
   ]
  },
  {
   "cell_type": "code",
   "execution_count": null,
   "metadata": {
    "collapsed": false,
    "jupyter": {
     "outputs_hidden": false
    }
   },
   "outputs": [],
   "source": [
    "# definiujemy funkcję f\n",
    "f(x) = -x^4 + 3*x^3 + 2*x^2 - 4*x + 5\n",
    "\n",
    "# rozwiązujemy równanie f(x) = 0\n",
    "rozw = solve(f, x)\n",
    "\n",
    "# rozw to lista zawierająca rozwiązania równania\n",
    "f'Liczba rozwiązań równania to: {len(rozw)}'"
   ]
  },
  {
   "cell_type": "markdown",
   "metadata": {
    "collapsed": false,
    "jupyter": {
     "outputs_hidden": false
    }
   },
   "source": [
    "Uzyskaliśmy 4 rozwiązania, ponieważ mamy <u>równanie wielomianowe 4-tego stopnia</u>. Jednak nie wiemy jeszcze – czy są to rozwiązania rzeczywiste. Po ich wypisaniu okazuje się, że nie są one czytelne"
   ]
  },
  {
   "cell_type": "code",
   "execution_count": null,
   "metadata": {
    "collapsed": false,
    "jupyter": {
     "outputs_hidden": false
    }
   },
   "outputs": [],
   "source": [
    "rozw"
   ]
  },
  {
   "cell_type": "markdown",
   "metadata": {
    "collapsed": false,
    "jupyter": {
     "outputs_hidden": false
    }
   },
   "source": [
    "Wyniki znajdują się w liście, więc do poszczególnych rozwiązań można <u>odwoływać się za pomocą indeksów</u>"
   ]
  },
  {
   "cell_type": "code",
   "execution_count": null,
   "metadata": {
    "collapsed": false,
    "jupyter": {
     "outputs_hidden": false
    }
   },
   "outputs": [],
   "source": [
    "print('Pierwsze rozwiązanie:', rozw[0])\n",
    "print('\\nPrawa strona pierwszego rozwiązania:', rozw[0].rhs())\n",
    "print('\\nPrzybliżenie numeryczne prawej strony pierwszego rozwiązania:', rozw[0].rhs().n())"
   ]
  },
  {
   "cell_type": "markdown",
   "metadata": {
    "collapsed": false,
    "jupyter": {
     "outputs_hidden": false
    }
   },
   "source": [
    "Wypiszemy teraz w pętli **for** <u>przybliżenia numeryczne</u> uzyskanych rozwiązań"
   ]
  },
  {
   "cell_type": "code",
   "execution_count": null,
   "metadata": {
    "collapsed": false,
    "jupyter": {
     "outputs_hidden": false
    }
   },
   "outputs": [],
   "source": [
    "for r in rozw:\n",
    "    print(r.rhs().n())"
   ]
  },
  {
   "cell_type": "markdown",
   "metadata": {
    "collapsed": false,
    "jupyter": {
     "outputs_hidden": false
    }
   },
   "source": [
    "Widzimy, że otrzymaliśmy dwa rozwiązania <u>zespolone</u> (sugeruje to jednostka urojona `I` w pierwszych dwóch wynikach) i dwa rozwiązania <u>rzeczywiste</u>. Aby&nbsp;wypisać rozwiązania tylko wtedy, gdy są one rzeczywiste, stosujemy następujący zapis"
   ]
  },
  {
   "cell_type": "code",
   "execution_count": null,
   "metadata": {
    "collapsed": false,
    "jupyter": {
     "outputs_hidden": false
    }
   },
   "outputs": [],
   "source": [
    "# enumerate() dodaje indeksy do pętli, zaczynając od start\n",
    "for i, r in enumerate(rozw, start=1):\n",
    "    if r.rhs() in RR:  # pytamy czy rozwiązanie jest rzeczywiste\n",
    "        print(f'Rozwiązanie nr {i}:', r.rhs().n())"
   ]
  },
  {
   "cell_type": "markdown",
   "metadata": {
    "collapsed": false,
    "jupyter": {
     "outputs_hidden": false
    }
   },
   "source": [
    "Teraz widzimy, że rozwiązania trzecie i czwarte w liście `rozw` to liczby rzeczywiste, czyli szukane <u>miejsca zerowe</u>. Powyższe czynności można ująć w jeszcze bardziej kompaktowy sposób, wykorzystując składnię <u>listy składanej</u>"
   ]
  },
  {
   "cell_type": "code",
   "execution_count": null,
   "metadata": {
    "collapsed": false,
    "jupyter": {
     "outputs_hidden": false
    }
   },
   "outputs": [],
   "source": [
    "# tworzymy zbiór rozwiązań, korzystając ze składni listy składanej\n",
    "x0 = {r.rhs().n() for r in rozw if r.rhs() in RR}\n",
    "\n",
    "# w f-stringu można stosować zapis {x = }, wtedy zostanie wypisana nazwa zmiennej wraz z jej wartością\n",
    "print(f'Miejsca zerowe funkcji {f(x) = } to:', x0)"
   ]
  },
  {
   "cell_type": "markdown",
   "metadata": {
    "collapsed": false,
    "jupyter": {
     "outputs_hidden": false
    }
   },
   "source": [
    "2. <u>Wartości najmniejsza i największa</u>\n",
    "\n",
    "Wartości <u>najmniejszą</u> i <u>największą</u> funkcji w przedziale domkniętym można wyznaczyć za pomocą funkcji **ymin()** oraz **ymax()**. Należy zwrócić uwagę na to, że funkcje te stosujemy <u>na obiekcie graficznym</u> (na wykresie), a nie na funkcji (nie piszemy `f.ymax()`).\n",
    "\n",
    "---\n",
    "\n",
    "**Przykład**\n",
    "\n",
    "Znajdziemy wartości najmniejszą oraz największą funkcji kwadratowej\n",
    "\n",
    "$$f(x) = -x^2 + 3x +4$$\n",
    "\n",
    "w przedziale $[-4, 5]$"
   ]
  },
  {
   "cell_type": "code",
   "execution_count": null,
   "metadata": {
    "collapsed": false,
    "jupyter": {
     "outputs_hidden": false
    }
   },
   "outputs": [],
   "source": [
    "# definiujemy funkcję f\n",
    "f(x) = -x^2 + 3*x + 4\n",
    "\n",
    "# tworzymy rysunek tej funkcji w zadanej dziedzinie\n",
    "wykres = plot(f, (x, -4, 5))\n",
    "\n",
    "# wyznaczamy wartości najmniejszą i największą, stosując funkcje ymin() oraz ymax() na wykresie\n",
    "print('Wartość najmniejsza:', wykres.ymin())\n",
    "print('Wartość największa:', wykres.ymax())"
   ]
  },
  {
   "cell_type": "markdown",
   "metadata": {
    "collapsed": false,
    "jupyter": {
     "outputs_hidden": false
    }
   },
   "source": [
    "3. <u>Punkty przecięcia</u>\n",
    "\n",
    "Gdy chcemy wyznaczyć punkty przecięcia dwóch funkcji: $y = f(x)$ oraz $y = g(x)$, należy rozwiązać <u>układ równań</u>\n",
    "\n",
    "$$ \\left\\{ \\begin{array}{ll} y = f(x) \\\\ y = g(x) \\end{array} \\right. $$\n",
    "\n",
    "Wobec tego sprowadza się to do rozwiązania zwykłego <u>równania</u> $f(x) = g(x)$ – w celu wyznaczenia <u>pierwszych współrzędnych</u> punktów przecięcia. Następnie&nbsp;można skorzystać z dowolnego wzoru funkcji, aby doliczyć <u>drugie współrzędne</u>.\n",
    "\n",
    "---\n",
    "\n",
    "**Przykład**\n",
    "\n",
    "Znajdziemy punkt przecięcia wykresów funkcji $f(x) = \\ln x$ oraz $g(x) = \\sin x$.\n",
    "\n",
    "---\n",
    "\n",
    "Najpierw próbujemy rozwiązać to zadanie za pomocą funkcji **solve()**"
   ]
  },
  {
   "cell_type": "code",
   "execution_count": null,
   "metadata": {
    "collapsed": false,
    "jupyter": {
     "outputs_hidden": false
    }
   },
   "outputs": [],
   "source": [
    "f(x) = log(x)\n",
    "g(x) = sin(x)\n",
    "\n",
    "solve(f == g, x)"
   ]
  },
  {
   "cell_type": "markdown",
   "metadata": {
    "collapsed": false,
    "jupyter": {
     "outputs_hidden": false
    }
   },
   "source": [
    "Jako wynik otrzymujemy jedynie wprowadzoną równość, ponieważ równanie to jest dla funkcji **solve()** zbyt trudne. W tej sytuacji należy rozwiązać równanie <u>numerycznie</u>.\n",
    "\n",
    "---\n",
    "\n",
    "Zaczynamy od <u>narysowania wykresów</u> obu funkcji, aby zorientować się, gdzie może się znajdować punkt przecięcia. Po umieszczeniu funkcji w liście wykresy domyślnie zostaną narysowane różnymi kolorami"
   ]
  },
  {
   "cell_type": "code",
   "execution_count": null,
   "metadata": {
    "collapsed": false,
    "jupyter": {
     "outputs_hidden": false
    }
   },
   "outputs": [],
   "source": [
    "plot([f, g], (x, 0, 6))"
   ]
  },
  {
   "cell_type": "markdown",
   "metadata": {
    "collapsed": false,
    "jupyter": {
     "outputs_hidden": false
    }
   },
   "source": [
    "Teraz wiemy, że rozwiązania należy spodziewać się w przedziale $(2, 3)$. Wobec tego szukamy przybliżenia numerycznego rozwiązania w tym przedziale za pomocą funkcji **find_root()**"
   ]
  },
  {
   "cell_type": "code",
   "execution_count": null,
   "metadata": {
    "collapsed": false,
    "jupyter": {
     "outputs_hidden": false
    }
   },
   "outputs": [],
   "source": [
    "# do usuwania ostrzeżeń o przedawnieniu funkcji\n",
    "import warnings\n",
    "warnings.filterwarnings(\"ignore\", category=DeprecationWarning)\n",
    "\n",
    "x1 = find_root(f == g, 2, 3)\n",
    "x1"
   ]
  },
  {
   "cell_type": "markdown",
   "metadata": {
    "collapsed": false,
    "jupyter": {
     "outputs_hidden": false
    }
   },
   "source": [
    "Teraz doliczamy drugą współrzędną, wykorzystując dowolny wzór"
   ]
  },
  {
   "cell_type": "code",
   "execution_count": null,
   "metadata": {
    "collapsed": false,
    "jupyter": {
     "outputs_hidden": false
    }
   },
   "outputs": [],
   "source": [
    "y1 = f(x1)\n",
    "y1"
   ]
  },
  {
   "cell_type": "markdown",
   "metadata": {
    "collapsed": false,
    "jupyter": {
     "outputs_hidden": false
    }
   },
   "source": [
    "Stąd szukane współrzędne punktu przecięcia tych dwóch funkcji to"
   ]
  },
  {
   "cell_type": "code",
   "execution_count": null,
   "metadata": {
    "collapsed": false,
    "jupyter": {
     "outputs_hidden": false
    }
   },
   "outputs": [],
   "source": [
    "print(f'Współrzędne punktu przecięcia: ({x1}, {y1})')"
   ]
  },
  {
   "cell_type": "markdown",
   "metadata": {
    "collapsed": false,
    "jupyter": {
     "outputs_hidden": false
    }
   },
   "source": [
    "**Przykład**\n",
    "\n",
    "Rozwiążemy numerycznie równanie\n",
    "\n",
    "$$x^2 - 2x = \\sin x$$"
   ]
  },
  {
   "cell_type": "code",
   "execution_count": null,
   "metadata": {
    "collapsed": false,
    "jupyter": {
     "outputs_hidden": false
    }
   },
   "outputs": [],
   "source": [
    "rownanie = x^2 - 2*x == sin(x)\n",
    "\n",
    "plot([rownanie.lhs(), rownanie.rhs()], (x, -1, 3))"
   ]
  },
  {
   "cell_type": "markdown",
   "metadata": {
    "collapsed": false,
    "jupyter": {
     "outputs_hidden": false
    }
   },
   "source": [
    "Na rysunku dostrzegamy <u>dwa punkty przecięcia</u>. Znajdują się one wewnątrz przedziałów, na przykład, $[-1, 1]$ oraz $[2, 3]$. Stąd rozwiązania tego równania to"
   ]
  },
  {
   "cell_type": "code",
   "execution_count": null,
   "metadata": {
    "collapsed": false,
    "jupyter": {
     "outputs_hidden": false
    }
   },
   "outputs": [],
   "source": [
    "print('Pierwsze rozwiązanie:', find_root(rownanie, -1, 1))\n",
    "print('Drugie rozwiązanie:', find_root(rownanie, 2, 3))"
   ]
  },
  {
   "cell_type": "markdown",
   "metadata": {
    "collapsed": false,
    "jupyter": {
     "outputs_hidden": false
    }
   },
   "source": [
    "Pierwsza wartość to liczba około $2 \\cdot 10^{-16}$, więc jest to w przybliżeniu 0."
   ]
  },
  {
   "cell_type": "markdown",
   "metadata": {
    "collapsed": false,
    "jupyter": {
     "outputs_hidden": false
    }
   },
   "source": [
    "4. <u>Parzystość</u>\n",
    "\n",
    "Funkcja $f$ jest <u>parzysta</u>, gdy dziedzina funkcji $f$ jest <u>symetryczna względem zera</u> oraz\n",
    "\n",
    "$$ f(-x) = f(x) $$\n",
    "\n",
    "---\n",
    "\n",
    "Funkcja $f$ jest <u>nieparzysta</u>, gdy dziedzina funkcji $f$ jest <u>symetryczna względem zera</u> oraz\n",
    "\n",
    "$$ f(-x) = -f(x) $$\n",
    "\n",
    "---\n",
    "\n",
    "**Przykład**\n",
    "\n",
    "Zbadamy parzystość funkcji\n",
    "\n",
    "$$f(x) = x + \\sin x \\cos x$$\n",
    "\n",
    "---\n",
    "\n",
    "Możemy wyliczyć wartość wyrażenia `f(-x)` i porównać ją ze wzorem funkcji"
   ]
  },
  {
   "cell_type": "code",
   "execution_count": null,
   "metadata": {
    "collapsed": false,
    "jupyter": {
     "outputs_hidden": false
    }
   },
   "outputs": [],
   "source": [
    "f(x) = x + sin(x) * cos(x)\n",
    "\n",
    "f(-x)"
   ]
  },
  {
   "cell_type": "markdown",
   "metadata": {
    "collapsed": false,
    "jupyter": {
     "outputs_hidden": false
    }
   },
   "source": [
    "Otrzymujemy wniosek"
   ]
  },
  {
   "cell_type": "code",
   "execution_count": null,
   "metadata": {
    "collapsed": false,
    "jupyter": {
     "outputs_hidden": false
    }
   },
   "outputs": [],
   "source": [
    "print('Funkcja jest parzysta:', bool(f(x) == f(-x)))\n",
    "print('Funkcja jest nieparzysta:', bool(f(x) == -f(-x)))"
   ]
  },
  {
   "cell_type": "markdown",
   "metadata": {
    "collapsed": false,
    "jupyter": {
     "outputs_hidden": false
    }
   },
   "source": [
    "5. <u>Różnowartościowość</u>\n",
    "\n",
    "Funkcja $f \\colon X \\to Y$ jest <u>iniekcją</u> (jest <u>różnowartościowa</u>), gdy\n",
    "\n",
    "$$\\forall_{x_1, x_2 \\in X} \\colon \\left( x_1 \\neq x_2 \\implies f(x_1) \\neq f(x_2) \\right)$$\n",
    "\n",
    "Równoważnie\n",
    "\n",
    "$$\\forall_{x_1, x_2 \\in X} \\colon \\left( f(x_1) = f(x_2) \\implies x_1 = x_2 \\right)$$\n",
    "\n",
    "---\n",
    "\n",
    "**Przykład**\n",
    "\n",
    "Sprawdzimy czy funkcja $y = e^{2x + 1}$ jest iniekcją.\n",
    "\n",
    "---\n",
    "\n",
    "Najpierw rozwiązujemy równanie\n",
    "\n",
    "$$f(x_1) = f(x_2)$$"
   ]
  },
  {
   "cell_type": "code",
   "execution_count": 1,
   "metadata": {
    "collapsed": false,
    "jupyter": {
     "outputs_hidden": false
    }
   },
   "outputs": [
    {
     "data": {
      "text/plain": [
       "[x1 == x2]"
      ]
     },
     "execution_count": 1,
     "metadata": {},
     "output_type": "execute_result"
    }
   ],
   "source": [
    "# deklarujemy zmienne x1 oraz x2\n",
    "var('x1 x2')\n",
    "\n",
    "# definiujemy funkcję\n",
    "f(x) = exp(2*x + 1)\n",
    "\n",
    "# rozwiązujemy równanie f(x1) = f(x2) ze względu na x1\n",
    "rozw = solve(f(x1) == f(x2), x1)\n",
    "rozw"
   ]
  },
  {
   "cell_type": "markdown",
   "metadata": {
    "collapsed": false,
    "jupyter": {
     "outputs_hidden": false
    }
   },
   "source": [
    "Sprawdzamy czy funkcja jest <u>iniekcją</u>"
   ]
  },
  {
   "cell_type": "code",
   "execution_count": 2,
   "metadata": {
    "collapsed": false,
    "jupyter": {
     "outputs_hidden": false
    }
   },
   "outputs": [
    {
     "data": {
      "text/plain": [
       "'Funkcja jest iniekcją!'"
      ]
     },
     "execution_count": 2,
     "metadata": {},
     "output_type": "execute_result"
    }
   ],
   "source": [
    "# funkcja jest iniekcją, jeżeli jedynym rozwiązaniem tego równania jest x1 = x2\n",
    "iniekcja = bool(len(rozw) == 1 and rozw[0].rhs() == x2)\n",
    "\n",
    "# iniekcja przyjmuje wartość True/False w zależności od tego, czy funkcja jest iniekcją\n",
    "'Funkcja jest iniekcją!' if iniekcja else 'Funkcja nie jest iniekcją.'"
   ]
  },
  {
   "cell_type": "markdown",
   "metadata": {
    "collapsed": false,
    "jupyter": {
     "outputs_hidden": false
    }
   },
   "source": [
    "### 2.2.2. Funkcja odwrotna<a class=\"anchor\" id=\"2-2\"></a>"
   ]
  },
  {
   "cell_type": "markdown",
   "metadata": {
    "collapsed": false,
    "jupyter": {
     "outputs_hidden": false
    }
   },
   "source": [
    "Funkcja $f \\colon X \\to Y$ jest <u>surjekcją</u>, gdy $f(X) = Y$, czyli gdy <u>zbiór wartości</u> funkcji $f(X)$ jest <u>taki sam jak przeciwdziedzina</u>.\n",
    "\n",
    "---\n",
    "\n",
    "Funkcja $f$ jest <u>bijekcją</u>, gdy jest <u>iniekcją oraz surjekcją</u>.\n",
    "\n",
    "---\n",
    "\n",
    "<u>Funkcja odwrotna</u> $f^{-1}$ istnieje tylko wtedy, gdy funkcja $f$ jest <u>bijekcją</u>.\n",
    "\n",
    "---\n",
    "\n",
    "**Przykład**\n",
    "\n",
    "Wyznaczymy funkcję odwrotną do funkcji\n",
    "\n",
    "$$y = \\frac{1}{x-2} + 1$$\n",
    "\n",
    "---\n",
    "\n",
    "Funkcja jest <u>iniekcją</u> jako <u>funkcja homograficzna</u> (można też sprawdzić z definicji). Aby zweryfikować to na podstawie rysunku, wystarczy <u>narysować wykres</u> danej funkcji. Jeżeli istnieje prosta pozioma, która przecina wykres w <u>więcej niż jednym punkcie</u>, to funkcja <u>nie jest iniekcją</u>"
   ]
  },
  {
   "cell_type": "code",
   "execution_count": null,
   "metadata": {
    "collapsed": false,
    "jupyter": {
     "outputs_hidden": false
    }
   },
   "outputs": [],
   "source": [
    "# rozwiązujemy równanie f(x1) = f(x2) ze względu na x1\n",
    "f(x) = 1 / (x - 2) + 1\n",
    "\n",
    "# deklarujemy zmienne x1, x2\n",
    "var('x1 x2')\n",
    "\n",
    "# stosujemy definicję iniekcji, czyli sprawdzamy czy jedynym rozwiązaniem równania jest x1 = x2\n",
    "rozw = solve(f(x1) == f(x2), x1)\n",
    "\n",
    "iniekcja = bool(len(rozw) == 1 and rozw[0].rhs() == x2)\n",
    "'Funkcja jest iniekcją!' if iniekcja else 'Funkcja nie jest iniekcją.'"
   ]
  },
  {
   "cell_type": "markdown",
   "metadata": {
    "collapsed": false,
    "jupyter": {
     "outputs_hidden": false
    }
   },
   "source": [
    "Następnie należy określić <u>dziedzinę i przeciwdziedzinę</u> tak, aby funkcja była <u>surjekcją</u>. Wiemy, że <u>asymptotą pionową</u> wykresu jest prosta $x = 2$, stąd <u>dziedziną</u> jest zbiór $D = \\mathbb{R} \\setminus \\{2\\}$. Podobnie <u>asymptotą poziomą</u> jest prosta $y = 1$, zatem <u>zbiór wartości</u> to $f(D) = \\mathbb{R} \\setminus \\{1\\}$. Stąd funkcja $f$ jest <u>surjekcją</u> (przeciwdziedzina jest taka sama, jak zbiór wartości), gdy\n",
    "\n",
    "$$f \\colon \\mathbb{R} \\setminus \\{2\\} \\to \\mathbb{R} \\setminus \\{1\\}$$\n",
    "\n",
    "---\n",
    "\n",
    "Wobec tego tak określona funkcja jest <u>bijekcją</u>. Zatem możemy przejść do wyznaczania <u>funkcji odwrotnej</u> $f^{-1}$. Zaczynamy od tego, że funkcja odwrotna ma dziedzinę i przeciwdziedzinę <u>zamienione miejscami</u> względem funkcji $f$\n",
    "\n",
    "$$f^{-1} \\colon \\mathbb{R} \\setminus \\{1\\} \\to \\mathbb{R} \\setminus \\{2\\}$$\n",
    "\n",
    "---\n",
    "\n",
    "Teraz, aby znaleźć <u>wzór funkcji odwrotnej</u>, wystarczy z równości $y = \\frac{1}{x-2} + 1$ wyznaczyć zmienną $x$. Otrzymujemy\n",
    "\n",
    "$$y = \\frac{1}{x-2} + 1$$\n",
    "\n",
    "$$y-1 = \\frac{1}{x-2}$$\n",
    "\n",
    "$$(y-1)(x-2) = 1$$\n",
    "\n",
    "$$x-2 = \\frac{1}{y-1}$$\n",
    "\n",
    "$$x = \\frac{1}{y-1} + 2$$\n",
    "\n",
    "---\n",
    "\n",
    "Stąd wzór funkcji odwrotnej to\n",
    "\n",
    "$$f^{-1}(x) = \\frac{1}{x-1} + 2$$\n",
    "\n",
    "---\n",
    "\n",
    "W **Sage** tę czynność wykonujemy za pomocą poniższych instrukcji"
   ]
  },
  {
   "cell_type": "code",
   "execution_count": null,
   "metadata": {
    "collapsed": false,
    "jupyter": {
     "outputs_hidden": false
    }
   },
   "outputs": [],
   "source": [
    "# deklarujemy zmienną y jako symbol\n",
    "var('y')\n",
    "\n",
    "# rozwiązujemy równanie y = f(x) ze względu na zmienną x\n",
    "rozw = solve(y == f(x), x)\n",
    "rozw"
   ]
  },
  {
   "cell_type": "markdown",
   "metadata": {
    "collapsed": false,
    "jupyter": {
     "outputs_hidden": false
    }
   },
   "source": [
    "Teraz możemy narysować <u>wykres funkcji odwrotnej</u>"
   ]
  },
  {
   "cell_type": "code",
   "execution_count": null,
   "metadata": {
    "collapsed": false,
    "jupyter": {
     "outputs_hidden": false
    }
   },
   "outputs": [],
   "source": [
    "funkcja = plot(f, (x, -4, 4), ymin=-5, ymax=5, detect_poles=True, color='black', legend_label='Funkcja')\n",
    "prosta = plot(x, (x, -4, 4), color='blue', linestyle='--')\n",
    "\n",
    "funkcja_odwrotna = plot(rozw[0].rhs(), (y, -4, 4), ymin=-4, ymax=4, detect_poles=True,\n",
    "                        color='red', legend_label='Funkcja odwrotna')\n",
    "\n",
    "funkcja + prosta + funkcja_odwrotna"
   ]
  },
  {
   "cell_type": "markdown",
   "metadata": {
    "collapsed": false,
    "jupyter": {
     "outputs_hidden": false
    }
   },
   "source": [
    "**Przykład**\n",
    "\n",
    "Znajdziemy wzór funkcji odwrotnej do funkcji\n",
    "\n",
    "$$f(x) = \\frac{2 - 2 \\cdot 3^x}{2 + 3^x}$$\n",
    "\n",
    "oraz narysujemy jej wykres.\n",
    "\n",
    "---\n",
    "\n",
    "<u>Dziedzinę</u> funkcji wyznaczamy ręcznie jako\n",
    "\n",
    "$$2 + 3^x \\neq 0 \\iff 3^x \\neq -2$$\n",
    "\n",
    "Nierówność ta jest zawsze spełniona, ponieważ <u>funkcja wykładnicza nie przyjmuje wartości ujemnych</u>. Stąd\n",
    "\n",
    "$$\\operatorname{D} = \\mathbb{R}$$\n",
    "\n",
    "---\n",
    "\n",
    "<u>Zbiór wartości</u> wyznaczamy na podstawie wykresu funkcji. Wystarczy narysować funkcję w odpowiednio dużej dziedzinie i odczytać wynik z wykresu"
   ]
  },
  {
   "cell_type": "code",
   "execution_count": null,
   "metadata": {
    "collapsed": false,
    "jupyter": {
     "outputs_hidden": false
    }
   },
   "outputs": [],
   "source": [
    "f(x) = (2 - 2*3^x) / (2 + 3^x)\n",
    "\n",
    "plot(f, (x, -10, 10))"
   ]
  },
  {
   "cell_type": "markdown",
   "metadata": {
    "collapsed": false,
    "jupyter": {
     "outputs_hidden": false
    }
   },
   "source": [
    "Stąd szukany zbiór wartości to\n",
    "\n",
    "$$\\operatorname{ZW} = (-2, 1)$$\n",
    "\n",
    "Dodatkowo, na podstawie rysunku widzimy, że funkcja $f$ jest <u>różnowartościowa</u>.\n",
    "\n",
    "---\n",
    "\n",
    "Teraz wyznaczamy wzór <u>funkcji odwrotnej</u>. Ponieważ funkcja $f$ jest <u>bijekcją</u> dla\n",
    "\n",
    "$$f \\colon \\mathbb{R} \\to (-2, 1)$$\n",
    "\n",
    "to w funkcji odwrotnej dziedzina będzie zamieniona ze zbiorem wartości\n",
    "\n",
    "$$f^{-1} \\colon (-2, 1) \\to \\mathbb{R}$$\n",
    "\n",
    "---\n",
    "\n",
    "Wzór funkcji odwrotnej znajdujemy jako"
   ]
  },
  {
   "cell_type": "code",
   "execution_count": null,
   "metadata": {
    "collapsed": false,
    "jupyter": {
     "outputs_hidden": false
    }
   },
   "outputs": [],
   "source": [
    "var('y')\n",
    "\n",
    "rozw = solve(y == f(x), x)\n",
    "rozw"
   ]
  },
  {
   "cell_type": "markdown",
   "metadata": {
    "collapsed": false,
    "jupyter": {
     "outputs_hidden": false
    }
   },
   "source": [
    "Teraz rysujemy <u>wykres</u> tej funkcji w <u>odpowiedniej dziedzinie</u> (czyli tutaj $(-2, 1)$)"
   ]
  },
  {
   "cell_type": "code",
   "execution_count": null,
   "metadata": {
    "collapsed": false,
    "jupyter": {
     "outputs_hidden": false
    }
   },
   "outputs": [],
   "source": [
    "plot(rozw[0].rhs(), (x, -2, 1))"
   ]
  },
  {
   "cell_type": "markdown",
   "metadata": {
    "collapsed": false,
    "jupyter": {
     "outputs_hidden": false
    }
   },
   "source": [
    "**Dygresja**:\n",
    "\n",
    "<u>Funkcje cyklometryczne</u> (arcusy) to funkcje odwrotne do odpowiednich <u>funkcji trygonometrycznych</u>. Przykładowo, $y = \\arccos x$ jest funkcją odwrotną do fragmentu&nbsp;funkcji $y = \\cos x$, gdzie dziedziną jest zbiór $[0, \\pi]$ (mówimy, że funkcja jest <u>zawężona</u> do przedziału $[0, \\pi]$ i piszemy $y = \\cos x |_{[0, \\pi]}$).\n",
    "\n",
    "---\n",
    "\n",
    "Wykres <u>funkcji odwrotnej</u> powstaje poprzez <u>symetrię względem prostej</u> $y=x$. Przykładowo, na rysunku poniżej przedstawiony jest proces powstawania funkcji $y = \\operatorname{arctg} x$. Kolorem <u>czarnym</u> zaznaczono fragment funkcji $y = \\operatorname{tg} x |_{\\left( -\\frac{\\pi}{2}, \\frac{\\pi}{2} \\right)}$, a kolorem <u>niebieskim</u> – przekątną $y=x$. Funkcja $y = \\operatorname{arctg} x$ narysowana kolorem <u>czerwonym</u> jest lustrzanym odbiciem wykresu czarnego względem niebieskiej prostej"
   ]
  },
  {
   "cell_type": "code",
   "execution_count": null,
   "metadata": {
    "collapsed": false,
    "jupyter": {
     "outputs_hidden": false
    }
   },
   "outputs": [],
   "source": [
    "tg = plot(tan(x), (x, -pi/2, pi/2), color='black', ymin=-10, ymax=10, legend_label='$y = \\\\operatorname{tg}(x)$')\n",
    "prosta = plot(x, (x, -10, 10), color='blue', linestyle='--', legend_label='$y = x$')\n",
    "arctg = plot(arctan(x), (x, -10, 10), color='red', legend_label='$y = \\\\operatorname{arctg}(x)$')\n",
    "\n",
    "tg + prosta + arctg"
   ]
  },
  {
   "cell_type": "markdown",
   "metadata": {
    "collapsed": false,
    "jupyter": {
     "outputs_hidden": false
    }
   },
   "source": [
    "**Zadanie 2.2**\n",
    "\n",
    "a) Dana jest <u>funkcja rzeczywista</u>!\n",
    "\n",
    "$$f(x) = x^4 + \\frac{1}{2}x^2 - 3$$\n",
    "\n",
    "* wyznacz <u>miejsca zerowe</u> funkcji $f$;\n",
    "* znajdź <u>wartości najmniejszą i największą</u> funkcji $f$ w przedziale domkniętym $[-1, 2]$;\n",
    "* sprawdź, czy funkcja $f$ jest <u>parzysta lub nieparzysta</u>;\n",
    "* podaj <u>wszystkie współrzędne punktów przecięcia</u> wykresów funkcji $f$ oraz $g(x) = e^x$.\n",
    "\n",
    "**Wskazówka**:\n",
    "\n",
    "Funkcja wykładnicza rośnie <u>szybciej</u> niż dowolna funkcja wielomianowa.\n",
    "\n",
    "---\n",
    "\n",
    "b) Weźmy funkcję!\n",
    "\n",
    "$$f(x) = \\frac{3 - 3e^x}{2 + 2e^x}$$\n",
    "\n",
    "* wyznacz <u>dziedzinę</u> i <u>zbiór wartości</u> tej funkcji;\n",
    "* sprawdź, czy funkcja $f$ jest <u>iniekcją</u> oraz dobierz <u>dziedzinę i przeciwdziedzinę</u> tak, aby była <u>bijekcją</u>;\n",
    "* napisz <u>wzór funkcji odwrotnej</u> do tej funkcji;\n",
    "* narysuj <u>wykres</u> uzyskanej funkcji odwrotnej w <u>odpowiedniej dziedzinie</u>."
   ]
  },
  {
   "cell_type": "markdown",
   "metadata": {
    "collapsed": false,
    "jupyter": {
     "outputs_hidden": false
    }
   },
   "source": [
    "## 2.3. Granice ciągów<a class=\"anchor\" id=\"3\"></a>"
   ]
  },
  {
   "cell_type": "markdown",
   "metadata": {
    "collapsed": false,
    "jupyter": {
     "outputs_hidden": false
    }
   },
   "source": [
    "### 2.3.1. Wykres ciągu<a class=\"anchor\" id=\"3-1\"></a>"
   ]
  },
  {
   "cell_type": "markdown",
   "metadata": {
    "collapsed": false,
    "jupyter": {
     "outputs_hidden": false
    }
   },
   "source": [
    "Wykres ciągu jest <u>wykresem punktowym</u>. Możemy go narysować za pomocą funkcji **points()**.\n",
    "\n",
    "---\n",
    "\n",
    "**Przykład**\n",
    "\n",
    "Narysujemy wykresy ciągów\n",
    "\n",
    "$$\\bullet\\ a_n = e^{-n} \\quad \\quad \\bullet\\ b_n = -\\sqrt{n^2 - 2n} \\quad \\quad \\bullet\\ c_n = (-1)^n$$\n",
    "\n",
    "gdzie ciągi $(a_n)$ i $(c_n)$ są określone dla $n \\geq 1$, natomiast ciąg $(b_n)$ dla $n \\geq 2$"
   ]
  },
  {
   "cell_type": "code",
   "execution_count": null,
   "metadata": {
    "collapsed": false,
    "jupyter": {
     "outputs_hidden": false
    }
   },
   "outputs": [],
   "source": [
    "var('n')\n",
    "\n",
    "a(n) = exp(-n)\n",
    "b(n) = -sqrt(n^2 - 2*n)\n",
    "c(n) = (-1)^n"
   ]
  },
  {
   "cell_type": "markdown",
   "metadata": {
    "collapsed": false,
    "jupyter": {
     "outputs_hidden": false
    }
   },
   "source": [
    "Wykres pierwszego ciągu uzyskujemy za pomocą funkcji **points()**, do której przekazujemy <u>listę składaną</u> generującą <u>współrzędne</u> poszczególnych punktów"
   ]
  },
  {
   "cell_type": "code",
   "execution_count": null,
   "metadata": {
    "collapsed": false,
    "jupyter": {
     "outputs_hidden": false
    }
   },
   "outputs": [],
   "source": [
    "# tutaj range(1, 11) określa, że zaznaczamy wyrazy od a1 do a10\n",
    "points([(n, a(n)) for n in range(1, 11)], ymin=-0.5, ymax=0.5, legend_label='$a_n = e^{-n}$')"
   ]
  },
  {
   "cell_type": "markdown",
   "metadata": {
    "collapsed": false,
    "jupyter": {
     "outputs_hidden": false
    }
   },
   "source": [
    "Możemy uzyskać ten sam efekt za pomocą funkcji **list_plot()**, która wykorzystuje <u>słownik składany</u>"
   ]
  },
  {
   "cell_type": "code",
   "execution_count": null,
   "metadata": {
    "collapsed": false,
    "jupyter": {
     "outputs_hidden": false
    }
   },
   "outputs": [],
   "source": [
    "list_plot({n: a(n) for n in range(1, 11)}, ymin=-0.5, ymax=0.5, legend_label='$a_n = e^{-n}$')"
   ]
  },
  {
   "cell_type": "markdown",
   "metadata": {
    "collapsed": false,
    "jupyter": {
     "outputs_hidden": false
    }
   },
   "source": [
    "Drugi ciąg jest określony tylko dla $n \\geq 2$, więc należy odpowiednio <u>zmodyfikować wartości liczbowe</u> w funkcji **range()**"
   ]
  },
  {
   "cell_type": "code",
   "execution_count": null,
   "metadata": {
    "collapsed": false,
    "jupyter": {
     "outputs_hidden": false
    }
   },
   "outputs": [],
   "source": [
    "# zaznaczamy wyrazy od b2 do b12\n",
    "points([(n, b(n)) for n in range(2, 13)], size=30, color='red', legend_label='$b_n = -\\\\sqrt{n^2 - 2n}$')"
   ]
  },
  {
   "cell_type": "markdown",
   "metadata": {
    "collapsed": false,
    "jupyter": {
     "outputs_hidden": false
    }
   },
   "source": [
    "Na koniec rysujemy wykres ostatniego ciągu"
   ]
  },
  {
   "cell_type": "code",
   "execution_count": null,
   "metadata": {
    "collapsed": false,
    "jupyter": {
     "outputs_hidden": false
    }
   },
   "outputs": [],
   "source": [
    "points([(n, c(n)) for n in range(1, 21)], ymin=-1.5, ymax=1.5, color='green', size=20,\n",
    "       title='Wykres ciągu', legend_label='$c_n = (-1)^n$')"
   ]
  },
  {
   "cell_type": "markdown",
   "metadata": {
    "collapsed": false,
    "jupyter": {
     "outputs_hidden": false
    }
   },
   "source": [
    "<u>Granicę ciągu</u> rozumiemy intuicyjnie jako liczbę (lub $\\pm \\infty$), do której <u>zmierzają wyrazy ciągu przy zwiększającym się $n$</u> (przy $n$ dążącym do nieskończoności). Do&nbsp;obliczania granic ciągów wykorzystujemy funkcję **limit()**. <u>Symbol nieskończoności</u> uzyskujemy za pomocą dwóch liter \"o\" – `oo`.\n",
    "\n",
    "---\n",
    "\n",
    "Na podstawie pierwszego wykresu można wywnioskować, że wyrazy ciągu $(a_n)$ <u>zbliżają się do zera</u>, co zapisujemy jako\n",
    "\n",
    "$$\\lim\\limits_{n \\to \\infty} a_n = 0$$"
   ]
  },
  {
   "cell_type": "code",
   "execution_count": null,
   "metadata": {
    "collapsed": false,
    "jupyter": {
     "outputs_hidden": false
    }
   },
   "outputs": [],
   "source": [
    "limit(a(n), n=oo)"
   ]
  },
  {
   "cell_type": "markdown",
   "metadata": {
    "collapsed": false,
    "jupyter": {
     "outputs_hidden": false
    }
   },
   "source": [
    "Wyrazy ciągu $(b_n)$ stają się <u>coraz mniejsze</u>, więc możemy przypuszczać, że\n",
    "\n",
    "$$\\lim\\limits_{n \\to \\infty} b_n = -\\infty$$"
   ]
  },
  {
   "cell_type": "code",
   "execution_count": null,
   "metadata": {
    "collapsed": false,
    "jupyter": {
     "outputs_hidden": false
    }
   },
   "outputs": [],
   "source": [
    "limit(b(n), n=oo)"
   ]
  },
  {
   "cell_type": "markdown",
   "metadata": {
    "collapsed": false,
    "jupyter": {
     "outputs_hidden": false
    }
   },
   "source": [
    "Natomiast ciąg $(c_n)$ oscyluje pomiędzy wartościami $1$ oraz $-1$. W tej sytuacji powiemy, że <u>granica ciągu nie istnieje</u>\n",
    "\n",
    "$$\\lim\\limits_{n \\to \\infty} c_n \\text{ nie istnieje}$$"
   ]
  },
  {
   "cell_type": "code",
   "execution_count": null,
   "metadata": {
    "collapsed": false,
    "jupyter": {
     "outputs_hidden": false
    }
   },
   "outputs": [],
   "source": [
    "limit(c(n), n=oo)"
   ]
  },
  {
   "cell_type": "markdown",
   "metadata": {
    "collapsed": false,
    "jupyter": {
     "outputs_hidden": false
    }
   },
   "source": [
    "**Dygresja**:\n",
    "\n",
    "<u>Podciąg ciągu</u> $(a_n)_{n=1}^{\\infty}$ to pewien fragment tego ciągu. Oznaczamy go $a_{n_k}$. Teraz wyobraźmy sobie zbiór granic <u>wszystkich możliwych takich podciągów</u>. Oznaczamy go $G$ i formalnie definiujemy jako\n",
    "\n",
    "$$G = \\left\\{ g \\in \\overline{\\mathbb{R}} \\mid \\exists (a_{n_k}) \\colon \\lim\\limits_{k \\to \\infty} a_{n_k} = g \\right\\}$$\n",
    "\n",
    "---\n",
    "\n",
    "<u>Granica górna</u> (**Limes Superior**) ciągu to największy element tego zbioru (formalnie <u>supremum</u>). Oznaczamy ją $\\limsup\\limits_{n \\to \\infty} a_n$. Wobec tego\n",
    "\n",
    "$$\\limsup\\limits_{n \\to \\infty} a_n = \\sup G \\in \\overline{\\mathbb{R}} \\quad (= \\mathbb{R} \\cup \\{-\\infty, +\\infty\\})$$\n",
    "\n",
    "---\n",
    "\n",
    "Zatem jest to największa granica spośród wszystkich możliwych podciągów. Analogicznie (jako najmniejszą granicę) definiujemy <u>granicę dolną</u> (**Limes Inferior**) i&nbsp;oznaczamy jako $\\liminf\\limits_{n \\to \\infty} a_n$.\n",
    "\n",
    "---\n",
    "\n",
    "Dla ciągu $(c_n)$ możemy wskazać dwa <u>podciągi zbieżne</u>: pierwszy złożony z samych jedynek – jego granicą jest $1$ – oraz drugi (złożony z liczb $-1$), którego granicą jest $-1$. Stąd\n",
    "\n",
    "$$G = \\{-1, 1\\}$$\n",
    "\n",
    "---\n",
    "\n",
    "Wobec tego – mimo że granica ciągu $(c_n)$ nie istnieje – mamy\n",
    "\n",
    "$$\\limsup_{n \\to \\infty} c_n = \\sup G = \\max G = 1$$\n",
    "\n",
    "$$\\liminf_{n \\to \\infty} c_n = \\inf G = \\min G = -1$$\n",
    "\n",
    "---\n",
    "\n",
    "Co więcej, granica ciągu istnieje tylko wtedy, gdy <u>obie te granice (dolna i górna) są równe</u>.\n",
    "\n",
    "---\n",
    "\n",
    "**Przykład**\n",
    "\n",
    "Obliczymy granicę ciągu określonego dla $n \\geq 1$\n",
    "\n",
    "$$a_n = \\frac{3\\cdot 2^{2n+2} + 1}{20 \\cdot 4^{n-1} - 5}$$\n",
    "\n",
    "i zaznaczymy ją na wykresie linią przerywaną"
   ]
  },
  {
   "cell_type": "code",
   "execution_count": null,
   "metadata": {
    "collapsed": false,
    "jupyter": {
     "outputs_hidden": false
    }
   },
   "outputs": [],
   "source": [
    "a(n) = (3 * 2^(2*n+2) + 1) / (20 * 4^(n-1) - 5)"
   ]
  },
  {
   "cell_type": "markdown",
   "metadata": {
    "collapsed": false,
    "jupyter": {
     "outputs_hidden": false
    }
   },
   "source": [
    "Próbujemy wyznaczyć granicę za pomocą funkcji **limit()**. Jednak domyślny algorytm (`'maxima'`) zwraca błędny wynik"
   ]
  },
  {
   "cell_type": "code",
   "execution_count": null,
   "metadata": {
    "collapsed": false,
    "jupyter": {
     "outputs_hidden": false
    }
   },
   "outputs": [],
   "source": [
    "limit(a(n), n=oo)"
   ]
  },
  {
   "cell_type": "markdown",
   "metadata": {
    "collapsed": false,
    "jupyter": {
     "outputs_hidden": false
    }
   },
   "source": [
    "Ten przykład pokazuje, że <u>nie zawsze można ufać obliczeniom komputerowym</u>. Dobrą praktyką jest sprawdzanie wyników za pomocą <u>różnych algorytmów</u> (na&nbsp;przykład zmieniając wartość argumentu **algorithm**) lub <u>programów</u> (na przykład poprzez sprawdzenie wyniku za pomocą kalkulatora [Wolfram](https://www.wolframalpha.com/)).\n",
    "\n",
    "---\n",
    "\n",
    "Tutaj zmienimy <u>algorytm</u> wyznaczania granic, aby uzyskać właściwy wynik"
   ]
  },
  {
   "cell_type": "code",
   "execution_count": null,
   "metadata": {
    "collapsed": false,
    "jupyter": {
     "outputs_hidden": false
    }
   },
   "outputs": [],
   "source": [
    "g = limit(a(n), n=oo, algorithm='sympy')\n",
    "g"
   ]
  },
  {
   "cell_type": "markdown",
   "metadata": {
    "collapsed": false,
    "jupyter": {
     "outputs_hidden": false
    }
   },
   "source": [
    "Rysujemy <u>wykres ciągu</u> i zaznaczamy granicę na wykresie"
   ]
  },
  {
   "cell_type": "code",
   "execution_count": null,
   "metadata": {
    "collapsed": false,
    "jupyter": {
     "outputs_hidden": false
    }
   },
   "outputs": [],
   "source": [
    "ciag = points([(n, a(n)) for n in range(1, 11)], ymin=1.5, ymax=3.5, color='green', size=20, legend_label='Wykres ciągu')\n",
    "granica = plot(g, (x, 0, 10), color='red', linestyle='--', legend_label='Granica')\n",
    "\n",
    "ciag + granica"
   ]
  },
  {
   "cell_type": "markdown",
   "metadata": {
    "collapsed": false,
    "jupyter": {
     "outputs_hidden": false
    }
   },
   "source": [
    "### 2.3.2. Definicja granicy<a class=\"anchor\" id=\"3-2\"></a>"
   ]
  },
  {
   "cell_type": "markdown",
   "metadata": {
    "collapsed": false,
    "jupyter": {
     "outputs_hidden": false
    }
   },
   "source": [
    "Formalnie <u>granicę właściwą</u> ciągu liczbowego definiujemy w następujący sposób:\n",
    "\n",
    "---\n",
    "\n",
    "**Definicja**\n",
    "\n",
    "Mówimy, że ciąg $(a_n)_{n=1}^{\\infty}$ jest zbieżny do granicy $g \\in \\mathbb{R}$, jeżeli\n",
    "\n",
    "$$\\forall_{\\varepsilon > 0} \\; \\exists_{n_0 \\in \\mathbb{N}} \\; \\forall_{n \\geq n_0} \\colon |a_n - g| < \\varepsilon$$\n",
    "\n",
    "---\n",
    "\n",
    "Przeanalizujemy kolejne elementy tej definicji:\n",
    "\n",
    "1. Granica $g$ (jeżeli istnieje) jest zwykłą <u>liczbą rzeczywistą</u> – tutaj definiujemy jedynie tzw. <u>granicę właściwą</u>, czyli pomijamy przypadek $\\pm \\infty$.\n",
    "2. Wyrażenie $|a_n - g|$ oznacza <u>odległość</u> danego wyrazu ciągu <u>od granicy</u> $g$. Czyli na przykład dla $n = 20$ jest to odległość 20-stego wyrazu ciągu od granicy.\n",
    "3. Chcemy, aby dla dowolnej liczby dodatniej $\\varepsilon > 0$ zachodził warunek $|a_n - g| < \\varepsilon$. Zatem żadamy, aby odległość wyrazów ciągu od granicy była mniejsza od zadanej wartości $\\varepsilon$. Powiemy, że <u>prawie wszystkie wyrazy ciągu</u> będą się mieścić w pewnym <u>pasku epsilonowym</u>.\n",
    "4. Istotą definicji jest to, że jest ona spełniona dla <u>dowolnie małych dodatnich wartości</u> $\\varepsilon$. Wobec tego dla granicy $g$ definicja będzie spełniona niezależnie od tego jak mała będzie <u>szerokość paska</u>.\n",
    "5. Teraz wystarczy, że wskażemy <u>jedną liczbę naturalną</u> ($n_0$) taką, że dla wszystkich wartości $n$ <u>większych od niej</u> ($n \\geq n_0$) spełniony jest powyższy warunek. Czyli wystarczy, że <u>wszystkie wyrazy ciągu od pewnego momentu zmieszczą się w pasku o szerokości $\\varepsilon$</u>, gdzie $\\varepsilon$ jest dowolną ustaloną liczbą dodatnią.\n",
    "\n",
    "---\n",
    "\n",
    "Łatwiej jest zrozumieć tę definicję <u>na podstawie rysunku</u>.\n",
    "\n",
    "---\n",
    "\n",
    "**Przykład**\n",
    "\n",
    "Weźmy ciąg określony dla $n \\geq 1$\n",
    "\n",
    "$$a_n = \\left( 1 + \\frac{1}{2n+5} \\right) ^ n$$\n",
    "\n",
    "oraz ustalmy wartość $\\varepsilon = \\frac{1}{4}$.\n",
    "\n",
    "---\n",
    "\n",
    "Zaczniemy od obliczenia <u>granicy</u> tego ciągu"
   ]
  },
  {
   "cell_type": "code",
   "execution_count": null,
   "metadata": {
    "collapsed": false,
    "jupyter": {
     "outputs_hidden": false
    }
   },
   "outputs": [],
   "source": [
    "a(n) = (1 + 1/(2*n + 5))^n\n",
    "g = limit(a(n), n=oo)\n",
    "\n",
    "print('Granica ciągu jest równa:', g)"
   ]
  },
  {
   "cell_type": "markdown",
   "metadata": {
    "collapsed": false,
    "jupyter": {
     "outputs_hidden": false
    }
   },
   "source": [
    "Teraz narysujemy <u>wykres ciągu</u>, zaznaczymy <u>granicę</u> oraz <u>pasek epsilonowy</u> wokół niej"
   ]
  },
  {
   "cell_type": "code",
   "execution_count": null,
   "metadata": {
    "collapsed": false,
    "jupyter": {
     "outputs_hidden": false
    }
   },
   "outputs": [],
   "source": [
    "epsilon = 1/4\n",
    "\n",
    "ciag = points([(n, a(n)) for n in range(1, 21)], ymin=1, ymax=2, color='blue', size=10, legend_label='Ciąg', zorder=3)\n",
    "granica = plot(g, (x, 0, 20), color='green', linestyle='--', legend_label='Granica', zorder=2)\n",
    "pasek = region_plot([y > g-epsilon, y < g+epsilon], (x, 0, 20), (y, -1, 3), incol='pink', zorder=1)\n",
    "\n",
    "# możemy tutaj ustalić argumenty dla końcowego rysunku, aspect_ratio określa stosunek jednostek na osiach\n",
    "show(ciag + granica + pasek, aspect_ratio=5, figsize=10)"
   ]
  },
  {
   "cell_type": "markdown",
   "metadata": {
    "collapsed": false,
    "jupyter": {
     "outputs_hidden": false
    }
   },
   "source": [
    "Teraz zwróćmy uwagę na punkt zaznaczony <u>czerwonym</u> kolorem. Od tego punktu włącznie wszystkie wyrazy ciągu znajdują się <u>wewnątrz paska</u> o szerokości $\\varepsilon$"
   ]
  },
  {
   "cell_type": "code",
   "execution_count": null,
   "metadata": {
    "collapsed": false,
    "jupyter": {
     "outputs_hidden": false
    }
   },
   "outputs": [],
   "source": [
    "n0 = 6\n",
    "punkt = point((n0, a(n0)), color='red', size=10, zorder=4)\n",
    "\n",
    "show(ciag + granica + pasek + punkt, aspect_ratio=5, figsize=10)"
   ]
  },
  {
   "cell_type": "markdown",
   "metadata": {
    "collapsed": false,
    "jupyter": {
     "outputs_hidden": false
    }
   },
   "source": [
    "Wobec tego dla $\\varepsilon = \\frac{1}{4}$ najmniejszą wartością $n_0$ jest liczba 6 – wszystkie wyrazy ciągu spełniające warunek $n \\geq 6$ mieszczą się w pasku o szerokości $\\varepsilon$. Możemy to jeszcze <u>sprawdzić numerycznie</u>"
   ]
  },
  {
   "cell_type": "code",
   "execution_count": null,
   "metadata": {
    "collapsed": false,
    "jupyter": {
     "outputs_hidden": false
    }
   },
   "outputs": [],
   "source": [
    "abs(a(n0) - g).n()"
   ]
  },
  {
   "cell_type": "markdown",
   "metadata": {
    "collapsed": false,
    "jupyter": {
     "outputs_hidden": false
    }
   },
   "source": [
    "Jest to odległość <u>czerwonego</u> punktu od <u>zielonej</u> linii. Jest ona mniejsza niż $\\varepsilon = 0.25$. Zatem w tym wypadku wystarczy wziąć $n_0 = 6$ i wtedy definicja granicy dla&nbsp;$g = \\sqrt{e}$ będzie spełniona. Tutaj <u>zmiana wartości $\\varepsilon > 0$ wpłynie na zmianę wartości $n_0 \\in \\mathbb{N}$</u> (kwantyfikator $\\exists_{n_0}$ znajduje się po kwantyfikatorze $\\forall_{\\varepsilon}$ stąd $n_0$ <u>może zależeć</u> od $\\varepsilon$). Zmniejszenie wartości $\\varepsilon$ spowoduje <u>zwężenie paska</u>, a zatem $n_0$ przesunie się w prawą stronę – ale nadal będzie istnieć."
   ]
  },
  {
   "cell_type": "markdown",
   "metadata": {
    "collapsed": false,
    "jupyter": {
     "outputs_hidden": false
    }
   },
   "source": [
    "**Zadanie 2.3**\n",
    "\n",
    "a) Ciąg określony dla $n \\geq 4$ dany jest następującym wzorem!\n",
    "\n",
    "$$a_n = n - \\sqrt{n^2 - 4n}$$\n",
    "\n",
    "* <u>oblicz granicę</u> tego ciągu;\n",
    "* narysuj <u>wykres ciągu</u> $a_n$ (przynajmniej <u>20 wyrazów</u>);\n",
    "* <u>zaznacz granicę</u> ciągu linią przerywaną.\n",
    "\n",
    "---\n",
    "\n",
    "b) Dany jest ciąg $(a_n)_{n=1}^{\\infty}$!\n",
    "\n",
    "$$a_n = \\left( 1 - \\frac{1}{2n+3} \\right) ^{2n}$$\n",
    "\n",
    "* <u>oblicz granicę</u> tego ciągu;\n",
    "* na podstawie wykresu <u>znajdź najmniejszą liczbę</u> $n_0$ spełniającą <u>definicję granicy</u> ciągu dla $\\varepsilon = \\frac{1}{20}$;\n",
    "* <u>sprawdź uzyskany wynik</u> za pomocą odpowiednich obliczeń."
   ]
  },
  {
   "cell_type": "markdown",
   "metadata": {
    "collapsed": false,
    "jupyter": {
     "outputs_hidden": false
    }
   },
   "source": [
    "## 2.4. Macierze rysunków<a class=\"anchor\" id=\"4\"></a>"
   ]
  },
  {
   "cell_type": "markdown",
   "metadata": {
    "collapsed": false,
    "jupyter": {
     "outputs_hidden": false
    }
   },
   "source": [
    "### 2.4.1. Wykres funkcji nieciągłej<a class=\"anchor\" id=\"4-1\"></a>"
   ]
  },
  {
   "cell_type": "markdown",
   "metadata": {
    "collapsed": false,
    "jupyter": {
     "outputs_hidden": false
    }
   },
   "source": [
    "Przeanalizujemy parę przykładów bardziej skomplikowanych rysunków:\n",
    "\n",
    "1. <u>Kolejność wykresów</u>\n",
    "\n",
    "Przypomnijmy, że <u>kolejność wykresów</u> ustalamy, korzystając z argumentu **zorder**. Większa wartość oznacza, że wykres będzie <u>bardziej z przodu</u>"
   ]
  },
  {
   "cell_type": "code",
   "execution_count": null,
   "metadata": {
    "collapsed": false,
    "jupyter": {
     "outputs_hidden": false
    }
   },
   "outputs": [],
   "source": [
    "p1 = plot(x^2, color='blue', zorder=1)                       # wykres znajdzie się za pozostałymi figurami\n",
    "p2 = point((1/2, 1/4), color='red', size=40, zorder=2)       # punkt będzie nad pierwszym wykresem\n",
    "p3 = point((1/2, 0), color='orange', size=40, zorder=3)      # punkt będzie pod drugim wykresem\n",
    "p4 = plot(-x^2 + 1/4, color='green', thickness=3, zorder=4)  # wykres znajdzie się przed wszystkimi figurami\n",
    "\n",
    "p1 + p2 + p3 + p4"
   ]
  },
  {
   "cell_type": "markdown",
   "metadata": {
    "collapsed": false,
    "jupyter": {
     "outputs_hidden": false
    }
   },
   "source": [
    "2. <u>Wykres funkcji nieciągłej</u>\n",
    "\n",
    "Powiemy, że funkcja jest <u>nieciągła w punkcie</u>, gdy jej wykres w tym punkcie \"przerywa się\" – czyli nie moglibyśmy jej narysować bez odrywania ołówka od papieru.\n",
    "\n",
    "---\n",
    "\n",
    "**Przykład**\n",
    "\n",
    "Narysujemy wykres funkcji\n",
    "\n",
    "$$ f(x) = \\left\\{ \\begin{array}{ll} - x - 3 & \\text{dla} \\ \\ x < -1 \\\\\n",
    "                                                 x^2 - 2x - 4 & \\text{dla} \\ \\ x \\geq -1 \\end{array} \\right. $$\n",
    "\n",
    "w przedziale $[-4, 4]$"
   ]
  },
  {
   "cell_type": "code",
   "execution_count": null,
   "metadata": {
    "collapsed": false,
    "jupyter": {
     "outputs_hidden": false
    }
   },
   "outputs": [],
   "source": [
    "f(x) = -x - 3\n",
    "g(x) = x^2 - 2*x - 4\n",
    "\n",
    "# wykres funkcji liniowej po lewej stronie\n",
    "p1 = plot(f, (x, -4, -1), title='Funkcja nieciągła w punkcie $x=-1$', zorder=1)\n",
    "# punkt reprezentujący kółko otwarte po lewej stronie\n",
    "p2 = point((-1, -2), color='white', markeredgecolor='blue', size=30, zorder=2)\n",
    "# punkt reprezentujący zamalowane kółko po prawej stronie\n",
    "p3 = point((-1, -1), color='blue', size=30, zorder=2)\n",
    "# wykres funkcji kwadratowej po prawej stronie\n",
    "p4 = plot(g, (x, -1, 4), zorder=1)\n",
    "\n",
    "p1 + p2 + p3 + p4"
   ]
  },
  {
   "cell_type": "markdown",
   "metadata": {
    "collapsed": false,
    "jupyter": {
     "outputs_hidden": false
    }
   },
   "source": [
    "3. <u>Macierz rysunków</u>\n",
    "\n",
    "Wykresy funkcji możemy umieścić w <u>macierzy</u>, korzystając z funkcji **graphics_array()**.\n",
    "\n",
    "---\n",
    "\n",
    "**Przykład**\n",
    "\n",
    "Narysujemy zestawienie czterech <u>funkcji trygonometrycznych</u>"
   ]
  },
  {
   "cell_type": "code",
   "execution_count": null,
   "metadata": {
    "collapsed": false,
    "jupyter": {
     "outputs_hidden": false
    }
   },
   "outputs": [],
   "source": [
    "# wykresy poszczególnych funkcji trygonometrycznych\n",
    "p1 = plot(sin(x), (x, -pi, pi), color='blue', title='$y = \\\\sin x$')\n",
    "p2 = plot(cos(x), (x, -pi, pi), color='red', title='$y = \\\\cos x$')\n",
    "p3 = plot(tan(x), (x, -pi, pi), color='green', detect_poles=True, title='$y = \\\\operatorname{tg} x$')\n",
    "p4 = plot(cot(x), (x, -pi, pi), color='orange', detect_poles=True, title='$y = \\\\operatorname{ctg} x$')\n",
    "\n",
    "# macierz rysunków\n",
    "grid = graphics_array([[p1, p2], [p3, p4]])\n",
    "show(grid, ymin=-2, ymax=2, frame=True, gridlines=True)"
   ]
  },
  {
   "cell_type": "markdown",
   "metadata": {
    "collapsed": false,
    "jupyter": {
     "outputs_hidden": false
    }
   },
   "source": [
    "### 2.4.2. Funkcje elementarne<a class=\"anchor\" id=\"4-2\"></a>"
   ]
  },
  {
   "cell_type": "markdown",
   "metadata": {
    "collapsed": false,
    "jupyter": {
     "outputs_hidden": false
    }
   },
   "source": [
    "<u>Funkcje elementarne</u> to funkcje, które powstają poprzez łączenie <u>skończonej liczby</u> podstawowych operacji algebraicznych, wykładniczych, logarytmicznych i&nbsp;trygonometrycznych.\n",
    "\n",
    "---\n",
    "\n",
    "Wyróżniamy tutaj pewne ich <u>klasy</u> – czyli <u>zbiory funkcji</u> posiadające <u>wspólne cechy i własności</u>:\n",
    "\n",
    "1. <u>Funkcje wielomianowe</u>\n",
    "\n",
    "Są postaci $y = W(x)$, gdzie $W$ jest pewnym <u>wielomianem</u>. Stosujemy zapis\n",
    "\n",
    "$$W \\colon \\mathbb{R} \\ni x \\mapsto a_n x^n + a_{n-1} x^{n-1} + \\cdots + a_1 x + a_0 \\in \\mathbb{R}$$\n",
    "\n",
    "Oznacza to, że funkcja o <u>nazwie</u> $W$ ma <u>dziedzinę</u> będącą zbiorem liczb rzeczywistych ($X = \\mathbb{R}$) i każdemu <u>argumentowi</u> $x$ z dziedziny <u>przyporządkowuje</u> pewną <u>wartość</u> określoną za pomocą wzoru występującego po strzałce. Wartość ta też należy do zbioru liczb rzeczywistych – jest to tzw. <u>przeciwdziedzina</u> (tutaj $Y = \\mathbb{R}$). To&nbsp;nie jest to samo co <u>zbiór wartości</u> – lecz jedynie <u>maksymalny zbiór wartości wyjściowych</u> dla funkcji z danej klasy.\n",
    "\n",
    "---\n",
    "\n",
    "Można również zastosować krótszy zapis, który określa jedynie <u>dziedzinę i przeciwdziedzinę</u>\n",
    "\n",
    "$$W \\colon \\mathbb{R} \\to \\mathbb{R}$$\n",
    "\n",
    "$$W(x) = a_n x^n + a_{n-1} x^{n-1} + \\cdots + a_1 x + a_0$$\n",
    "\n",
    "---\n",
    "\n",
    "W klasie funkcji wielomianowych wyróżniamy dwie ważne <u>podklasy</u> – funkcje liniowe i kwadratowe. <u>Funkcja liniowa</u> jest postaci\n",
    "\n",
    "$$y = ax + b$$\n",
    "\n",
    "gdzie $a$ to <u>współczynnik kierunkowy</u>, natomiast $b$ to <u>wyraz wolny</u>"
   ]
  },
  {
   "cell_type": "code",
   "execution_count": null,
   "metadata": {
    "collapsed": false,
    "jupyter": {
     "outputs_hidden": false
    }
   },
   "outputs": [],
   "source": [
    "p1 = plot(-1/2*x, (x, -2, 2), color='red', title='Funkcja malejąca ($a < 0$)', legend_label='$y = -\\\\dfrac{1}{2}x + 1$')\n",
    "p2 = plot(1, (x, -2, 2), color='blue', title='Funkcja stała ($a = 0$)', legend_label='$y = 1$')\n",
    "p3 = plot(x - 1, (x, -2, 2), color='green', title='Funkcja rosnąca ($a > 0$)', legend_label='$y = x - 1$')\n",
    "\n",
    "grid = graphics_array([[p1, p2, p3]])\n",
    "show(grid, ymin=-3, ymax=3, frame=True, aspect_ratio=0.5, figsize=12)"
   ]
  },
  {
   "cell_type": "markdown",
   "metadata": {
    "collapsed": false,
    "jupyter": {
     "outputs_hidden": false
    }
   },
   "source": [
    "<u>Funkcja kwadratowa</u> jest postaci\n",
    "\n",
    "$$y = ax^2 + bx + c$$\n",
    "\n",
    "gdzie $a \\neq 0$.\n",
    "\n",
    "---\n",
    "\n",
    "Wykresem funkcji kwadratowej jest <u>parabola</u>. <u>Wyróżnik</u>\n",
    "\n",
    "$$\\Delta = b^2 - 4ac$$\n",
    "\n",
    "określa liczbę <u>miejsc zerowych</u> funkcji kwadratowej"
   ]
  },
  {
   "cell_type": "code",
   "execution_count": null,
   "metadata": {
    "collapsed": false,
    "jupyter": {
     "outputs_hidden": false
    }
   },
   "outputs": [],
   "source": [
    "r1 = plot(1/2*x^2 + 1, (x, -2, 2), title='$a > 0$, $\\\\Delta < 0$', legend_label='$y = \\\\dfrac{1}{2}x^2 + 1$')\n",
    "r2 = plot(1/2*x^2, (x, -2, 2), title='$a > 0$, $\\\\Delta = 0$', legend_label='$y = \\\\dfrac{1}{2}x^2$')\n",
    "r3 = plot(1/2*x^2 - 1, (x, -2, 2), title='$a > 0$, $\\\\Delta > 0$', legend_label='$y = \\\\dfrac{1}{2}x^2 - 1$')\n",
    "r4 = plot(-1/2*x^2 - 1, (x, -2, 2), title='$a < 0$, $\\\\Delta < 0$', legend_label='$y = -\\\\dfrac{1}{2}x^2 - 1$')\n",
    "r5 = plot(-1/2*x^2, (x, -2, 2), title='$a < 0$, $\\\\Delta = 0$', legend_label='$y = -\\\\dfrac{1}{2}x^2$')\n",
    "r6 = plot(-1/2*x^2 + 1, (x, -2, 2), title='$a < 0$, $\\\\Delta > 0$', legend_label='$y = -\\\\dfrac{1}{2}x^2 + 1$')\n",
    "\n",
    "grid = graphics_array([[r1, r2, r3], [r4, r5, r6]])\n",
    "show(grid, ymin=-2, ymax=2, frame=True, gridlines=True, aspect_ratio=0.5, figsize=[11, 5])"
   ]
  },
  {
   "cell_type": "markdown",
   "metadata": {
    "collapsed": false,
    "jupyter": {
     "outputs_hidden": false
    }
   },
   "source": [
    "Warto również znać kształt funkcji postaci $y = x^{2n}$ (wykładnik jest liczbą <u>parzystą</u>) oraz $y = x^{2n+1}$ (wykładnik jest liczbą <u>nieparzystą</u>)"
   ]
  },
  {
   "cell_type": "code",
   "execution_count": null,
   "metadata": {
    "collapsed": false,
    "jupyter": {
     "outputs_hidden": false
    }
   },
   "outputs": [],
   "source": [
    "p1 = plot([x^n for n in range(2, 9, 2)], legend_label='automatic')\n",
    "p2 = plot([x^n for n in range(1, 9, 2)], legend_label='automatic')\n",
    "\n",
    "grid = graphics_array([[p1, p2]])\n",
    "show(grid, ymin=-1, ymax=1, frame=True, gridlines=True, aspect_ratio=0.5, figsize=12)"
   ]
  },
  {
   "cell_type": "markdown",
   "metadata": {
    "collapsed": false,
    "jupyter": {
     "outputs_hidden": false
    }
   },
   "source": [
    "2. <u>Funkcje wymierne</u>\n",
    "\n",
    "Można je przedstawić ogólnie jako $y = \\frac{P(x)}{Q(x)}$, gdzie $P$ i $Q$ to <u>wielomiany</u>. Warto zwrócić uwagę na tzw. <u>funkcje homograficzne</u>, czyli funkcje wymierne postaci\n",
    "\n",
    "$$y = \\frac{ax+b}{cx+d}$$\n",
    "\n",
    "gdzie $ad - bc \\neq 0$.\n",
    "\n",
    "---\n",
    "\n",
    "Funkcję homograficzną można przekształcić do <u>postaci kanonicznej</u>\n",
    "\n",
    "$$y = \\frac{a}{x-p} + q$$\n",
    "\n",
    "---\n",
    "\n",
    "Proces sprowadzania do postaci kanonicznej przebiega następująco:\n",
    "\n",
    "* wstawiamy wyrażenie w mianowniku <u>zamiast zmiennej w liczniku</u>\n",
    "* <u>uzupełniamy licznik</u> tak, aby otrzymać początkowe wyrażenie\n",
    "* uzyskany w ten sposób ułamek <u>rozdzielamy na dwa ułamki</u>\n",
    "\n",
    "---\n",
    "\n",
    "**Przykład**\n",
    "\n",
    "$$y = \\frac{2x + 1}{x - 1} = \\frac{2(x-1) + 3}{x - 1} = \\frac{3}{x - 1} + 2$$\n",
    "\n",
    "---\n",
    "\n",
    "Z postaci kanonicznej można odczytać <u>równania asymptot</u>. Są to proste, do których wykres funkcji <u>zbliża się w nieskończoności</u>. Funkcja homograficzna ma <u>asymptotę pionową</u> $x=p$ oraz <u>asymptotę poziomą</u> $y = q$. W naszym przykładzie są to proste $x = 1$ oraz $y = 2$"
   ]
  },
  {
   "cell_type": "code",
   "execution_count": null,
   "metadata": {
    "collapsed": false,
    "jupyter": {
     "outputs_hidden": false
    }
   },
   "outputs": [],
   "source": [
    "funkcja = plot((2*x+1)/(x-1), (x, -6, 6), ymin=-10, ymax=10, detect_poles=True,\n",
    "               title='Wykres funkcji homograficznej', legend_label='Wykres funkcji $y = \\\\dfrac{2x+1}{x-1}$')\n",
    "asymptota_pionowa = line([(1, -11), (1, 11)], color='red', linestyle='--', legend_label='Asymptota pionowa $x = 1$')\n",
    "asymptota_pozioma = plot(2, (x, -6, 6), color='green', linestyle='--', legend_label='Asymptota pozioma $y = 2$')\n",
    "\n",
    "funkcja + asymptota_pionowa + asymptota_pozioma"
   ]
  },
  {
   "cell_type": "markdown",
   "metadata": {
    "collapsed": false,
    "jupyter": {
     "outputs_hidden": false
    }
   },
   "source": [
    "Wykresem funkcji $y = \\frac{a}{x - p} + q$ jest <u>hiperbola</u>. Tzw. <u>gałęzie hiperboli</u> znajdują się:\n",
    "\n",
    "* dla $a > 0$ w <u>I i III</u> ćwiartce\n",
    "* dla $a < 0$ w <u>II i IV</u> ćwiartce\n",
    "\n",
    "w układzie utworzonym <u>przez asymptoty</u>"
   ]
  },
  {
   "cell_type": "code",
   "execution_count": null,
   "metadata": {
    "collapsed": false,
    "jupyter": {
     "outputs_hidden": false
    }
   },
   "outputs": [],
   "source": [
    "p1 = plot(1/x, (x, -3, 3), detect_poles=True, title='Funkcja homograficzna dla $a > 0$', legend_label='$y = \\\\dfrac{1}{x}$')\n",
    "p2 = plot(-1/x, (x, -3, 3), detect_poles=True, title='Funkcja homograficzna dla $a < 0$', legend_label='$y = \\\\dfrac{-1}{x}$')\n",
    "\n",
    "grid = graphics_array([[p1, p2]])\n",
    "show(grid, ymin=-5, ymax=5, frame=True, gridlines=True, aspect_ratio=0.5, figsize=10)"
   ]
  },
  {
   "cell_type": "markdown",
   "metadata": {
    "collapsed": false,
    "jupyter": {
     "outputs_hidden": false
    }
   },
   "source": [
    "3. <u>Funkcje niewymierne</u>\n",
    "\n",
    "Są to funkcje zawierające <u>pierwiastki</u>.\n",
    "\n",
    "---\n",
    "\n",
    "**Przykład**\n",
    "\n",
    "Narysujemy wykresy dwóch funkcji reprezentujących tę klasę\n",
    "\n",
    "$$f \\colon [0, +\\infty) \\to \\mathbb{R}$$\n",
    "\n",
    "$$f(x) = \\sqrt{x}$$\n",
    "\n",
    "oraz\n",
    "\n",
    "$$f \\colon \\mathbb{R} \\to \\mathbb{R}$$\n",
    "\n",
    "$$f(x) = \\sqrt[3]{x}$$"
   ]
  },
  {
   "cell_type": "code",
   "execution_count": null,
   "metadata": {
    "collapsed": false,
    "jupyter": {
     "outputs_hidden": false
    }
   },
   "outputs": [],
   "source": [
    "r1 = plot(sqrt(x), (x, 0, 20), title='Wykres funkcji $y = \\\\sqrt{x}$')\n",
    "r2 = plot(real_nth_root(x, 3), (x, -10, 10), title='Wykres funkcji $y = \\\\sqrt[3]{x}$')\n",
    "\n",
    "grid = graphics_array([[r1, r2]])\n",
    "show(grid, ymin=-2.5, ymax=4.5, frame=True, gridlines=True, aspect_ratio=2, figsize=12)"
   ]
  },
  {
   "cell_type": "markdown",
   "metadata": {
    "collapsed": false,
    "jupyter": {
     "outputs_hidden": false
    }
   },
   "source": [
    "4. <u>Funkcje wykładnicze</u>\n",
    "\n",
    "Są postaci $y = a^x$, gdzie $a > 0$ oraz $a \\neq 1$:\n",
    "\n",
    "* <u>dziedziną funkcji</u> jest zbiór $\\mathbb{R}$\n",
    "* <u>zbiór wartości</u> to $(0, +\\infty)$\n",
    "* wykres ma <u>asymptotę poziomą</u> $y = 0$"
   ]
  },
  {
   "cell_type": "code",
   "execution_count": null,
   "metadata": {
    "collapsed": false,
    "jupyter": {
     "outputs_hidden": false
    }
   },
   "outputs": [],
   "source": [
    "p1 = plot((1/3)^x, (x, -3, 3), color='red', title='Funkcja wykładnicza jest malejąca, gdy $a \\\\in (0, 1)$',\n",
    "                                            legend_label='$y = \\\\left(\\\\dfrac{1}{3}\\\\right)^x$')\n",
    "p2 = plot(exp(x), (x, -3, 3), color='green', title='Funkcja wykładnicza jest rosnąca, gdy $a > 1$', legend_label='$y = e^x$')\n",
    "\n",
    "grid = graphics_array([[p1, p2]])\n",
    "show(grid, ymin=-1, ymax=27, frame=True, gridlines=True, aspect_ratio=0.2, figsize=10)"
   ]
  },
  {
   "cell_type": "markdown",
   "metadata": {
    "collapsed": false,
    "jupyter": {
     "outputs_hidden": false
    }
   },
   "source": [
    "5. <u>Funkcje logarytmiczne</u>\n",
    "\n",
    "Są postaci $y = \\log_a x$, gdzie $a > 0$ oraz $a \\neq 1$:\n",
    "\n",
    "* <u>dziedziną</u> jest zbiór $(0, +\\infty)$\n",
    "* <u>zbiór wartości</u> to $\\mathbb{R}$\n",
    "* wykres ma <u>asymptotę pionową</u> $x = 0$"
   ]
  },
  {
   "cell_type": "code",
   "execution_count": null,
   "metadata": {
    "collapsed": false,
    "jupyter": {
     "outputs_hidden": false
    }
   },
   "outputs": [],
   "source": [
    "p1 = plot(log(x, 1/3), (x, 0, 27), color='red', title='Funkcja logarytmiczna jest malejąca, gdy $a \\\\in (0, 1)$',\n",
    "                                                legend_label='$y = \\\\log_{1/3} x$')\n",
    "p2 = plot(log(x), (x, 0, 27), color='green', title='Funkcja logarytmiczna jest rosnąca, gdy $a > 1$',\n",
    "                                             legend_label='$y = \\\\ln x$')\n",
    "\n",
    "grid = graphics_array([[p1, p2]])\n",
    "show(grid, ymin=-4, ymax=4, frame=True, gridlines=True, aspect_ratio=2, figsize=10)"
   ]
  },
  {
   "cell_type": "markdown",
   "metadata": {
    "collapsed": false,
    "jupyter": {
     "outputs_hidden": false
    }
   },
   "source": [
    "Gdy weźmiemy funkcję wykładniczą o danej podstawie $a$ (czyli $y = a^x$), wówczas funkcja logarytmiczna o <u>tej samej podstawie</u> $a$ (czyli $y = \\log_a x$) jest funkcją do niej <u>odwrotną</u>. Możemy zaobserwować, że wykresy obu funkcji są <u>symetryczne</u> względem prostej $y = x$"
   ]
  },
  {
   "cell_type": "code",
   "execution_count": null,
   "metadata": {
    "collapsed": false,
    "jupyter": {
     "outputs_hidden": false
    }
   },
   "outputs": [],
   "source": [
    "wykladnicza = plot(exp(x), (x, -4, 2), color='green', legend_label='$y = e^x$',\n",
    "                   title='Funkcja logarytmiczna jest funkcją odwrotną do funkcji wykładniczej o tej samej podstawie')\n",
    "prosta = plot(x, (x, -4, 4), color='blue', linestyle='--', legend_label='$y = x$')\n",
    "logarytmiczna = plot(log(x), (x, 0, 4), color='red', legend_label='$y = \\\\ln x$')\n",
    "\n",
    "show(wykladnicza + prosta + logarytmiczna, ymin=-4, ymax=4, aspect_ratio=1, figsize=10)"
   ]
  },
  {
   "cell_type": "markdown",
   "metadata": {
    "collapsed": false,
    "jupyter": {
     "outputs_hidden": false
    }
   },
   "source": [
    "6. <u>Funkcje trygonometryczne</u>\n",
    "\n",
    "Poniżej przedstawione jest zestawienie wszystkich sześciu <u>funkcji trygonometrycznych</u>"
   ]
  },
  {
   "cell_type": "code",
   "execution_count": null,
   "metadata": {
    "collapsed": false,
    "jupyter": {
     "outputs_hidden": false
    }
   },
   "outputs": [],
   "source": [
    "p1 = plot(sin(x), (x, -pi, pi), color='blue', title='$y = \\\\sin x$')\n",
    "p2 = plot(cos(x), (x, -pi, pi), color='red', title='$y = \\\\cos x$')\n",
    "p3 = plot(tan(x), (x, -pi, pi), color='green', detect_poles=True, title='$y = \\\\operatorname{tg} x$')\n",
    "p4 = plot(cot(x), (x, -pi, pi), color='orange', detect_poles=True, title='$y = \\\\operatorname{ctg} x$')\n",
    "p5 = plot(sec(x), (x, -pi, pi), color='olive', detect_poles=True, title='$y = \\\\sec x$')\n",
    "p6 = plot(csc(x), (x, -pi, pi), color='black', detect_poles=True, title='$y = \\\\operatorname{cosec} x$')\n",
    "\n",
    "grid = graphics_array([[p1, p2, p3], [p4, p5, p6]])\n",
    "show(grid, ymin=-2, ymax=2, frame=True, gridlines=True, figsize=[10, 6])"
   ]
  },
  {
   "cell_type": "markdown",
   "metadata": {
    "collapsed": false,
    "jupyter": {
     "outputs_hidden": false
    }
   },
   "source": [
    "7. <u>Funkcje cyklometryczne</u>\n",
    "\n",
    "Są to funkcje odwrotne do <u>odpowiednio zawężonych</u> funkcji trygonometrycznych:\n",
    "\n",
    "$$\\arcsin \\colon [-1, 1] \\ni x \\mapsto \\arcsin x \\in \\left[ -\\frac{\\pi}{2}, \\frac{\\pi}{2} \\right]$$\n",
    "\n",
    "$$\\arccos \\colon [-1, 1] \\ni x \\mapsto \\arccos x \\in [0, \\pi]$$\n",
    "\n",
    "$$\\operatorname{arctg} \\colon \\mathbb{R} \\ni x \\mapsto \\operatorname{arctg} x \\in \\left(-\\frac{\\pi}{2}, \\frac{\\pi}{2} \\right)$$\n",
    "\n",
    "$$\\operatorname{arcctg} \\colon \\mathbb{R} \\ni x \\mapsto \\operatorname{arcctg} x \\in (0, \\pi)$$\n",
    "\n",
    "---\n",
    "\n",
    "Wykres funkcji $y = \\operatorname{arcctg} x$ rysujemy inaczej, ponieważ w **Sage** różni się on od powyższej definicji. Argument **tick_formatter** pozwala określić <u>etykiety osi</u>, które zostaną wyświetlone na wykresie"
   ]
  },
  {
   "cell_type": "code",
   "execution_count": null,
   "metadata": {
    "collapsed": false,
    "jupyter": {
     "outputs_hidden": false
    }
   },
   "outputs": [],
   "source": [
    "p1 = plot(arcsin(x), ymin=-2, ymax=2, color='blue', ticks=[[-1, 0, 1], [-pi/2, pi/2]],\n",
    "          tick_formatter=[None, pi], title='$y = \\\\arcsin x$')\n",
    "p2 = plot(arccos(x), ymin=-0.5, ymax=3.5, color='orange', ticks=[[-1, 0, 1], [0, pi]],\n",
    "          tick_formatter=[None, pi], title='$y = \\\\arccos x$')\n",
    "p3 = plot(arctan(x), (x, -6, 6), ymin=-2, ymax=2, color='green',\n",
    "          ticks=[None, [-pi/2, pi/2]], tick_formatter=[None, pi], title='$y = \\\\operatorname{arctg} x$')\n",
    "p4 = plot(arccot(x) + pi, (x, -6, -0.001), ymin=-0.5, ymax=3.5, color='red', title='$y = \\\\operatorname{arcctg} x$')\n",
    "p4 += plot(arccot(x), (x, 0, 6), color='red', ticks=[None, [0, pi]], tick_formatter=[None, pi])\n",
    "\n",
    "grid = graphics_array([[p1, p2], [p3, p4]])\n",
    "show(grid, frame=True, gridlines=True, figsize=[10, 6])"
   ]
  },
  {
   "cell_type": "markdown",
   "metadata": {
    "collapsed": false,
    "jupyter": {
     "outputs_hidden": false
    }
   },
   "source": [
    "8. <u>Funkcje hiperboliczne</u>\n",
    "\n",
    "Definiujemy je w następujący sposób:\n",
    "\n",
    "* <u>sinus hiperboliczny</u>\n",
    "\n",
    "$$y = \\sinh x := \\frac{e^x - e^{-x}}{2}$$\n",
    "\n",
    "* <u>cosinus hiperboliczny</u>\n",
    "\n",
    "$$y = \\cosh x := \\frac{e^x + e^{-x}}{2}$$\n",
    "\n",
    "* <u>tangens hiperboliczny</u>\n",
    "\n",
    "$$y = \\operatorname{tgh} x := \\frac{\\sinh x}{\\cosh x} = \\frac{e^x - e^{-x}}{e^x + e^{-x}}$$\n",
    "\n",
    "---\n",
    "\n",
    "Możemy je uzyskać w **Sage** za pomocą funkcji odpowiednio: **sinh()**, **cosh()** oraz **tanh()**"
   ]
  },
  {
   "cell_type": "code",
   "execution_count": null,
   "metadata": {
    "collapsed": false,
    "jupyter": {
     "outputs_hidden": false
    }
   },
   "outputs": [],
   "source": [
    "plot([sinh(x), cosh(x), tanh(x)], (x, -2, 2), color=['red', 'green', 'blue'], title='Funkcje hiperboliczne',\n",
    "     legend_label=['$y = \\\\sinh x$', '$y = \\\\cosh x$', '$y = \\\\operatorname{tgh} x$'])"
   ]
  },
  {
   "cell_type": "markdown",
   "metadata": {
    "collapsed": false,
    "jupyter": {
     "outputs_hidden": false
    }
   },
   "source": [
    "**Zadanie 2.4**\n",
    "\n",
    "a) Dana jest funkcja!\n",
    "\n",
    "$$f(x) = \\left\\{ \\begin{array}{ll} \\frac{x^3 + 3x^2 + 2x}{|x+2|} & \\text{dla} \\ \\ x \\neq -2 \\\\\n",
    "                                                -2 & \\text{dla} \\ \\ x = -2 \\end{array} \\right.$$\n",
    "\n",
    "Narysuj <u>wykres tej funkcji</u>. Zaznacz w odpowiedni sposób wartość przyjmowaną w <u>punkcie nieciągłości</u>.\n",
    "\n",
    "**Wskazówka**:\n",
    "\n",
    "Można zdefiniować funkcję $f$, a następnie za pomocą funkcji **plot()** podzielić jej <u>dziedzinę na 2 fragmenty</u>!\n",
    "\n",
    "```\n",
    "f(x) = ...\n",
    "plot(f, (x, -4, -2)) + plot(f, (x, -2, 2))\n",
    "```\n",
    "\n",
    "---\n",
    "\n",
    "b) Na jednym rysunku przedstaw <u>macierz 2x3</u> wykresów funkcji! Dokładniej:\n",
    "\n",
    "* na osobnych wykresach umieść funkcje należące do <u>sześciu różnych klas funkcji elementarnych</u>;\n",
    "* wykresy narysuj <u>różnymi kolorami</u>;\n",
    "* dodaj <u>tytuły wykresów</u> i <u>linie siatki</u>."
   ]
  },
  {
   "cell_type": "markdown",
   "metadata": {
    "collapsed": false,
    "jupyter": {
     "outputs_hidden": false
    }
   },
   "source": [
    "## 2.5. Granice funkcji<a class=\"anchor\" id=\"5\"></a>"
   ]
  },
  {
   "cell_type": "markdown",
   "metadata": {
    "collapsed": false,
    "jupyter": {
     "outputs_hidden": false
    }
   },
   "source": [
    "### 2.5.1. Granica w punkcie<a class=\"anchor\" id=\"5-1\"></a>"
   ]
  },
  {
   "cell_type": "markdown",
   "metadata": {
    "collapsed": false,
    "jupyter": {
     "outputs_hidden": false
    }
   },
   "source": [
    "Granicę funkcji <u>w nieskończoności</u> rozumiemy tak samo jak granicę ciągu. Przy czym tutaj $x$ może dążyć zarówno do <u>minus</u>, jak i <u>plus</u> nieskończoności. Granicę&nbsp;funkcji $f$ w nieskończoności oznaczamy jako $\\lim\\limits_{x \\to -\\infty} f(x)$ (przy $x$ dążącym do $-\\infty$) lub $\\lim\\limits_{x \\to +\\infty} f(x)$ (przy $x \\to +\\infty$).\n",
    "\n",
    "---\n",
    "\n",
    "**Przykład**\n",
    "\n",
    "Policzymy granice dla funkcji\n",
    "\n",
    "$$f(x) = \\operatorname{arctg} x \\quad \\quad \\text{oraz} \\quad \\quad g(x) = \\frac{x^3 + 1}{1 - x^2}$$"
   ]
  },
  {
   "cell_type": "code",
   "execution_count": null,
   "metadata": {
    "collapsed": false,
    "jupyter": {
     "outputs_hidden": false
    }
   },
   "outputs": [],
   "source": [
    "f(x) = arctan(x)\n",
    "\n",
    "g1 = limit(f(x), x=-oo)\n",
    "g2 = limit(f(x), x=oo)\n",
    "\n",
    "print('Granica przy x dążącym do -oo:', g1)\n",
    "print('Granica przy x dążącym do +oo:', g2)"
   ]
  },
  {
   "cell_type": "markdown",
   "metadata": {
    "collapsed": false,
    "jupyter": {
     "outputs_hidden": false
    }
   },
   "source": [
    "Zaznaczamy uzyskane granice dla funkcji $f$ na rysunku"
   ]
  },
  {
   "cell_type": "code",
   "execution_count": null,
   "metadata": {
    "collapsed": false,
    "jupyter": {
     "outputs_hidden": false
    }
   },
   "outputs": [],
   "source": [
    "funkcja = plot(f, (x, -10, 10), ymin=-2, ymax=2, color='gray', title='Granice w nieskończoności',\n",
    "               legend_label='$f(x) = \\\\operatorname{arctg}(x)$')\n",
    "granica1 = plot(g1, (x, -10, 10), color='red', linestyle='--',\n",
    "                legend_label='$\\\\lim_{x \\\\to -\\\\infty} f(x) = -\\\\dfrac{\\\\pi}{2}$')\n",
    "granica2 = plot(g2, (x, -10, 10), color='green', linestyle='--',\n",
    "                legend_label='$\\\\lim_{x \\\\to +\\\\infty} f(x) = \\\\dfrac{\\\\pi}{2}$')\n",
    "\n",
    "funkcja + granica1 + granica2"
   ]
  },
  {
   "cell_type": "markdown",
   "metadata": {
    "collapsed": false,
    "jupyter": {
     "outputs_hidden": false
    }
   },
   "source": [
    "Dla funkcji $g$ uzyskujemy granice równe odpowiednio $+\\infty$ oraz $-\\infty$. W takim wypadku mówimy, że <u>granica funkcji jest niewłaściwa</u>"
   ]
  },
  {
   "cell_type": "code",
   "execution_count": null,
   "metadata": {
    "collapsed": false,
    "jupyter": {
     "outputs_hidden": false
    }
   },
   "outputs": [],
   "source": [
    "g(x) = (x^3 + 1) / (1 - x^2)\n",
    "\n",
    "g1 = limit(g(x), x=-oo)\n",
    "g2 = limit(g(x), x=oo)\n",
    "\n",
    "print('Granica przy x dążącym do -oo:', g1)\n",
    "print('Granica przy x dążącym do +oo:', g2)"
   ]
  },
  {
   "cell_type": "markdown",
   "metadata": {
    "collapsed": false,
    "jupyter": {
     "outputs_hidden": false
    }
   },
   "source": [
    "Rysujemy wykres funkcji $g$"
   ]
  },
  {
   "cell_type": "code",
   "execution_count": null,
   "metadata": {
    "collapsed": false,
    "jupyter": {
     "outputs_hidden": false
    }
   },
   "outputs": [],
   "source": [
    "plot(g, (x, -5, 5), ymin=-10, ymax=10, detect_poles=True, color='black',\n",
    "     legend_label='$g(x) = \\\\dfrac{x^3 + 1}{1 - x^2}$', title='Granice funkcji $g$ w nieskończoności są niewłaściwe')"
   ]
  },
  {
   "cell_type": "markdown",
   "metadata": {
    "collapsed": false,
    "jupyter": {
     "outputs_hidden": false
    }
   },
   "source": [
    "----\n",
    "\n",
    "Granicę <u>w punkcie</u> $x_0 \\in \\mathbb{R}$ oznaczamy symbolem $\\lim\\limits_{x \\to x_0} f(x)$. Jest to liczba (lub $\\pm \\infty$), do której <u>zmierzają wartości funkcji</u> przy $x$ dążącym do $x_0$.\n",
    "\n",
    "---\n",
    "\n",
    "Przeanalizujmy kilka przykładów:\n",
    "\n",
    "1. Granica funkcji ciągłej w punkcie jest <u>równa wartości funkcji</u> w tym punkcie\n",
    "\n",
    "---\n",
    "\n",
    "**Przykład**\n",
    "\n",
    "$$f(x) = \\frac{1}{2}x - 1$$\n",
    "\n",
    "Policzymy $\\lim\\limits_{x \\to 3} f(x)$"
   ]
  },
  {
   "cell_type": "code",
   "execution_count": null,
   "metadata": {
    "collapsed": false,
    "jupyter": {
     "outputs_hidden": false
    }
   },
   "outputs": [],
   "source": [
    "f(x) = 1/2*x - 1\n",
    "x0 = 3\n",
    "\n",
    "g = limit(f(x), x=x0)\n",
    "print(f'Granica przy x dążącym do {x0} jest równa:', g)"
   ]
  },
  {
   "cell_type": "markdown",
   "metadata": {
    "collapsed": false,
    "jupyter": {
     "outputs_hidden": false
    }
   },
   "source": [
    "Przedstawiamy interpretację graficzną tej granicy"
   ]
  },
  {
   "cell_type": "code",
   "execution_count": null,
   "metadata": {
    "collapsed": false,
    "jupyter": {
     "outputs_hidden": false
    }
   },
   "outputs": [],
   "source": [
    "funkcja = plot(f, (x, -1, 5), color='blue', legend_label='$f(x) = \\\\dfrac{1}{2}x-1$')\n",
    "arr1 = arrow((2.5, 0), (3, 0), color='green', arrowsize=2)\n",
    "arr2 = arrow((3.5, 0), (3, 0), color='green', arrowsize=2)\n",
    "arr3 = arrow((2.5, f(2.5)), (3, f(3)), color='red', arrowsize=2)\n",
    "arr4 = arrow((3.5, f(3.5)), (3, f(3)), color='red', arrowsize=2)\n",
    "punkt = point((3, f(3)), color='black', size=30)\n",
    "txt1 = text('$x \\\\to 3$', (3.3, 0.1), color='black', fontsize=12)\n",
    "txt2 = text('$f(x) \\\\to \\\\dfrac{1}{2}$', (2.7, 0.7), color='black', fontsize=12)\n",
    "\n",
    "funkcja + arr1 + arr2 + arr3 + arr4 + punkt + txt1 + txt2"
   ]
  },
  {
   "cell_type": "markdown",
   "metadata": {
    "collapsed": false,
    "jupyter": {
     "outputs_hidden": false
    }
   },
   "source": [
    "2. Granica funkcji w punkcie może istnieć, nawet jeżeli <u>funkcja nie jest określona</u> w tym punkcie\n",
    "\n",
    "---\n",
    "\n",
    "**Przykład**\n",
    "\n",
    "$$f(x) = \\frac{x^3 - 3x - 2}{x + 1}$$\n",
    "\n",
    "Policzymy $\\lim\\limits_{x \\to -1} f(x)$"
   ]
  },
  {
   "cell_type": "code",
   "execution_count": null,
   "metadata": {
    "collapsed": false,
    "jupyter": {
     "outputs_hidden": false
    }
   },
   "outputs": [],
   "source": [
    "f(x) = (x^3 - 3*x - 2) / (x + 1)\n",
    "x0 = -1\n",
    "\n",
    "g = limit(f(x), x=x0)\n",
    "print(f'Granica przy x dążącym do {x0} jest równa:', g)"
   ]
  },
  {
   "cell_type": "markdown",
   "metadata": {
    "collapsed": false,
    "jupyter": {
     "outputs_hidden": false
    }
   },
   "source": [
    "Wyrażenie wymierne można skrócić"
   ]
  },
  {
   "cell_type": "code",
   "execution_count": null,
   "metadata": {
    "collapsed": false,
    "jupyter": {
     "outputs_hidden": false
    }
   },
   "outputs": [],
   "source": [
    "f(x).simplify_rational()"
   ]
  },
  {
   "cell_type": "markdown",
   "metadata": {
    "collapsed": false,
    "jupyter": {
     "outputs_hidden": false
    }
   },
   "source": [
    "Wobec tego wykres tej funkcji to <u>parabola bez punktu</u>"
   ]
  },
  {
   "cell_type": "code",
   "execution_count": null,
   "metadata": {
    "collapsed": false,
    "jupyter": {
     "outputs_hidden": false
    }
   },
   "outputs": [],
   "source": [
    "funkcja = plot(f, (x, -2, 3), color='blue', legend_label='$f(x) = \\\\dfrac{x^3 - 3x - 2}{x + 1}$', zorder=1)\n",
    "bezpunkt = point((-1, 0), color='white', markeredgecolor='blue', size=30, zorder=2)\n",
    "\n",
    "funkcja + bezpunkt"
   ]
  },
  {
   "cell_type": "markdown",
   "metadata": {
    "collapsed": false,
    "jupyter": {
     "outputs_hidden": false
    }
   },
   "source": [
    "3. Granica może być <u>niewłaściwa</u>\n",
    "\n",
    "---\n",
    "\n",
    "**Przykład**\n",
    "\n",
    "$$f(x) = \\frac{e^x}{x^2}$$\n",
    "\n",
    "Policzymy $\\lim\\limits_{x \\to 0} f(x)$"
   ]
  },
  {
   "cell_type": "code",
   "execution_count": null,
   "metadata": {
    "collapsed": false,
    "jupyter": {
     "outputs_hidden": false
    }
   },
   "outputs": [],
   "source": [
    "f(x) = exp(x) / x^2\n",
    "x0 = 0\n",
    "\n",
    "g = limit(f(x), x=x0)\n",
    "print(f'Granica przy x dążącym do {x0} jest równa:', g)"
   ]
  },
  {
   "cell_type": "markdown",
   "metadata": {
    "collapsed": false,
    "jupyter": {
     "outputs_hidden": false
    }
   },
   "source": [
    "Zobaczmy, jak to wygląda na rysunku"
   ]
  },
  {
   "cell_type": "code",
   "execution_count": null,
   "metadata": {
    "collapsed": false,
    "jupyter": {
     "outputs_hidden": false
    }
   },
   "outputs": [],
   "source": [
    "plot(f, (x, -2, 2), ymin=-1, ymax=21, detect_poles=True, color='black',\n",
    "     legend_label='$f(x) = \\\\dfrac{e^x}{x^2}$', title='Granica przy $x$ dążącym do 0 jest równa $+\\\\infty$')"
   ]
  },
  {
   "cell_type": "markdown",
   "metadata": {
    "collapsed": false,
    "jupyter": {
     "outputs_hidden": false
    }
   },
   "source": [
    "4. Granica może <u>nie istnieć</u>\n",
    "\n",
    "---\n",
    "\n",
    "**Przykład**\n",
    "\n",
    "$$f(x) = \\frac{1}{x-1}$$\n",
    "\n",
    "Policzymy $\\lim\\limits_{x \\to 1} f(x)$"
   ]
  },
  {
   "cell_type": "code",
   "execution_count": null,
   "metadata": {
    "collapsed": false,
    "jupyter": {
     "outputs_hidden": false
    }
   },
   "outputs": [],
   "source": [
    "f(x) = 1 / (x - 1)\n",
    "x0 = 1\n",
    "\n",
    "g = limit(f(x), x=x0)\n",
    "print(f'Granica przy x dążącym do {x0} jest równa:', g)"
   ]
  },
  {
   "cell_type": "markdown",
   "metadata": {
    "collapsed": false,
    "jupyter": {
     "outputs_hidden": false
    }
   },
   "source": [
    "Należy <u>uważać</u> na niektóre zwracane wyniki. W tym wypadku granica w punkcie 1 <u>nie istnieje</u>"
   ]
  },
  {
   "cell_type": "code",
   "execution_count": null,
   "metadata": {
    "collapsed": false,
    "jupyter": {
     "outputs_hidden": false
    }
   },
   "outputs": [],
   "source": [
    "plot(f, (x, -2, 3), ymin=-5, ymax=5, detect_poles=True, color='black', legend_label='$f(x) = \\\\dfrac{1}{x - 1}$',\n",
    "     title='Granica zależy od tego, z której strony zmierzamy do liczby 1, więc nie istnieje')"
   ]
  },
  {
   "cell_type": "markdown",
   "metadata": {
    "collapsed": false,
    "jupyter": {
     "outputs_hidden": false
    }
   },
   "source": [
    "### 2.5.2. Granice jednostronne<a class=\"anchor\" id=\"5-2\"></a>"
   ]
  },
  {
   "cell_type": "markdown",
   "metadata": {
    "collapsed": false,
    "jupyter": {
     "outputs_hidden": false
    }
   },
   "source": [
    "Granicę <u>w punkcie</u> $x_0 \\in \\mathbb{R}$ możemy również liczyć przy $x$ dążącym do $x_0$ z <u>lewej lub prawej strony</u>. W pierwszym wypadku granicę nazywamy <u>lewostronną</u> i&nbsp;oznaczamy $\\lim\\limits_{x \\to x_0^-} f(x)$, natomiast w drugim mówimy o granicy <u>prawostronnej</u> i oznaczamy ją $\\lim\\limits_{x \\to x_0^+} f(x)$.\n",
    "\n",
    "---\n",
    "\n",
    "W poprzednim przykładzie <u>granica nie istniała</u>, jednak <u>istnieją granice jednostronne</u> $\\lim\\limits_{x \\to 1^-} f(x)$ oraz $\\lim\\limits_{x \\to 1^+} f(x)$"
   ]
  },
  {
   "cell_type": "code",
   "execution_count": null,
   "metadata": {
    "collapsed": false,
    "jupyter": {
     "outputs_hidden": false
    }
   },
   "outputs": [],
   "source": [
    "g1 = limit(f(x), x=x0, dir='-')\n",
    "g2 = limit(f(x), x=x0, dir='+')\n",
    "\n",
    "print(f'Granica lewostronna w punkcie {x0} jest równa:', g1)\n",
    "print(f'Granica prawostronna w punkcie {x0} jest równa:', g2)"
   ]
  },
  {
   "cell_type": "markdown",
   "metadata": {
    "collapsed": false,
    "jupyter": {
     "outputs_hidden": false
    }
   },
   "source": [
    "Uzyskaliśmy <u>różne wartości</u> granic jednostronnych. Granica funkcji w punkcie <u>istnieje tylko wtedy, gdy granice jednostronne istnieją i są równe</u>. Wówczas jest ona równa <u>wspólnej wartości</u> tych granic\n",
    "\n",
    "$$\\lim\\limits_{x \\to x_0} f(x) = \\lim\\limits_{x \\to x_0^-} f(x) = \\lim\\limits_{x \\to x_0^+} f(x)$$\n",
    "\n",
    "---\n",
    "\n",
    "**Przykład**\n",
    "\n",
    "Zbadamy granice jednostronne w punkcie $x_0 = -1$ dla funkcji\n",
    "\n",
    "$$ f(x) = \\left\\{ \\begin{array}{ll} 2x + 4, & \\text{dla} \\ x \\leq -1 \\\\\n",
    "                                                 x^2 - 2x - 4, & \\text{dla} \\ x > -1 \\end{array} \\right. $$\n",
    "\n",
    "---\n",
    "\n",
    "Zaczynamy od zdefiniowania poszczególnych funkcji"
   ]
  },
  {
   "cell_type": "code",
   "execution_count": null,
   "metadata": {
    "collapsed": false,
    "jupyter": {
     "outputs_hidden": false
    }
   },
   "outputs": [],
   "source": [
    "f1(x) = 2*x + 4\n",
    "f2(x) = x^2 - 2*x - 4"
   ]
  },
  {
   "cell_type": "markdown",
   "metadata": {
    "collapsed": false,
    "jupyter": {
     "outputs_hidden": false
    }
   },
   "source": [
    "Z lewej strony punktu $x_0 = -1$ obowiązuje wzór funkcji $f_1$, więc stosujemy go do wyznaczenia <u>granicy lewostronnej</u>"
   ]
  },
  {
   "cell_type": "code",
   "execution_count": null,
   "metadata": {
    "collapsed": false,
    "jupyter": {
     "outputs_hidden": false
    }
   },
   "outputs": [],
   "source": [
    "x0 = -1\n",
    "\n",
    "g1 = limit(f1(x), x=x0, dir='-')\n",
    "print(f'Granica lewostronna w punkcie {x0} jest równa:', g1)"
   ]
  },
  {
   "cell_type": "markdown",
   "metadata": {
    "collapsed": false,
    "jupyter": {
     "outputs_hidden": false
    }
   },
   "source": [
    "Natomiast po prawej stronie mamy wzór funkcji $f_2$, wobec tego wykorzystujemy go w celu znalezienia <u>granicy prawostronnej</u>"
   ]
  },
  {
   "cell_type": "code",
   "execution_count": null,
   "metadata": {
    "collapsed": false,
    "jupyter": {
     "outputs_hidden": false
    }
   },
   "outputs": [],
   "source": [
    "g2 = limit(f2(x), x=x0, dir='+')\n",
    "print(f'Granica prawostronna w punkcie {x0} jest równa:', g2)"
   ]
  },
  {
   "cell_type": "markdown",
   "metadata": {
    "collapsed": false,
    "jupyter": {
     "outputs_hidden": false
    }
   },
   "source": [
    "Na koniec zobaczmy, jak to wygląda na wykresie"
   ]
  },
  {
   "cell_type": "code",
   "execution_count": null,
   "metadata": {
    "collapsed": false,
    "jupyter": {
     "outputs_hidden": false
    }
   },
   "outputs": [],
   "source": [
    "funkcja1 = plot(f1, (x, -4, -1), zorder=1)\n",
    "lewy = point((-1, 2), color='blue', size=30, zorder=2)\n",
    "prawy = point((-1, -1), color='white', markeredgecolor='blue', size=30, zorder=2)\n",
    "funkcja2 = plot(f2, (x, -1, 4), zorder=1)\n",
    "\n",
    "funkcja1 + lewy + prawy + funkcja2"
   ]
  },
  {
   "cell_type": "markdown",
   "metadata": {
    "collapsed": false,
    "jupyter": {
     "outputs_hidden": false
    }
   },
   "source": [
    "**Zadanie 2.5**\n",
    "\n",
    "a) <u>Oblicz granice</u>!\n",
    "\n",
    "$$\\bullet\\ \\lim\\limits_{x \\to -\\infty} x \\sin \\frac{1}{x}; \\quad \\quad \\bullet\\ \\lim\\limits_{x \\to -1} \\frac{2x^2 + 3x + 1}{(3x-1)(x+1)}; \\quad \\quad \\bullet\\ \\lim\\limits_{x \\to 1^+} \\frac{1}{x^2 - 4x + 3}; \\quad \\quad \\bullet\\ \\lim\\limits_{x \\to 1^-} \\frac{\\ln x}{|3x - 3|}.$$\n",
    "\n",
    "---\n",
    "\n",
    "b) Narysuj <u>wykresy dwóch wybranych funkcji</u> wraz z <u>interpretacją graficzną</u> granicy!"
   ]
  },
  {
   "cell_type": "markdown",
   "metadata": {
    "collapsed": false,
    "jupyter": {
     "outputs_hidden": false
    }
   },
   "source": [
    "<h1><center><b>Dużo uśmiechu dzisiaj! 😁</b></center></h1>"
   ]
  }
 ],
 "metadata": {
  "kernelspec": {
   "display_name": "SageMath 10.4",
   "language": "sage",
   "name": "sagemath"
  },
  "language_info": {
   "codemirror_mode": {
    "name": "ipython",
    "version": 3
   },
   "file_extension": ".py",
   "mimetype": "text/x-python",
   "name": "python",
   "nbconvert_exporter": "python",
   "pygments_lexer": "ipython3",
   "version": "3.10.12"
  }
 },
 "nbformat": 4,
 "nbformat_minor": 4
}
