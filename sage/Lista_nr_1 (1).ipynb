{
 "cells": [
  {
   "cell_type": "markdown",
   "metadata": {},
   "source": [
    "<h1 style='text-align:center'>Analiza matematyczna - PS</h1>\n",
    "<h2 style='text-align:center'>Informatyka, sem.I, studia niestacjonarne I stopnia, 2024/25</h2>\n",
    "<h3 style='text-align:left'>Lista nr 1: Funkcje jednej zmiennej. Własności funkcji</h3>"
   ]
  },
  {
   "cell_type": "markdown",
   "metadata": {},
   "source": [
    "Zad. 1. Sprawdzić, czy podane funkcje są rosnące na wskazanych zbiorach:\n",
    "\n",
    "a) $f(x)=x^2,\\ x\\in \\langle 0;\\infty)$<br><br>\n",
    "b) $g(x)=\\displaystyle\\frac{1}{x^4+1},\\ x\\in(-\\infty;0\\rangle$<br><br>\n",
    "c) $h(x)=\\sqrt[3]{x},\\ x\\in(-\\infty;0\\rangle;$ <br><br>\n",
    "d) $p(x)=\\sqrt{x+1},\\ x\\in\\langle -1;\\infty)$<br><br>"
   ]
  },
  {
   "cell_type": "code",
   "execution_count": 8,
   "metadata": {},
   "outputs": [
    {
     "ename": "ValueError",
     "evalue": "Assumption is redundant",
     "output_type": "error",
     "traceback": [
      "\u001b[0;31m---------------------------------------------------------------------------\u001b[0m",
      "\u001b[0;31mValueError\u001b[0m                                Traceback (most recent call last)",
      "Cell \u001b[0;32mIn[8], line 2\u001b[0m\n\u001b[1;32m      1\u001b[0m __tmp__\u001b[38;5;241m=\u001b[39mvar(\u001b[38;5;124m\"\u001b[39m\u001b[38;5;124mx\u001b[39m\u001b[38;5;124m\"\u001b[39m); f \u001b[38;5;241m=\u001b[39m symbolic_expression(x\u001b[38;5;241m*\u001b[39m\u001b[38;5;241m*\u001b[39mInteger(\u001b[38;5;241m2\u001b[39m))\u001b[38;5;241m.\u001b[39mfunction(x)\n\u001b[0;32m----> 2\u001b[0m \u001b[43massume\u001b[49m\u001b[43m(\u001b[49m\u001b[43mx\u001b[49m\u001b[38;5;241;43m>\u001b[39;49m\u001b[38;5;241;43m=\u001b[39;49m\u001b[43mInteger\u001b[49m\u001b[43m(\u001b[49m\u001b[38;5;241;43m1\u001b[39;49m\u001b[43m)\u001b[49m\u001b[43m)\u001b[49m\n\u001b[1;32m      3\u001b[0m A \u001b[38;5;241m=\u001b[39m solve(f(Integer(\u001b[38;5;241m1\u001b[39m)))\n\u001b[1;32m      4\u001b[0m show(A)\n",
      "File \u001b[0;32m~/sage/src/sage/symbolic/assumptions.py:677\u001b[0m, in \u001b[0;36massume\u001b[0;34m(*args)\u001b[0m\n\u001b[1;32m    675\u001b[0m     assume(\u001b[38;5;241m*\u001b[39mx)\n\u001b[1;32m    676\u001b[0m \u001b[38;5;28;01melse\u001b[39;00m:\n\u001b[0;32m--> 677\u001b[0m     \u001b[43mx\u001b[49m\u001b[38;5;241;43m.\u001b[39;49m\u001b[43massume\u001b[49m\u001b[43m(\u001b[49m\u001b[43m)\u001b[49m\n",
      "File \u001b[0;32m~/sage/src/sage/symbolic/expression.pyx:2378\u001b[0m, in \u001b[0;36msage.symbolic.expression.Expression.assume\u001b[0;34m()\u001b[0m\n\u001b[1;32m   2376\u001b[0m pynac_assume_rel(self._gobj)\n\u001b[1;32m   2377\u001b[0m if str(s._sage_()[0]) in ['meaningless','inconsistent','redundant']:\n\u001b[0;32m-> 2378\u001b[0m     raise ValueError(\"Assumption is %s\" % str(s._sage_()[0]))\n\u001b[1;32m   2379\u001b[0m _assumptions[self] = True\n\u001b[1;32m   2380\u001b[0m \n",
      "\u001b[0;31mValueError\u001b[0m: Assumption is redundant"
     ]
    }
   ],
   "source": [
    "f(x) = x^2\n",
    "assume(x>=1)\n",
    "A = solve(f(1))\n",
    "show(A)"
   ]
  },
  {
   "cell_type": "markdown",
   "metadata": {},
   "source": [
    "Zad. 2. Sprawdzić, czy podane funkcje są malejące na wskazanych zbiorach:\n",
    "\n",
    "a) $f(x)=3-4x,\\ x\\in\\mathbb{R}$<br><br>\n",
    "b) $g(x)=x^2-2x,\\ x\\in(-\\infty;1\\rangle$<br><br>\n",
    "c) $h(x)=\\displaystyle\\frac{1}{1+x^2},\\ x\\in\\langle 0;\\infty)$<br><br>\n",
    "d) $p(x)=\\displaystyle\\frac{1}{1+x},\\ x\\in(-\\infty;-1)$<br><br>"
   ]
  },
  {
   "cell_type": "code",
   "execution_count": null,
   "metadata": {},
   "outputs": [],
   "source": []
  },
  {
   "cell_type": "markdown",
   "metadata": {},
   "source": [
    "\n",
    "Zad. 3. Sprawdzić, czy podane funkcje są różnowartościowe na wskazanych\n",
    "zbiorach:\n",
    "\n",
    "a) $f(x)=x^3+1,\\ x\\in\\mathbb{R}$<br><br>\n",
    "b) $g(x)=\\displaystyle\\frac{1}{x^2},\\ x\\in(-\\infty;0)$<br><br>\n",
    "c) $h(x)=\\sqrt{x}+1,\\ x\\in\\langle 0;\\infty)$<br><br>"
   ]
  },
  {
   "cell_type": "code",
   "execution_count": null,
   "metadata": {},
   "outputs": [],
   "source": []
  },
  {
   "cell_type": "markdown",
   "metadata": {},
   "source": [
    "Zad. 4. Sprawdzić, które z podanych funkcji są parzyste, a które nieparzyste:\n",
    "\n",
    "a) $\\displaystyle f(x)=x^4-3x^2+1$<br><br>\n",
    "b) $\\displaystyle g(x)=2^x+2^{-x}$<br><br>\n",
    "c) $\\displaystyle h(x)=|\\sin x|$<br><br>\n",
    "d) $\\displaystyle p(x)=\\frac{\\sin x}{x^3}$<br><br>\n",
    "e) $\\displaystyle f(x)=\\frac{2+x^2}{x^5},$<br><br>\n",
    "f) $\\displaystyle g(x)=\\sin^3 x$<br><br>\n",
    "g) $\\displaystyle h(x)=3^x-3^{-x}$<br><br>\n",
    "h) $\\displaystyle p(x)=x|x|$<br><br>"
   ]
  },
  {
   "cell_type": "code",
   "execution_count": null,
   "metadata": {},
   "outputs": [],
   "source": []
  },
  {
   "cell_type": "markdown",
   "metadata": {},
   "source": [
    "Zad. 5. Określić funkcje złożone $f\\circ f$, $f\\circ g$, $g\\circ f$,\n",
    "$g\\circ g$ oraz ich dziedziny, jeżeli:\n",
    "\n",
    "a) $\\displaystyle f(x)=|x|, \\ g(x)=-3x+2$<br><br>\n",
    "b) $\\displaystyle f(x)=\\sqrt{x},\\ g(x)=x^3+1$<br><br>\n",
    "c) $\\displaystyle f(x)=x^2,\\ g(x)=\\sqrt{x},$<br><br>\n",
    "d) $\\displaystyle f(x)=2^x,\\ g(x)=\\cos x$<br><br>\n",
    "e) $\\displaystyle f(x)=x^3,\\ g(x)=\\frac{1}{\\sqrt[3]{x}}$<br><br>\n",
    "f) $\\displaystyle f(x)=\\frac{x}{1+x^2},\\ g(x)=\\frac{1}{x},$<br><br>\n",
    "g) $\\displaystyle f(x)=\\log x,\\ g(x)=x^2+1.$"
   ]
  },
  {
   "cell_type": "code",
   "execution_count": null,
   "metadata": {},
   "outputs": [],
   "source": []
  },
  {
   "cell_type": "markdown",
   "metadata": {},
   "source": [
    "Zad. 6. Znaleźć funkcję odwrotną do podanej:\n",
    "\n",
    "a) $\\displaystyle f(x)=x^2-2x,\\ x\\in\\langle 1;\\infty)$<br><br>\n",
    "b) $\\displaystyle g(x)=2-\\sqrt[5]{x+1},\\ x\\in\\mathbb{R}$<br><br>\n",
    "c) $\\displaystyle h(x)=x^3|x|,\\ x\\in\\mathbb{R},$<br><br>\n",
    "d) $\\displaystyle p(x)=\\left\\{\n",
    "\\begin{array}{rrr}\n",
    "3^x & \\mbox{ dla } &x<0\\\\\n",
    "5^x & \\mbox{ dla } &x\\geqslant 0\n",
    "\\end{array}\\right.\n",
    ",\\ x\\in\\mathbb{R}$<br><br>\n",
    "e) $\\displaystyle f(x)=1-3^{-x}$<br><br>\n",
    "f) $\\displaystyle g(x)=x^5+\\sqrt{3},$<br><br>\n",
    "g) $\\displaystyle h(x)=x^6\\mathrm{sgn\\,}x$<br><br>\n",
    "h) $\\displaystyle  q(x)=\\left\\{\n",
    "\\begin{array}{rrr}\n",
    "-x^2 & \\mbox{ dla } &x<0\\\\\n",
    "2+x & \\mbox{ dla } &x\\geqslant 0\n",
    "\\end{array}\\right.\n",
    ",\\ x\\in\\mathbb{R}$<br><br>\n",
    "i) $\\displaystyle f(x)=\\frac{x}{1+|x|}.$"
   ]
  },
  {
   "cell_type": "code",
   "execution_count": null,
   "metadata": {},
   "outputs": [],
   "source": []
  }
 ],
 "metadata": {
  "kernelspec": {
   "display_name": "SageMath 10.4",
   "language": "sage",
   "name": "sagemath"
  },
  "language_info": {
   "codemirror_mode": {
    "name": "ipython",
    "version": 3
   },
   "file_extension": ".py",
   "mimetype": "text/x-python",
   "name": "python",
   "nbconvert_exporter": "python",
   "pygments_lexer": "ipython3",
   "version": "3.10.12"
  }
 },
 "nbformat": 4,
 "nbformat_minor": 4
}
