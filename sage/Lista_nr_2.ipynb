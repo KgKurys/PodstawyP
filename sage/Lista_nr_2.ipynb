{
 "cells": [
  {
   "cell_type": "markdown",
   "metadata": {},
   "source": [
    "#### <h1 style='text-align:center'>Analiza matematyczna - PS</h1>\n",
    "<h2 style='text-align:center'>Informatyka, sem.I, studia niestacjonarne I stopnia, 2024/25</h2>\n",
    "<h3 style='text-align:left'>Lista nr 2: Ciągi lczbowe</h3>\n",
    "\n"
   ]
  },
  {
   "cell_type": "markdown",
   "metadata": {},
   "source": [
    "Zad. 1. Zbadać monotoniczność ciągu o wyrazie ogólnym:\n",
    "\n",
    "a) $a_n=\\frac{n^2-1}{n^2+1}$\n",
    "\n",
    "b) $a_n=\\frac{3n-2}{4n+5}$\n",
    "\n",
    "c) $a_n=\\frac{3n-2}{3-2n}$\n",
    "\n",
    "d) $a_n=\\frac{n}{\\sqrt{n}+1}$\n",
    "\n",
    "e) $a_n=\\sqrt{n+3}$\n",
    "\n",
    "f) $a_n=-\\frac{1}{n^2+n+1}$\n",
    "\n"
   ]
  },
  {
   "cell_type": "code",
   "execution_count": 6,
   "metadata": {},
   "outputs": [
    {
     "data": {
      "text/html": [
       "<html>\\(\\displaystyle \\frac{2 \\, {\\left(2 \\, n + 1\\right)}}{{\\left(n^{2} + 2 \\, n + 2\\right)} {\\left(n^{2} + 1\\right)}}\\)</html>"
      ],
      "text/latex": [
       "$\\displaystyle \\frac{2 \\, {\\left(2 \\, n + 1\\right)}}{{\\left(n^{2} + 2 \\, n + 2\\right)} {\\left(n^{2} + 1\\right)}}$"
      ],
      "text/plain": [
       "2*(2*n + 1)/((n^2 + 2*n + 2)*(n^2 + 1))"
      ]
     },
     "metadata": {},
     "output_type": "display_data"
    }
   ],
   "source": [
    "#a\n",
    "a(n) = (n^2-1)/(n^2+1)\n",
    "r(n) = a(n+1)-a(n)\n",
    "show(r(n).factor())\n",
    "\n",
    "#ciąg rosnący\n"
   ]
  },
  {
   "cell_type": "code",
   "execution_count": 11,
   "metadata": {},
   "outputs": [
    {
     "data": {
      "text/html": [
       "<html>\\(\\displaystyle -\\frac{\\sqrt{n + 1} n - n^{\\frac{3}{2}} - \\sqrt{n} - 1}{{\\left(\\sqrt{n + 1} + 1\\right)} {\\left(\\sqrt{n} + 1\\right)}}\\)</html>"
      ],
      "text/latex": [
       "$\\displaystyle -\\frac{\\sqrt{n + 1} n - n^{\\frac{3}{2}} - \\sqrt{n} - 1}{{\\left(\\sqrt{n + 1} + 1\\right)} {\\left(\\sqrt{n} + 1\\right)}}$"
      ],
      "text/plain": [
       "-(sqrt(n + 1)*n - n^(3/2) - sqrt(n) - 1)/((sqrt(n + 1) + 1)*(sqrt(n) + 1))"
      ]
     },
     "metadata": {},
     "output_type": "display_data"
    },
    {
     "data": {
      "text/html": [
       "<html>\\(\\displaystyle \\frac{{\\left(n + 1\\right)} \\sqrt{n} - \\sqrt{n + 1} n + 1}{\\sqrt{n + 1} {\\left(\\sqrt{n} + 1\\right)} + \\sqrt{n} + 1}\\)</html>"
      ],
      "text/latex": [
       "$\\displaystyle \\frac{{\\left(n + 1\\right)} \\sqrt{n} - \\sqrt{n + 1} n + 1}{\\sqrt{n + 1} {\\left(\\sqrt{n} + 1\\right)} + \\sqrt{n} + 1}$"
      ],
      "text/plain": [
       "((n + 1)*sqrt(n) - sqrt(n + 1)*n + 1)/(sqrt(n + 1)*(sqrt(n) + 1) + sqrt(n) + 1)"
      ]
     },
     "metadata": {},
     "output_type": "display_data"
    }
   ],
   "source": [
    "#d\n",
    "a(n) = n/(sqrt(n)+1)\n",
    "r(n) = a(n+1)-a(n)\n",
    "show(r(n).factor())\n",
    "\n",
    "show(r(n).full_simplify())\n",
    "#ciąg jest rosnący"
   ]
  },
  {
   "cell_type": "markdown",
   "metadata": {},
   "source": [
    "Zad. 2. Korzystając z twierdzenia o ciągu monotonicznym i ograniczonym\n",
    "uzasadnić zbieżność podanych ciągów:\n",
    "\n",
    "a) $a_n=\\frac{(n!)^2}{(2n)!}$\n",
    "\n",
    "b) $b_n=\\frac{1}{n+1}+\\frac{1}{n+2}+\\cdots +\\frac{1}{2n}$\n",
    "\n",
    "c) $c_n=\\frac{n^3}{10^n}$\n",
    "\n",
    "d) $d_n=\\frac{1}{4^1+1!}+\\frac{1}{4^2+2!}+\\cdots +\\frac{1}{4^n+n!}$\n",
    "\n"
   ]
  },
  {
   "cell_type": "code",
   "execution_count": 20,
   "metadata": {},
   "outputs": [
    {
     "data": {
      "text/html": [
       "<html>\\(\\displaystyle \\frac{n + 1}{2 \\, {\\left(2 \\, n + 1\\right)}}\\)</html>"
      ],
      "text/latex": [
       "$\\displaystyle \\frac{n + 1}{2 \\, {\\left(2 \\, n + 1\\right)}}$"
      ],
      "text/plain": [
       "1/2*(n + 1)/(2*n + 1)"
      ]
     },
     "metadata": {},
     "output_type": "display_data"
    }
   ],
   "source": [
    "#a\n",
    "a(n) = (n.factorial())^2/((2*n).factorial())\n",
    "il(n) = a(n+1)/a(n)\n",
    "show(il(n).full_simplify())\n",
    "#odp. Ciąg jest malejący i ograniczony z dołu np. przez 0, więc jest zbieżny"
   ]
  },
  {
   "cell_type": "code",
   "execution_count": 25,
   "metadata": {},
   "outputs": [
    {
     "data": {
      "text/html": [
       "<html>\\(\\displaystyle -H_{2*n} + H_{2*n + 2} - H_{n + 1} + H_{n}\\)</html>"
      ],
      "text/latex": [
       "$\\displaystyle -H_{2*n} + H_{2*n + 2} - H_{n + 1} + H_{n}$"
      ],
      "text/plain": [
       "-harmonic_number(2*n) + harmonic_number(2*n + 2) - harmonic_number(n + 1) + harmonic_number(n)"
      ]
     },
     "metadata": {},
     "output_type": "display_data"
    },
    {
     "data": {
      "text/html": [
       "<html>\\(\\displaystyle -H_{2*n} + H_{2*n + 2} - H_{n + 1} + H_{n}\\)</html>"
      ],
      "text/latex": [
       "$\\displaystyle -H_{2*n} + H_{2*n + 2} - H_{n + 1} + H_{n}$"
      ],
      "text/plain": [
       "-harmonic_number(2*n) + harmonic_number(2*n + 2) - harmonic_number(n + 1) + harmonic_number(n)"
      ]
     },
     "metadata": {},
     "output_type": "display_data"
    },
    {
     "data": {
      "text/html": [
       "<html>\\(\\displaystyle \\frac{1}{2 \\, {\\left(2 \\, n + 1\\right)} {\\left(n + 1\\right)}}\\)</html>"
      ],
      "text/latex": [
       "$\\displaystyle \\frac{1}{2 \\, {\\left(2 \\, n + 1\\right)} {\\left(n + 1\\right)}}$"
      ],
      "text/plain": [
       "1/2/((2*n + 1)*(n + 1))"
      ]
     },
     "metadata": {},
     "output_type": "display_data"
    }
   ],
   "source": [
    "#b\n",
    "var('k')\n",
    "b(n) = sum(1/(n+k),k,1,n)\n",
    "r(n) = b(n+1) -b(n)\n",
    "show(r(n).factor())\n",
    "show(r(n).full_simplify())\n",
    "c = 1/(2*n+1)+1/(2*n+2)-1/(n+1)\n",
    "show(c.factor())\n",
    "\n",
    "#ciąg I jest ograniczony z g\\ory przez jedynek zatem jest zbieżny"
   ]
  },
  {
   "cell_type": "markdown",
   "metadata": {},
   "source": [
    "Zad. 3. Obliczyć granicę ciągu o wyrazie ogólnym:\n",
    "\n",
    "a) $\\sqrt[n]{n2^n+1}$\n",
    "\n",
    "b) $\\frac{2^n\\sin n}{3^n+1}$\n",
    "\n",
    "c) $\\sqrt[n]{\\frac{3^n+2^n}{5^n+4^n}}$\n",
    "\n",
    "d) $\\frac{2n^2+\\sin n!}{4n^2-3\\cos n^2}$\n",
    "\n",
    "e) $\\sqrt[n]{3+\\sin n}$\n",
    "\n",
    "f) $\\sqrt[n]{1+5n^2+3n^5} $\n",
    "\n",
    "g) $\\sqrt[n]{n^n+5} $\n",
    "\n",
    "h) $3^n\\cos n-4^n $\n",
    "\n",
    "i) $(\\sin n-2)n^2 $\n",
    "\n",
    "j) $n^5-10n^6+1 $\n",
    "\n",
    "k) $[3+(-1)^n]^n $\n",
    "\n"
   ]
  },
  {
   "cell_type": "code",
   "execution_count": 2,
   "metadata": {},
   "outputs": [
    {
     "data": {
      "text/plain": [
       "2"
      ]
     },
     "execution_count": 2,
     "metadata": {},
     "output_type": "execute_result"
    }
   ],
   "source": [
    "#A\n",
    "var(\"n\")\n",
    "limit((n*2^n+1)^(1/n),n=oo)"
   ]
  },
  {
   "cell_type": "code",
   "execution_count": 4,
   "metadata": {},
   "outputs": [
    {
     "data": {
      "text/plain": [
       "3/5"
      ]
     },
     "execution_count": 4,
     "metadata": {},
     "output_type": "execute_result"
    }
   ],
   "source": [
    "#c\n",
    "var(\"n\")\n",
    "limit(((3^n+2^n)/(5^n+4^n))^(1/n),n=oo)"
   ]
  },
  {
   "cell_type": "code",
   "execution_count": null,
   "metadata": {},
   "outputs": [],
   "source": []
  }
 ],
 "metadata": {
  "kernelspec": {
   "display_name": "SageMath 10.4",
   "language": "sage",
   "name": "sagemath"
  },
  "language_info": {
   "codemirror_mode": {
    "name": "ipython",
    "version": 3
   },
   "file_extension": ".py",
   "mimetype": "text/x-python",
   "name": "python",
   "nbconvert_exporter": "python",
   "pygments_lexer": "ipython3",
   "version": "3.10.12"
  }
 },
 "nbformat": 4,
 "nbformat_minor": 4
}
