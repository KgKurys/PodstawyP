{
 "cells": [
  {
   "cell_type": "code",
   "execution_count": 13,
   "id": "5e98648c-a264-4739-9672-e72db1fa4365",
   "metadata": {},
   "outputs": [
    {
     "data": {
      "text/html": [
       "<html>\\(\\displaystyle \\frac{1}{\\cos\\left(\\frac{1}{6} \\, \\pi + x\\right)}\\)</html>"
      ],
      "text/latex": [
       "$\\displaystyle \\frac{1}{\\cos\\left(\\frac{1}{6} \\, \\pi + x\\right)}$"
      ],
      "text/plain": [
       "1/cos(1/6*pi + x)"
      ]
     },
     "metadata": {},
     "output_type": "display_data"
    },
    {
     "data": {
      "text/html": [
       "<html>\\(\\displaystyle \\verb|Funkcja|\\verb| |\\verb|odwrotna|\\verb| |\\verb|do|\\verb| |\\verb|funkcji|\\verb| |\\verb|f(x)|\\verb| |\\verb|jest|\\verb| |\\verb|funkcja| \\left[x = -\\frac{1}{6} \\, \\pi + \\arccos\\left(\\frac{1}{y}\\right)\\right]\\)</html>"
      ],
      "text/latex": [
       "$\\displaystyle \\verb|Funkcja|\\verb| |\\verb|odwrotna|\\verb| |\\verb|do|\\verb| |\\verb|funkcji|\\verb| |\\verb|f(x)|\\verb| |\\verb|jest|\\verb| |\\verb|funkcja| \\left[x = -\\frac{1}{6} \\, \\pi + \\arccos\\left(\\frac{1}{y}\\right)\\right]$"
      ],
      "text/plain": [
       "'Funkcja odwrotna do funkcji f(x) jest funkcja' [x == -1/6*pi + arccos(1/y)]"
      ]
     },
     "metadata": {},
     "output_type": "display_data"
    }
   ],
   "source": [
    "# zad 1\n",
    "var('y')\n",
    "assume(x>0,x<1)\n",
    "f(x) = 1/(cos(x + (pi/6)))\n",
    "a = (solve(y == f(x),x))\n",
    "show(f(x))\n",
    "show(\"Funkcja odwrotna do funkcji f(x) jest funkcja\", a)"
   ]
  },
  {
   "cell_type": "code",
   "execution_count": 12,
   "id": "1707e628-cab2-4f5e-b209-1306a38a1133",
   "metadata": {},
   "outputs": [
    {
     "data": {
      "text/html": [
       "<html>\\(\\displaystyle \\mathrm{True}\\)</html>"
      ],
      "text/latex": [
       "$\\displaystyle \\mathrm{True}$"
      ],
      "text/plain": [
       "True"
      ]
     },
     "metadata": {},
     "output_type": "display_data"
    },
    {
     "data": {
      "image/png": "[encoded data removed]",
      "text/plain": [
       "Graphics object consisting of 1 graphics primitive"
      ]
     },
     "metadata": {},
     "output_type": "display_data"
    }
   ],
   "source": [
    "#zad 2\n",
    "forget()\n",
    "x1,x2 = var(\"x1\",\"x2\")\n",
    "assume(x1 != x2, x1<0, x2 < -5)\n",
    "f(x) = 1/((x^3)+1)\n",
    "show(bool(f(x1)!=f(x2)))\n",
    "show(plot(f(x)))\n",
    "#Funkcja f(x) w przedziale x nalezacym do (-niesk.,do -5) jest rożnowartosciowa"
   ]
  },
  {
   "cell_type": "code",
   "execution_count": 14,
   "id": "945d13e1-8148-4520-b5a9-e694414fd9c1",
   "metadata": {},
   "outputs": [
    {
     "data": {
      "text/html": [
       "<html>\\(\\displaystyle -\\frac{3 \\, n^{2} + 9 \\, n + 2}{{\\left(3 \\, n + 2\\right)} {\\left(3 \\, n - 1\\right)} {\\left(n + 1\\right)} n}\\)</html>"
      ],
      "text/latex": [
       "$\\displaystyle -\\frac{3 \\, n^{2} + 9 \\, n + 2}{{\\left(3 \\, n + 2\\right)} {\\left(3 \\, n - 1\\right)} {\\left(n + 1\\right)} n}$"
      ],
      "text/plain": [
       "-(3*n^2 + 9*n + 2)/((3*n + 2)*(3*n - 1)*(n + 1)*n)"
      ]
     },
     "metadata": {},
     "output_type": "display_data"
    },
    {
     "data": {
      "text/html": [
       "<html>\\(\\displaystyle -\\frac{3 \\, n^{2} + 9 \\, n + 2}{9 \\, n^{4} + 12 \\, n^{3} + n^{2} - 2 \\, n}\\)</html>"
      ],
      "text/latex": [
       "$\\displaystyle -\\frac{3 \\, n^{2} + 9 \\, n + 2}{9 \\, n^{4} + 12 \\, n^{3} + n^{2} - 2 \\, n}$"
      ],
      "text/plain": [
       "-(3*n^2 + 9*n + 2)/(9*n^4 + 12*n^3 + n^2 - 2*n)"
      ]
     },
     "metadata": {},
     "output_type": "display_data"
    },
    {
     "data": {
      "text/html": [
       "<html>\\(\\displaystyle \\frac{n + 1}{3 \\, n^{2} - n}\\)</html>"
      ],
      "text/latex": [
       "$\\displaystyle \\frac{n + 1}{3 \\, n^{2} - n}$"
      ],
      "text/plain": [
       "(n + 1)/(3*n^2 - n)"
      ]
     },
     "metadata": {},
     "output_type": "display_data"
    }
   ],
   "source": [
    "#zad 3\n",
    "a(n) = (n+1)/(3*n^2-n)\n",
    "r(n) = a(n+1)-a(n)\n",
    "show(r(n).factor())\n",
    "show(r(n).full_simplify())\n",
    "show(plot(a(n)))"
   ]
  },
  {
   "cell_type": "code",
   "execution_count": null,
   "id": "c275f21d-f17a-4506-9b64-550070fc447c",
   "metadata": {},
   "outputs": [],
   "source": []
  },
  {
   "cell_type": "code",
   "execution_count": null,
   "id": "3265f3d2-40d7-4c5b-8b38-fe92eab50bcb",
   "metadata": {},
   "outputs": [],
   "source": []
  }
 ],
 "metadata": {
  "kernelspec": {
   "display_name": "SageMath 10.4",
   "language": "sage",
   "name": "sagemath"
  },
  "language_info": {
   "codemirror_mode": {
    "name": "ipython",
    "version": 3
   },
   "file_extension": ".py",
   "mimetype": "text/x-python",
   "name": "python",
   "nbconvert_exporter": "python",
   "pygments_lexer": "ipython3",
   "version": "3.10.12"
  }
 },
 "nbformat": 4,
 "nbformat_minor": 5
}
